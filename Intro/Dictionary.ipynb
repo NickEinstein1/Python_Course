{
 "cells": [
  {
   "cell_type": "markdown",
   "id": "occasional-casino",
   "metadata": {},
   "source": [
    "# Dictionary"
   ]
  },
  {
   "cell_type": "markdown",
   "id": "agreed-pharmacology",
   "metadata": {},
   "source": [
    "## What is a Dictionary?"
   ]
  },
  {
   "cell_type": "markdown",
   "id": "identical-enclosure",
   "metadata": {},
   "source": [
    "Let's say we want to store employee data; name, age, department"
   ]
  },
  {
   "cell_type": "code",
   "execution_count": 1,
   "id": "impossible-invite",
   "metadata": {},
   "outputs": [],
   "source": [
    "employee = {\n",
    "    'name': 'Klark Kent',\n",
    "    \"age\": 37,\n",
    "    \"department\": 'News Service'\n",
    "}"
   ]
  },
  {
   "cell_type": "markdown",
   "id": "detailed-sentence",
   "metadata": {},
   "source": [
    "We can think of Dictionaries as a general form Lists."
   ]
  },
  {
   "cell_type": "markdown",
   "id": "public-south",
   "metadata": {},
   "source": [
    "In List, indices are integer (int) and they are defined implicitly by Python."
   ]
  },
  {
   "cell_type": "markdown",
   "id": "fluid-independence",
   "metadata": {},
   "source": [
    "You don't define indices for lists."
   ]
  },
  {
   "cell_type": "markdown",
   "id": "affiliated-principle",
   "metadata": {},
   "source": [
    "But for Dictionary, we define indices manually, and they do not have to be integers. They may be any suitable type."
   ]
  },
  {
   "cell_type": "markdown",
   "id": "chinese-cologne",
   "metadata": {},
   "source": [
    "Element Structure:\n",
    "\n",
    "{ key : value }"
   ]
  },
  {
   "cell_type": "markdown",
   "id": "right-caution",
   "metadata": {},
   "source": [
    "So in a dictionary, each **key** is mapped to a **value**.\n",
    "\n",
    "Key-Value pairs."
   ]
  },
  {
   "cell_type": "markdown",
   "id": "received-uniform",
   "metadata": {},
   "source": [
    "| Key | Value |\n",
    "| --- | --- |\n",
    "| name | Klark Kent |\n",
    "| age | 37 |\n",
    "| department | News Service |"
   ]
  },
  {
   "cell_type": "markdown",
   "id": "certain-recorder",
   "metadata": {},
   "source": [
    "**Keys** must be unique.\n",
    "\n",
    "You can not have duplicate keys."
   ]
  },
  {
   "cell_type": "code",
   "execution_count": 2,
   "id": "italian-thanks",
   "metadata": {},
   "outputs": [],
   "source": [
    "numbers = {\n",
    "    1: \"one\",\n",
    "    2: \"two\",\n",
    "    3: 'three',\n",
    "    4: 'four'\n",
    "}"
   ]
  },
  {
   "cell_type": "markdown",
   "id": "first-admission",
   "metadata": {},
   "source": [
    "## Creating a Dictionary"
   ]
  },
  {
   "cell_type": "markdown",
   "id": "commercial-launch",
   "metadata": {},
   "source": [
    "List -> create list [] -> list()\n",
    "\n",
    "**Dictionary** -> create dict **{}** -> **dict()**"
   ]
  },
  {
   "cell_type": "markdown",
   "id": "coated-jefferson",
   "metadata": {},
   "source": [
    "**{}:**"
   ]
  },
  {
   "cell_type": "code",
   "execution_count": 7,
   "id": "secondary-sharing",
   "metadata": {},
   "outputs": [],
   "source": [
    "# empty dict\n",
    "\n",
    "cars_empty = {}"
   ]
  },
  {
   "cell_type": "code",
   "execution_count": 8,
   "id": "fatty-division",
   "metadata": {},
   "outputs": [
    {
     "data": {
      "text/plain": [
       "dict"
      ]
     },
     "execution_count": 8,
     "metadata": {},
     "output_type": "execute_result"
    }
   ],
   "source": [
    "type(cars_empty)"
   ]
  },
  {
   "cell_type": "code",
   "execution_count": 9,
   "id": "hidden-brooklyn",
   "metadata": {},
   "outputs": [],
   "source": [
    "# dict with elements\n",
    "\n",
    "cars = {\n",
    "    'Audi': 'Germany',\n",
    "    'Mazda': 'Japan',\n",
    "    'Fiat': 'Italy'\n",
    "}"
   ]
  },
  {
   "cell_type": "code",
   "execution_count": 10,
   "id": "absent-programmer",
   "metadata": {},
   "outputs": [
    {
     "data": {
      "text/plain": [
       "{'Audi': 'Germany', 'Mazda': 'Japan', 'Fiat': 'Italy'}"
      ]
     },
     "execution_count": 10,
     "metadata": {},
     "output_type": "execute_result"
    }
   ],
   "source": [
    "cars"
   ]
  },
  {
   "cell_type": "code",
   "execution_count": 11,
   "id": "joined-monthly",
   "metadata": {},
   "outputs": [
    {
     "name": "stdout",
     "output_type": "stream",
     "text": [
      "{'Audi': 'Germany', 'Mazda': 'Japan', 'Fiat': 'Italy'}\n"
     ]
    }
   ],
   "source": [
    "print(cars)"
   ]
  },
  {
   "cell_type": "code",
   "execution_count": 12,
   "id": "extraordinary-debut",
   "metadata": {},
   "outputs": [
    {
     "data": {
      "text/plain": [
       "dict"
      ]
     },
     "execution_count": 12,
     "metadata": {},
     "output_type": "execute_result"
    }
   ],
   "source": [
    "type(cars)"
   ]
  },
  {
   "cell_type": "markdown",
   "id": "liberal-ratio",
   "metadata": {},
   "source": [
    "**dict():**"
   ]
  },
  {
   "cell_type": "code",
   "execution_count": 14,
   "id": "planned-specialist",
   "metadata": {},
   "outputs": [],
   "source": [
    "# empty dict\n",
    "\n",
    "cars_empty_2 = dict()"
   ]
  },
  {
   "cell_type": "code",
   "execution_count": 15,
   "id": "pretty-farming",
   "metadata": {},
   "outputs": [
    {
     "data": {
      "text/plain": [
       "dict"
      ]
     },
     "execution_count": 15,
     "metadata": {},
     "output_type": "execute_result"
    }
   ],
   "source": [
    "type(cars_empty_2)"
   ]
  },
  {
   "cell_type": "code",
   "execution_count": 16,
   "id": "criminal-laundry",
   "metadata": {},
   "outputs": [],
   "source": [
    "# dict with elements\n",
    "\n",
    "cars_2 = dict({\n",
    "    'Audi': 'Germany',\n",
    "    'Mazda': 'Japan',\n",
    "    'Fiat': 'Italy'\n",
    "})"
   ]
  },
  {
   "cell_type": "code",
   "execution_count": 17,
   "id": "overhead-senate",
   "metadata": {},
   "outputs": [
    {
     "data": {
      "text/plain": [
       "{'Audi': 'Germany', 'Mazda': 'Japan', 'Fiat': 'Italy'}"
      ]
     },
     "execution_count": 17,
     "metadata": {},
     "output_type": "execute_result"
    }
   ],
   "source": [
    "cars_2"
   ]
  },
  {
   "cell_type": "code",
   "execution_count": 18,
   "id": "amino-albuquerque",
   "metadata": {},
   "outputs": [
    {
     "data": {
      "text/plain": [
       "dict"
      ]
     },
     "execution_count": 18,
     "metadata": {},
     "output_type": "execute_result"
    }
   ],
   "source": [
    "type(cars_2)"
   ]
  },
  {
   "cell_type": "markdown",
   "id": "focal-infrastructure",
   "metadata": {},
   "source": [
    "**Note:**\n",
    "\n",
    "* In Lists -> we access elements via [] -> my_list[index]\n",
    "* In dict we do not use index -> **my_dic[key]**"
   ]
  },
  {
   "cell_type": "code",
   "execution_count": 19,
   "id": "coordinate-universal",
   "metadata": {},
   "outputs": [
    {
     "data": {
      "text/plain": [
       "{'Audi': 'Germany', 'Mazda': 'Japan', 'Fiat': 'Italy'}"
      ]
     },
     "execution_count": 19,
     "metadata": {},
     "output_type": "execute_result"
    }
   ],
   "source": [
    "cars"
   ]
  },
  {
   "cell_type": "code",
   "execution_count": 20,
   "id": "affected-crisis",
   "metadata": {},
   "outputs": [
    {
     "ename": "KeyError",
     "evalue": "0",
     "output_type": "error",
     "traceback": [
      "\u001b[1;31m---------------------------------------------------------------------------\u001b[0m",
      "\u001b[1;31mKeyError\u001b[0m                                  Traceback (most recent call last)",
      "\u001b[1;32m<ipython-input-20-4b04346db7cb>\u001b[0m in \u001b[0;36m<module>\u001b[1;34m\u001b[0m\n\u001b[0;32m      1\u001b[0m \u001b[1;31m# wrong -> no index for dict\u001b[0m\u001b[1;33m\u001b[0m\u001b[1;33m\u001b[0m\u001b[1;33m\u001b[0m\u001b[0m\n\u001b[0;32m      2\u001b[0m \u001b[1;33m\u001b[0m\u001b[0m\n\u001b[1;32m----> 3\u001b[1;33m \u001b[0mcars\u001b[0m\u001b[1;33m[\u001b[0m\u001b[1;36m0\u001b[0m\u001b[1;33m]\u001b[0m\u001b[1;33m\u001b[0m\u001b[1;33m\u001b[0m\u001b[0m\n\u001b[0m",
      "\u001b[1;31mKeyError\u001b[0m: 0"
     ]
    }
   ],
   "source": [
    "# wrong -> no index for dict\n",
    "\n",
    "cars[0]"
   ]
  },
  {
   "cell_type": "code",
   "execution_count": 21,
   "id": "increased-integer",
   "metadata": {},
   "outputs": [
    {
     "data": {
      "text/plain": [
       "'Germany'"
      ]
     },
     "execution_count": 21,
     "metadata": {},
     "output_type": "execute_result"
    }
   ],
   "source": [
    "# right -> [key]\n",
    "\n",
    "cars['Audi']"
   ]
  },
  {
   "cell_type": "code",
   "execution_count": 22,
   "id": "daily-parcel",
   "metadata": {},
   "outputs": [
    {
     "data": {
      "text/plain": [
       "'Italy'"
      ]
     },
     "execution_count": 22,
     "metadata": {},
     "output_type": "execute_result"
    }
   ],
   "source": [
    "cars['Fiat']"
   ]
  },
  {
   "cell_type": "code",
   "execution_count": 23,
   "id": "plain-member",
   "metadata": {},
   "outputs": [
    {
     "ename": "KeyError",
     "evalue": "'Ford'",
     "output_type": "error",
     "traceback": [
      "\u001b[1;31m---------------------------------------------------------------------------\u001b[0m",
      "\u001b[1;31mKeyError\u001b[0m                                  Traceback (most recent call last)",
      "\u001b[1;32m<ipython-input-23-fbd82552b4e3>\u001b[0m in \u001b[0;36m<module>\u001b[1;34m\u001b[0m\n\u001b[0;32m      1\u001b[0m \u001b[1;31m# no element with key -> Ford\u001b[0m\u001b[1;33m\u001b[0m\u001b[1;33m\u001b[0m\u001b[1;33m\u001b[0m\u001b[0m\n\u001b[0;32m      2\u001b[0m \u001b[1;33m\u001b[0m\u001b[0m\n\u001b[1;32m----> 3\u001b[1;33m \u001b[0mcars\u001b[0m\u001b[1;33m[\u001b[0m\u001b[1;34m'Ford'\u001b[0m\u001b[1;33m]\u001b[0m\u001b[1;33m\u001b[0m\u001b[1;33m\u001b[0m\u001b[0m\n\u001b[0m",
      "\u001b[1;31mKeyError\u001b[0m: 'Ford'"
     ]
    }
   ],
   "source": [
    "# no element with key -> Ford\n",
    "\n",
    "cars['Ford']"
   ]
  },
  {
   "cell_type": "markdown",
   "id": "concrete-repository",
   "metadata": {},
   "source": [
    "## Adding Elements to a Dictionary"
   ]
  },
  {
   "cell_type": "markdown",
   "id": "stopped-steal",
   "metadata": {},
   "source": [
    "In Lists -> append(), insert()"
   ]
  },
  {
   "cell_type": "markdown",
   "id": "center-collar",
   "metadata": {},
   "source": [
    "In List we don't have these methods:\n",
    "\n",
    "* my_dic[key] = value\n",
    "* update()"
   ]
  },
  {
   "cell_type": "markdown",
   "id": "increasing-pixel",
   "metadata": {},
   "source": [
    "Remember:\n",
    "\n",
    "* Dictionary -> `{ key: value }`"
   ]
  },
  {
   "cell_type": "code",
   "execution_count": 24,
   "id": "coupled-beauty",
   "metadata": {},
   "outputs": [],
   "source": [
    "numbers = {\n",
    "    1: \"one\",\n",
    "    2: \"two\",\n",
    "    3: 'three',\n",
    "    4: 'four'\n",
    "}"
   ]
  },
  {
   "cell_type": "code",
   "execution_count": 25,
   "id": "negative-religious",
   "metadata": {},
   "outputs": [
    {
     "data": {
      "text/plain": [
       "dict"
      ]
     },
     "execution_count": 25,
     "metadata": {},
     "output_type": "execute_result"
    }
   ],
   "source": [
    "type(numbers)"
   ]
  },
  {
   "cell_type": "code",
   "execution_count": 26,
   "id": "regulated-invention",
   "metadata": {},
   "outputs": [],
   "source": [
    "# add with key\n",
    "\n",
    "numbers[5] = 'five'"
   ]
  },
  {
   "cell_type": "code",
   "execution_count": 27,
   "id": "approximate-bloom",
   "metadata": {},
   "outputs": [
    {
     "data": {
      "text/plain": [
       "{1: 'one', 2: 'two', 3: 'three', 4: 'four', 5: 'five'}"
      ]
     },
     "execution_count": 27,
     "metadata": {},
     "output_type": "execute_result"
    }
   ],
   "source": [
    "numbers"
   ]
  },
  {
   "cell_type": "code",
   "execution_count": 28,
   "id": "hundred-fitting",
   "metadata": {},
   "outputs": [
    {
     "data": {
      "text/plain": [
       "{1: 'one', 2: 'two', 3: 'three', 4: 'four', 5: 'five', 6: 'sixt'}"
      ]
     },
     "execution_count": 28,
     "metadata": {},
     "output_type": "execute_result"
    }
   ],
   "source": [
    "numbers[6] = 'sixt'\n",
    "numbers"
   ]
  },
  {
   "cell_type": "code",
   "execution_count": 29,
   "id": "smaller-mongolia",
   "metadata": {},
   "outputs": [
    {
     "data": {
      "text/plain": [
       "{1: 'one', 2: 'two', 3: 'three', 4: 'four', 5: 'five', 6: 'six'}"
      ]
     },
     "execution_count": 29,
     "metadata": {},
     "output_type": "execute_result"
    }
   ],
   "source": [
    "# to fix it -> we will reassing that element\n",
    "\n",
    "numbers[6] = 'six'\n",
    "numbers"
   ]
  },
  {
   "cell_type": "code",
   "execution_count": 30,
   "id": "sublime-poverty",
   "metadata": {},
   "outputs": [
    {
     "ename": "AttributeError",
     "evalue": "'dict' object has no attribute 'append'",
     "output_type": "error",
     "traceback": [
      "\u001b[1;31m---------------------------------------------------------------------------\u001b[0m",
      "\u001b[1;31mAttributeError\u001b[0m                            Traceback (most recent call last)",
      "\u001b[1;32m<ipython-input-30-779618a48638>\u001b[0m in \u001b[0;36m<module>\u001b[1;34m\u001b[0m\n\u001b[1;32m----> 1\u001b[1;33m \u001b[0mnumbers\u001b[0m\u001b[1;33m.\u001b[0m\u001b[0mappend\u001b[0m\u001b[1;33m(\u001b[0m\u001b[1;33m{\u001b[0m\u001b[1;36m7\u001b[0m\u001b[1;33m:\u001b[0m \u001b[1;34m'seven'\u001b[0m\u001b[1;33m}\u001b[0m\u001b[1;33m)\u001b[0m\u001b[1;33m\u001b[0m\u001b[1;33m\u001b[0m\u001b[0m\n\u001b[0m",
      "\u001b[1;31mAttributeError\u001b[0m: 'dict' object has no attribute 'append'"
     ]
    }
   ],
   "source": [
    "numbers.append({7: 'seven'})"
   ]
  },
  {
   "cell_type": "code",
   "execution_count": 31,
   "id": "iraqi-ability",
   "metadata": {},
   "outputs": [],
   "source": [
    "numbers[7] = 'seven'\n",
    "numbers[8] = 'eight'\n",
    "numbers[9] = 'nine'"
   ]
  },
  {
   "cell_type": "code",
   "execution_count": 32,
   "id": "approved-abortion",
   "metadata": {},
   "outputs": [
    {
     "name": "stdout",
     "output_type": "stream",
     "text": [
      "{1: 'one', 2: 'two', 3: 'three', 4: 'four', 5: 'five', 6: 'six', 7: 'seven', 8: 'eight', 9: 'nine'}\n"
     ]
    }
   ],
   "source": [
    "print(numbers)"
   ]
  },
  {
   "cell_type": "code",
   "execution_count": 33,
   "id": "quick-humanitarian",
   "metadata": {},
   "outputs": [
    {
     "data": {
      "text/plain": [
       "{1: 'one',\n",
       " 2: 'two',\n",
       " 3: 'three',\n",
       " 4: 'four',\n",
       " 5: 'five',\n",
       " 6: 'six',\n",
       " 7: 'seven',\n",
       " 8: 'eight',\n",
       " 9: 'nine'}"
      ]
     },
     "execution_count": 33,
     "metadata": {},
     "output_type": "execute_result"
    }
   ],
   "source": [
    "numbers"
   ]
  },
  {
   "cell_type": "markdown",
   "id": "correct-business",
   "metadata": {},
   "source": [
    "**update()**"
   ]
  },
  {
   "cell_type": "code",
   "execution_count": 34,
   "id": "later-conversation",
   "metadata": {},
   "outputs": [
    {
     "data": {
      "text/plain": [
       "{'brand': 'Ford', 'model': 'Mustang', 'year': 1964}"
      ]
     },
     "execution_count": 34,
     "metadata": {},
     "output_type": "execute_result"
    }
   ],
   "source": [
    "car = {\n",
    "    \"brand\": 'Ford',\n",
    "    'model': \"Mustang\",\n",
    "    'year': 1964\n",
    "}\n",
    "\n",
    "car"
   ]
  },
  {
   "cell_type": "code",
   "execution_count": 35,
   "id": "necessary-mileage",
   "metadata": {},
   "outputs": [
    {
     "data": {
      "text/plain": [
       "{'brand': 'Ford', 'model': 'Mustang', 'year': 1964, 'color': 'red'}"
      ]
     },
     "execution_count": 35,
     "metadata": {},
     "output_type": "execute_result"
    }
   ],
   "source": [
    "# add color into car dict\n",
    "\n",
    "element_to_add = {'color': 'red'}\n",
    "\n",
    "car.update(element_to_add)\n",
    "\n",
    "car"
   ]
  },
  {
   "cell_type": "code",
   "execution_count": 36,
   "id": "local-backup",
   "metadata": {},
   "outputs": [],
   "source": [
    "# inside paranthesis\n",
    "\n",
    "car.update({ 'age': 50 })"
   ]
  },
  {
   "cell_type": "code",
   "execution_count": 37,
   "id": "earlier-permission",
   "metadata": {},
   "outputs": [
    {
     "data": {
      "text/plain": [
       "{'brand': 'Ford', 'model': 'Mustang', 'year': 1964, 'color': 'red', 'age': 50}"
      ]
     },
     "execution_count": 37,
     "metadata": {},
     "output_type": "execute_result"
    }
   ],
   "source": [
    "car"
   ]
  },
  {
   "cell_type": "code",
   "execution_count": 38,
   "id": "occupied-second",
   "metadata": {},
   "outputs": [],
   "source": [
    "# add more than one key-value pair\n",
    "\n",
    "elements_to_add = {\n",
    "    'price': 100000,\n",
    "    'motor': 1.6,\n",
    "    'age': 72\n",
    "}\n",
    "\n",
    "car.update(elements_to_add)"
   ]
  },
  {
   "cell_type": "code",
   "execution_count": 39,
   "id": "enormous-equivalent",
   "metadata": {},
   "outputs": [
    {
     "data": {
      "text/plain": [
       "{'brand': 'Ford',\n",
       " 'model': 'Mustang',\n",
       " 'year': 1964,\n",
       " 'color': 'red',\n",
       " 'age': 72,\n",
       " 'price': 100000,\n",
       " 'motor': 1.6}"
      ]
     },
     "execution_count": 39,
     "metadata": {},
     "output_type": "execute_result"
    }
   ],
   "source": [
    "car"
   ]
  },
  {
   "cell_type": "markdown",
   "id": "announced-little",
   "metadata": {},
   "source": [
    "## Deleting Elements from a Dictionary"
   ]
  },
  {
   "cell_type": "markdown",
   "id": "convinced-upset",
   "metadata": {},
   "source": [
    "In Lists to delete -> `pop()`, `del`\n",
    "\n",
    "We use both for Dictionary also."
   ]
  },
  {
   "cell_type": "markdown",
   "id": "bigger-kinase",
   "metadata": {},
   "source": [
    "**pop()**\n",
    "\n",
    "It returns the deleted element."
   ]
  },
  {
   "cell_type": "code",
   "execution_count": 40,
   "id": "comprehensive-injection",
   "metadata": {},
   "outputs": [
    {
     "data": {
      "text/plain": [
       "{'one': 1,\n",
       " 'two': 2,\n",
       " 'three': 3,\n",
       " 'four': 4,\n",
       " 'five': 5,\n",
       " 'six': 6,\n",
       " 'seven': 7,\n",
       " 'eight': 8}"
      ]
     },
     "execution_count": 40,
     "metadata": {},
     "output_type": "execute_result"
    }
   ],
   "source": [
    "\n",
    "number_names = {}\n",
    "\n",
    "number_names['one'] = 1\n",
    "number_names['two'] = 2\n",
    "number_names['three'] = 3\n",
    "number_names['four'] = 4\n",
    "number_names['five'] = 5\n",
    "number_names['six'] = 6\n",
    "number_names['seven'] = 7\n",
    "number_names['eight'] = 8\n",
    "\n",
    "number_names"
   ]
  },
  {
   "cell_type": "code",
   "execution_count": 41,
   "id": "brown-passing",
   "metadata": {},
   "outputs": [],
   "source": [
    "deleted_element = number_names.pop('eight')"
   ]
  },
  {
   "cell_type": "code",
   "execution_count": 42,
   "id": "typical-engagement",
   "metadata": {},
   "outputs": [
    {
     "data": {
      "text/plain": [
       "{'one': 1, 'two': 2, 'three': 3, 'four': 4, 'five': 5, 'six': 6, 'seven': 7}"
      ]
     },
     "execution_count": 42,
     "metadata": {},
     "output_type": "execute_result"
    }
   ],
   "source": [
    "number_names"
   ]
  },
  {
   "cell_type": "code",
   "execution_count": 43,
   "id": "individual-psychiatry",
   "metadata": {},
   "outputs": [
    {
     "data": {
      "text/plain": [
       "7"
      ]
     },
     "execution_count": 43,
     "metadata": {},
     "output_type": "execute_result"
    }
   ],
   "source": [
    "number_names.pop('seven')"
   ]
  },
  {
   "cell_type": "code",
   "execution_count": 44,
   "id": "sustained-innocent",
   "metadata": {},
   "outputs": [
    {
     "data": {
      "text/plain": [
       "{'one': 1, 'two': 2, 'three': 3, 'four': 4, 'five': 5, 'six': 6}"
      ]
     },
     "execution_count": 44,
     "metadata": {},
     "output_type": "execute_result"
    }
   ],
   "source": [
    "number_names"
   ]
  },
  {
   "cell_type": "code",
   "execution_count": 46,
   "id": "featured-modification",
   "metadata": {},
   "outputs": [],
   "source": [
    "deleted_element = number_names.pop('four')"
   ]
  },
  {
   "cell_type": "code",
   "execution_count": 47,
   "id": "second-keeping",
   "metadata": {},
   "outputs": [
    {
     "data": {
      "text/plain": [
       "4"
      ]
     },
     "execution_count": 47,
     "metadata": {},
     "output_type": "execute_result"
    }
   ],
   "source": [
    "deleted_element"
   ]
  },
  {
   "cell_type": "code",
   "execution_count": 48,
   "id": "silver-dependence",
   "metadata": {},
   "outputs": [
    {
     "data": {
      "text/plain": [
       "{'one': 1, 'two': 2, 'three': 3, 'five': 5, 'six': 6}"
      ]
     },
     "execution_count": 48,
     "metadata": {},
     "output_type": "execute_result"
    }
   ],
   "source": [
    "number_names"
   ]
  },
  {
   "cell_type": "markdown",
   "id": "preceding-client",
   "metadata": {},
   "source": [
    "**del**:\n",
    "\n",
    "Doesn't return the element."
   ]
  },
  {
   "cell_type": "code",
   "execution_count": 49,
   "id": "occupational-cameroon",
   "metadata": {},
   "outputs": [
    {
     "data": {
      "text/plain": [
       "{'one': 1,\n",
       " 'two': 2,\n",
       " 'three': 3,\n",
       " 'four': 4,\n",
       " 'five': 5,\n",
       " 'six': 6,\n",
       " 'seven': 7,\n",
       " 'eight': 8}"
      ]
     },
     "execution_count": 49,
     "metadata": {},
     "output_type": "execute_result"
    }
   ],
   "source": [
    "number_names = dict()\n",
    "\n",
    "number_names['one'] = 1\n",
    "number_names['two'] = 2\n",
    "number_names['three'] = 3\n",
    "number_names['four'] = 4\n",
    "number_names['five'] = 5\n",
    "number_names['six'] = 6\n",
    "number_names['seven'] = 7\n",
    "number_names['eight'] = 8\n",
    "\n",
    "number_names"
   ]
  },
  {
   "cell_type": "code",
   "execution_count": 50,
   "id": "scenic-failure",
   "metadata": {},
   "outputs": [],
   "source": [
    "del number_names['one']"
   ]
  },
  {
   "cell_type": "code",
   "execution_count": 51,
   "id": "express-student",
   "metadata": {},
   "outputs": [
    {
     "data": {
      "text/plain": [
       "{'two': 2, 'three': 3, 'four': 4, 'five': 5, 'six': 6, 'seven': 7, 'eight': 8}"
      ]
     },
     "execution_count": 51,
     "metadata": {},
     "output_type": "execute_result"
    }
   ],
   "source": [
    "number_names"
   ]
  },
  {
   "cell_type": "code",
   "execution_count": 52,
   "id": "assisted-intranet",
   "metadata": {},
   "outputs": [],
   "source": [
    "del number_names['five']"
   ]
  },
  {
   "cell_type": "code",
   "execution_count": 53,
   "id": "killing-metabolism",
   "metadata": {},
   "outputs": [
    {
     "data": {
      "text/plain": [
       "{'two': 2, 'three': 3, 'four': 4, 'six': 6, 'seven': 7, 'eight': 8}"
      ]
     },
     "execution_count": 53,
     "metadata": {},
     "output_type": "execute_result"
    }
   ],
   "source": [
    "number_names"
   ]
  },
  {
   "cell_type": "code",
   "execution_count": 54,
   "id": "accessory-chinese",
   "metadata": {},
   "outputs": [
    {
     "ename": "KeyError",
     "evalue": "'ten'",
     "output_type": "error",
     "traceback": [
      "\u001b[1;31m---------------------------------------------------------------------------\u001b[0m",
      "\u001b[1;31mKeyError\u001b[0m                                  Traceback (most recent call last)",
      "\u001b[1;32m<ipython-input-54-2a5bfe1ad121>\u001b[0m in \u001b[0;36m<module>\u001b[1;34m\u001b[0m\n\u001b[0;32m      1\u001b[0m \u001b[1;31m# pass a key which does not exist\u001b[0m\u001b[1;33m\u001b[0m\u001b[1;33m\u001b[0m\u001b[1;33m\u001b[0m\u001b[0m\n\u001b[0;32m      2\u001b[0m \u001b[1;33m\u001b[0m\u001b[0m\n\u001b[1;32m----> 3\u001b[1;33m \u001b[1;32mdel\u001b[0m \u001b[0mnumber_names\u001b[0m\u001b[1;33m[\u001b[0m\u001b[1;34m'ten'\u001b[0m\u001b[1;33m]\u001b[0m\u001b[1;33m\u001b[0m\u001b[1;33m\u001b[0m\u001b[0m\n\u001b[0m",
      "\u001b[1;31mKeyError\u001b[0m: 'ten'"
     ]
    }
   ],
   "source": [
    "# pass a key which does not exist\n",
    "\n",
    "del number_names['ten']"
   ]
  },
  {
   "cell_type": "markdown",
   "id": "hourly-playing",
   "metadata": {},
   "source": [
    "## Read Elements from a Dictionary"
   ]
  },
  {
   "cell_type": "markdown",
   "id": "alert-diagram",
   "metadata": {},
   "source": [
    "dict[key] => value"
   ]
  },
  {
   "cell_type": "code",
   "execution_count": 55,
   "id": "pressing-netscape",
   "metadata": {},
   "outputs": [
    {
     "data": {
      "text/plain": [
       "{'one': 1,\n",
       " 'two': 2,\n",
       " 'three': 3,\n",
       " 'four': 4,\n",
       " 'five': 5,\n",
       " 'six': 6,\n",
       " 'seven': 7,\n",
       " 'eight': 8}"
      ]
     },
     "execution_count": 55,
     "metadata": {},
     "output_type": "execute_result"
    }
   ],
   "source": [
    "number_names = dict()\n",
    "\n",
    "number_names['one'] = 1\n",
    "number_names['two'] = 2\n",
    "number_names['three'] = 3\n",
    "number_names['four'] = 4\n",
    "number_names['five'] = 5\n",
    "number_names['six'] = 6\n",
    "number_names['seven'] = 7\n",
    "number_names['eight'] = 8\n",
    "\n",
    "number_names"
   ]
  },
  {
   "cell_type": "code",
   "execution_count": 56,
   "id": "union-kinase",
   "metadata": {},
   "outputs": [
    {
     "data": {
      "text/plain": [
       "7"
      ]
     },
     "execution_count": 56,
     "metadata": {},
     "output_type": "execute_result"
    }
   ],
   "source": [
    "number_names['seven']"
   ]
  },
  {
   "cell_type": "code",
   "execution_count": 57,
   "id": "amazing-smile",
   "metadata": {},
   "outputs": [
    {
     "data": {
      "text/plain": [
       "2"
      ]
     },
     "execution_count": 57,
     "metadata": {},
     "output_type": "execute_result"
    }
   ],
   "source": [
    "number_names['two']"
   ]
  },
  {
   "cell_type": "markdown",
   "id": "breeding-assignment",
   "metadata": {},
   "source": [
    "**dict.items()**\n",
    "\n",
    "Returns the items as `key-value` pairs."
   ]
  },
  {
   "cell_type": "code",
   "execution_count": 58,
   "id": "quantitative-plane",
   "metadata": {},
   "outputs": [
    {
     "data": {
      "text/plain": [
       "dict_items([('one', 1), ('two', 2), ('three', 3), ('four', 4), ('five', 5), ('six', 6), ('seven', 7), ('eight', 8)])"
      ]
     },
     "execution_count": 58,
     "metadata": {},
     "output_type": "execute_result"
    }
   ],
   "source": [
    "number_names.items()"
   ]
  },
  {
   "cell_type": "markdown",
   "id": "dominican-reputation",
   "metadata": {},
   "source": [
    "**dict.keys()**\n",
    "\n",
    "Returns only the keys."
   ]
  },
  {
   "cell_type": "code",
   "execution_count": 59,
   "id": "fluid-mixture",
   "metadata": {},
   "outputs": [
    {
     "data": {
      "text/plain": [
       "dict_keys(['one', 'two', 'three', 'four', 'five', 'six', 'seven', 'eight'])"
      ]
     },
     "execution_count": 59,
     "metadata": {},
     "output_type": "execute_result"
    }
   ],
   "source": [
    "number_names.keys()"
   ]
  },
  {
   "cell_type": "markdown",
   "id": "exciting-coupon",
   "metadata": {},
   "source": [
    "**dict.values()**\n",
    "\n",
    "Returns the values only."
   ]
  },
  {
   "cell_type": "code",
   "execution_count": 60,
   "id": "conscious-korea",
   "metadata": {},
   "outputs": [
    {
     "data": {
      "text/plain": [
       "dict_values([1, 2, 3, 4, 5, 6, 7, 8])"
      ]
     },
     "execution_count": 60,
     "metadata": {},
     "output_type": "execute_result"
    }
   ],
   "source": [
    "number_names.values()"
   ]
  },
  {
   "cell_type": "code",
   "execution_count": 61,
   "id": "artistic-silly",
   "metadata": {},
   "outputs": [
    {
     "name": "stdout",
     "output_type": "stream",
     "text": [
      "one : 1\n",
      "two : 2\n",
      "three : 3\n",
      "four : 4\n",
      "five : 5\n",
      "six : 6\n",
      "seven : 7\n",
      "eight : 8\n"
     ]
    }
   ],
   "source": [
    "# with for loop, print the items\n",
    "\n",
    "for key, value in number_names.items():\n",
    "    print(key, ':', value)\n",
    "    "
   ]
  },
  {
   "cell_type": "code",
   "execution_count": 62,
   "id": "continued-future",
   "metadata": {},
   "outputs": [
    {
     "name": "stdout",
     "output_type": "stream",
     "text": [
      "one : 1\n",
      "two : 2\n",
      "three : 3\n",
      "four : 4\n",
      "five : 5\n",
      "six : 6\n",
      "seven : 7\n",
      "eight : 8\n"
     ]
    }
   ],
   "source": [
    "for k, v in number_names.items():\n",
    "    print(k, ':', v)\n"
   ]
  },
  {
   "cell_type": "code",
   "execution_count": 63,
   "id": "fifty-collapse",
   "metadata": {},
   "outputs": [
    {
     "name": "stdout",
     "output_type": "stream",
     "text": [
      "one\n",
      "two\n",
      "three\n",
      "four\n",
      "five\n",
      "six\n",
      "seven\n",
      "eight\n"
     ]
    }
   ],
   "source": [
    "# only the keys\n",
    "\n",
    "for k in number_names.keys():\n",
    "    print(k)\n"
   ]
  },
  {
   "cell_type": "code",
   "execution_count": 64,
   "id": "earlier-glory",
   "metadata": {},
   "outputs": [
    {
     "name": "stdout",
     "output_type": "stream",
     "text": [
      "1\n",
      "2\n",
      "3\n",
      "4\n",
      "5\n",
      "6\n",
      "7\n",
      "8\n"
     ]
    }
   ],
   "source": [
    "# only the values\n",
    "\n",
    "for p in number_names.values():\n",
    "    print(p)\n",
    "    "
   ]
  },
  {
   "cell_type": "code",
   "execution_count": 65,
   "id": "bigger-universe",
   "metadata": {},
   "outputs": [],
   "source": [
    "car = {\n",
    "    'brand': 'Ford',\n",
    "     'model': 'Mustang',\n",
    "     'year': 1964,\n",
    "     'color': 'red',\n",
    "     'age': 72,\n",
    "     'price': 100000,\n",
    "     'motor': 1.6\n",
    "}"
   ]
  },
  {
   "cell_type": "code",
   "execution_count": 66,
   "id": "loved-pillow",
   "metadata": {},
   "outputs": [
    {
     "data": {
      "text/plain": [
       "{'brand': 'Ford',\n",
       " 'model': 'Mustang',\n",
       " 'year': 1964,\n",
       " 'color': 'red',\n",
       " 'age': 72,\n",
       " 'price': 100000,\n",
       " 'motor': 1.6}"
      ]
     },
     "execution_count": 66,
     "metadata": {},
     "output_type": "execute_result"
    }
   ],
   "source": [
    "car"
   ]
  },
  {
   "cell_type": "code",
   "execution_count": 67,
   "id": "gross-innocent",
   "metadata": {},
   "outputs": [
    {
     "data": {
      "text/plain": [
       "'Ford'"
      ]
     },
     "execution_count": 67,
     "metadata": {},
     "output_type": "execute_result"
    }
   ],
   "source": [
    "car['brand']"
   ]
  },
  {
   "cell_type": "code",
   "execution_count": 69,
   "id": "breeding-disposal",
   "metadata": {},
   "outputs": [
    {
     "ename": "KeyError",
     "evalue": "'BRAND'",
     "output_type": "error",
     "traceback": [
      "\u001b[1;31m---------------------------------------------------------------------------\u001b[0m",
      "\u001b[1;31mKeyError\u001b[0m                                  Traceback (most recent call last)",
      "\u001b[1;32m<ipython-input-69-81446a771d89>\u001b[0m in \u001b[0;36m<module>\u001b[1;34m\u001b[0m\n\u001b[0;32m      1\u001b[0m \u001b[1;31m# KeyError: 'BRAND'\u001b[0m\u001b[1;33m\u001b[0m\u001b[1;33m\u001b[0m\u001b[1;33m\u001b[0m\u001b[0m\n\u001b[0;32m      2\u001b[0m \u001b[1;33m\u001b[0m\u001b[0m\n\u001b[1;32m----> 3\u001b[1;33m \u001b[0mcar\u001b[0m\u001b[1;33m[\u001b[0m\u001b[1;34m'BRAND'\u001b[0m\u001b[1;33m]\u001b[0m\u001b[1;33m\u001b[0m\u001b[1;33m\u001b[0m\u001b[0m\n\u001b[0m",
      "\u001b[1;31mKeyError\u001b[0m: 'BRAND'"
     ]
    }
   ],
   "source": [
    "# KeyError: 'BRAND'\n",
    "\n",
    "car['BRAND']"
   ]
  },
  {
   "cell_type": "markdown",
   "id": "small-campus",
   "metadata": {},
   "source": [
    "**get()**\n",
    "\n",
    "It returns the element if exists, None if not."
   ]
  },
  {
   "cell_type": "code",
   "execution_count": 70,
   "id": "aggressive-metro",
   "metadata": {},
   "outputs": [
    {
     "data": {
      "text/plain": [
       "'Ford'"
      ]
     },
     "execution_count": 70,
     "metadata": {},
     "output_type": "execute_result"
    }
   ],
   "source": [
    "car.get('brand')"
   ]
  },
  {
   "cell_type": "code",
   "execution_count": 71,
   "id": "global-antibody",
   "metadata": {},
   "outputs": [],
   "source": [
    "car.get('BRAND')"
   ]
  },
  {
   "cell_type": "markdown",
   "id": "colonial-lewis",
   "metadata": {},
   "source": [
    "**len()**\n",
    "\n",
    "It gives you the length of Dictionary -> number of key-value pair."
   ]
  },
  {
   "cell_type": "code",
   "execution_count": 72,
   "id": "immune-calibration",
   "metadata": {},
   "outputs": [
    {
     "data": {
      "text/plain": [
       "7"
      ]
     },
     "execution_count": 72,
     "metadata": {},
     "output_type": "execute_result"
    }
   ],
   "source": [
    "len(car)"
   ]
  },
  {
   "cell_type": "code",
   "execution_count": 73,
   "id": "valued-xerox",
   "metadata": {},
   "outputs": [
    {
     "data": {
      "text/plain": [
       "8"
      ]
     },
     "execution_count": 73,
     "metadata": {},
     "output_type": "execute_result"
    }
   ],
   "source": [
    "len(number_names)"
   ]
  },
  {
   "cell_type": "markdown",
   "id": "brave-culture",
   "metadata": {},
   "source": [
    "**in**\n",
    "\n",
    "To check if the key is in Dictionary Keys."
   ]
  },
  {
   "cell_type": "code",
   "execution_count": 74,
   "id": "bearing-layout",
   "metadata": {},
   "outputs": [
    {
     "data": {
      "text/plain": [
       "True"
      ]
     },
     "execution_count": 74,
     "metadata": {},
     "output_type": "execute_result"
    }
   ],
   "source": [
    "# in -> keys\n",
    "\n",
    "'age' in car"
   ]
  },
  {
   "cell_type": "code",
   "execution_count": 75,
   "id": "congressional-hollywood",
   "metadata": {},
   "outputs": [
    {
     "data": {
      "text/plain": [
       "False"
      ]
     },
     "execution_count": 75,
     "metadata": {},
     "output_type": "execute_result"
    }
   ],
   "source": [
    "'height' in car"
   ]
  },
  {
   "cell_type": "code",
   "execution_count": 79,
   "id": "magnetic-modern",
   "metadata": {},
   "outputs": [
    {
     "data": {
      "text/plain": [
       "False"
      ]
     },
     "execution_count": 79,
     "metadata": {},
     "output_type": "execute_result"
    }
   ],
   "source": [
    "'height' in car.keys()"
   ]
  },
  {
   "cell_type": "code",
   "execution_count": 76,
   "id": "sound-brisbane",
   "metadata": {},
   "outputs": [
    {
     "data": {
      "text/plain": [
       "True"
      ]
     },
     "execution_count": 76,
     "metadata": {},
     "output_type": "execute_result"
    }
   ],
   "source": [
    "# check for values\n",
    "\n",
    "6 in number_names.values()"
   ]
  },
  {
   "cell_type": "code",
   "execution_count": 77,
   "id": "numeric-guess",
   "metadata": {},
   "outputs": [
    {
     "data": {
      "text/plain": [
       "True"
      ]
     },
     "execution_count": 77,
     "metadata": {},
     "output_type": "execute_result"
    }
   ],
   "source": [
    "value_to_check = 'Mustang'\n",
    "\n",
    "value_to_check in car.values()"
   ]
  },
  {
   "cell_type": "code",
   "execution_count": 78,
   "id": "divided-timber",
   "metadata": {},
   "outputs": [
    {
     "data": {
      "text/plain": [
       "False"
      ]
     },
     "execution_count": 78,
     "metadata": {},
     "output_type": "execute_result"
    }
   ],
   "source": [
    "value_to_check = 'Mondeo'\n",
    "\n",
    "value_to_check in car.values()"
   ]
  },
  {
   "cell_type": "markdown",
   "id": "asian-twins",
   "metadata": {},
   "source": [
    "## Loop Over Dictionary"
   ]
  },
  {
   "cell_type": "code",
   "execution_count": 80,
   "id": "korean-double",
   "metadata": {},
   "outputs": [
    {
     "data": {
      "text/plain": [
       "{'Audi': 'Germany', 'Mazda': 'Japan', 'Fiat': 'Italy', 'Ford': 'US'}"
      ]
     },
     "execution_count": 80,
     "metadata": {},
     "output_type": "execute_result"
    }
   ],
   "source": [
    "cars = {\n",
    "    'Audi': 'Germany',\n",
    "    'Mazda': 'Japan',\n",
    "    'Fiat': 'Italy',\n",
    "    'Ford': 'US'\n",
    "}\n",
    "\n",
    "cars"
   ]
  },
  {
   "cell_type": "markdown",
   "id": "weird-utility",
   "metadata": {},
   "source": [
    "**items(), keys(), values()**"
   ]
  },
  {
   "cell_type": "code",
   "execution_count": 81,
   "id": "viral-vacuum",
   "metadata": {},
   "outputs": [
    {
     "name": "stdout",
     "output_type": "stream",
     "text": [
      "('Audi', 'Germany')\n",
      "('Mazda', 'Japan')\n",
      "('Fiat', 'Italy')\n",
      "('Ford', 'US')\n"
     ]
    }
   ],
   "source": [
    "\n",
    "for car in cars.items():\n",
    "    print(car)\n"
   ]
  },
  {
   "cell_type": "code",
   "execution_count": 82,
   "id": "breathing-istanbul",
   "metadata": {},
   "outputs": [
    {
     "name": "stdout",
     "output_type": "stream",
     "text": [
      "Audi - Germany\n",
      "Mazda - Japan\n",
      "Fiat - Italy\n",
      "Ford - US\n"
     ]
    }
   ],
   "source": [
    "# deconstructing\n",
    "\n",
    "for brand, country in cars.items():\n",
    "    print(brand, '-', country)\n",
    "    "
   ]
  },
  {
   "cell_type": "code",
   "execution_count": 83,
   "id": "binary-stanford",
   "metadata": {},
   "outputs": [
    {
     "name": "stdout",
     "output_type": "stream",
     "text": [
      "Audi\n",
      "Mazda\n",
      "Fiat\n",
      "Ford\n"
     ]
    }
   ],
   "source": [
    "\n",
    "for k in cars.keys():\n",
    "    print(k)\n"
   ]
  },
  {
   "cell_type": "code",
   "execution_count": 84,
   "id": "middle-pressing",
   "metadata": {},
   "outputs": [
    {
     "name": "stdout",
     "output_type": "stream",
     "text": [
      "Germany\n",
      "Japan\n",
      "Italy\n",
      "US\n"
     ]
    }
   ],
   "source": [
    "for country in cars.values():\n",
    "    print(country)"
   ]
  },
  {
   "cell_type": "markdown",
   "id": "informative-catch",
   "metadata": {},
   "source": [
    "**Example:**\n",
    "\n",
    "Define a function named **count_letters**.\n",
    "\n",
    "It will count each letter in a text and print.\n",
    "\n",
    "Ex: {'a': 3, 's': 3, 'e': 1 }"
   ]
  },
  {
   "cell_type": "code",
   "execution_count": 92,
   "id": "suspended-hunter",
   "metadata": {},
   "outputs": [],
   "source": [
    "# Solution #1\n",
    "\n",
    "def count_letters(text):\n",
    "    \n",
    "    # a dict for numbers and counts\n",
    "    letters = {}\n",
    "    \n",
    "    for l in text:\n",
    "        \n",
    "        # check if l is alphanumeric\n",
    "        if l.isalpha():\n",
    "            # check if this letter is already in dict\n",
    "            if l in letters.keys():\n",
    "                letters[l] += 1\n",
    "\n",
    "            # first time\n",
    "            else:\n",
    "                letters[l] = 1\n",
    "    \n",
    "    return letters\n",
    "    "
   ]
  },
  {
   "cell_type": "code",
   "execution_count": 93,
   "id": "present-gabriel",
   "metadata": {},
   "outputs": [
    {
     "data": {
      "text/plain": [
       "{'e': 3, 'x': 2, 'a': 1, 'm': 1, 'p': 1, 'l': 1, 't': 2}"
      ]
     },
     "execution_count": 93,
     "metadata": {},
     "output_type": "execute_result"
    }
   ],
   "source": [
    "text = 'example text'\n",
    "letters = count_letters(text)\n",
    "letters"
   ]
  },
  {
   "cell_type": "code",
   "execution_count": 95,
   "id": "emerging-wright",
   "metadata": {},
   "outputs": [
    {
     "data": {
      "text/plain": [
       "{'e': 3, 'x': 2, 'a': 1, 'm': 1, 'p': 1, 'l': 1, 't': 2}"
      ]
     },
     "execution_count": 95,
     "metadata": {},
     "output_type": "execute_result"
    }
   ],
   "source": [
    "text = 'example text!'\n",
    "letters = count_letters(text)\n",
    "letters"
   ]
  },
  {
   "cell_type": "code",
   "execution_count": 101,
   "id": "north-beaver",
   "metadata": {},
   "outputs": [],
   "source": [
    "# Solution #1\n",
    "# More Pythonic\n",
    "\n",
    "def count_letters_2(text):\n",
    "    \n",
    "    # a dict for numbers and counts\n",
    "    letters = dict()\n",
    "    \n",
    "    for char in text:\n",
    "        \n",
    "        if char.isalpha():\n",
    "            letters[char] = letters.get(char, 0) + 1\n",
    "            \n",
    "    return letters\n",
    "    "
   ]
  },
  {
   "cell_type": "code",
   "execution_count": 96,
   "id": "shared-cooperative",
   "metadata": {},
   "outputs": [
    {
     "data": {
      "text/plain": [
       "{'e': 3, 'x': 2, 'a': 1, 'm': 1, 'p': 1, 'l': 1, 't': 2}"
      ]
     },
     "execution_count": 96,
     "metadata": {},
     "output_type": "execute_result"
    }
   ],
   "source": [
    "letters"
   ]
  },
  {
   "cell_type": "code",
   "execution_count": 97,
   "id": "twelve-penalty",
   "metadata": {},
   "outputs": [
    {
     "data": {
      "text/plain": [
       "3"
      ]
     },
     "execution_count": 97,
     "metadata": {},
     "output_type": "execute_result"
    }
   ],
   "source": [
    "letters.get('e')"
   ]
  },
  {
   "cell_type": "code",
   "execution_count": 98,
   "id": "hybrid-muscle",
   "metadata": {},
   "outputs": [
    {
     "data": {
      "text/plain": [
       "2"
      ]
     },
     "execution_count": 98,
     "metadata": {},
     "output_type": "execute_result"
    }
   ],
   "source": [
    "letters.get('t')"
   ]
  },
  {
   "cell_type": "code",
   "execution_count": 100,
   "id": "measured-combine",
   "metadata": {},
   "outputs": [
    {
     "data": {
      "text/plain": [
       "0"
      ]
     },
     "execution_count": 100,
     "metadata": {},
     "output_type": "execute_result"
    }
   ],
   "source": [
    "# get(key, <return if not found>)\n",
    "\n",
    "letters.get('AA', 0)"
   ]
  },
  {
   "cell_type": "code",
   "execution_count": 102,
   "id": "interim-smile",
   "metadata": {},
   "outputs": [
    {
     "data": {
      "text/plain": [
       "{'e': 3, 'x': 2, 'a': 1, 'm': 1, 'p': 1, 'l': 1, 't': 2}"
      ]
     },
     "execution_count": 102,
     "metadata": {},
     "output_type": "execute_result"
    }
   ],
   "source": [
    "text = 'example text!'\n",
    "letters = count_letters_2(text)\n",
    "letters"
   ]
  },
  {
   "cell_type": "markdown",
   "id": "generic-ghost",
   "metadata": {},
   "source": [
    "## Reverse Lookup"
   ]
  },
  {
   "cell_type": "markdown",
   "id": "exciting-tuner",
   "metadata": {},
   "source": [
    "In dictionaries we mainly look for a key and try to find the value corresponding to that key.\n",
    "\n",
    "That is the main idea of dictionary search in Python.\n",
    "\n",
    "And its very fast because it use **hashtable** structure."
   ]
  },
  {
   "cell_type": "markdown",
   "id": "worse-proposition",
   "metadata": {},
   "source": [
    "Now, let's say we want to do the opposite.\n",
    "\n",
    "Let's assume, we have a value this time and what to find the key corresponding this value.\n",
    "\n",
    "Consequences:\n",
    "* There might be more than one key mapping to the same value\n",
    "* It will cause to memory cost"
   ]
  },
  {
   "cell_type": "code",
   "execution_count": 103,
   "id": "grave-independence",
   "metadata": {},
   "outputs": [],
   "source": [
    "\n",
    "def reverse_lookup(dictionary, value):\n",
    "    \n",
    "    # loop over the dictionary\n",
    "    for key in dictionary:\n",
    "        \n",
    "        # check if the value with this key == value\n",
    "        if dictionary[key] == value:\n",
    "            # we found the key\n",
    "            return key\n"
   ]
  },
  {
   "cell_type": "code",
   "execution_count": 105,
   "id": "peripheral-telephone",
   "metadata": {},
   "outputs": [
    {
     "data": {
      "text/plain": [
       "{'a': 2, 'b': 1, 'c': 4, 'd': 3, 'e': 2}"
      ]
     },
     "execution_count": 105,
     "metadata": {},
     "output_type": "execute_result"
    }
   ],
   "source": [
    "dictionary = {\n",
    "    'a': 2,\n",
    "    'b': 1,\n",
    "    'c': 4,\n",
    "    'd': 3,\n",
    "    'e': 2\n",
    "}\n",
    "\n",
    "dictionary"
   ]
  },
  {
   "cell_type": "code",
   "execution_count": 106,
   "id": "coupled-likelihood",
   "metadata": {},
   "outputs": [
    {
     "data": {
      "text/plain": [
       "'a'"
      ]
     },
     "execution_count": 106,
     "metadata": {},
     "output_type": "execute_result"
    }
   ],
   "source": [
    "value = 2\n",
    "\n",
    "reverse_lookup(dictionary, value)"
   ]
  },
  {
   "cell_type": "code",
   "execution_count": 107,
   "id": "acquired-computer",
   "metadata": {},
   "outputs": [],
   "source": [
    "value = 122\n",
    "\n",
    "reverse_lookup(dictionary, value)"
   ]
  },
  {
   "cell_type": "code",
   "execution_count": 108,
   "id": "every-leisure",
   "metadata": {},
   "outputs": [
    {
     "data": {
      "text/plain": [
       "1"
      ]
     },
     "execution_count": 108,
     "metadata": {},
     "output_type": "execute_result"
    }
   ],
   "source": [
    "dictionary['b']"
   ]
  },
  {
   "cell_type": "code",
   "execution_count": 109,
   "id": "formed-tutorial",
   "metadata": {},
   "outputs": [
    {
     "ename": "KeyError",
     "evalue": "'x'",
     "output_type": "error",
     "traceback": [
      "\u001b[1;31m---------------------------------------------------------------------------\u001b[0m",
      "\u001b[1;31mKeyError\u001b[0m                                  Traceback (most recent call last)",
      "\u001b[1;32m<ipython-input-109-a6cf7f9a0f03>\u001b[0m in \u001b[0;36m<module>\u001b[1;34m\u001b[0m\n\u001b[1;32m----> 1\u001b[1;33m \u001b[0mdictionary\u001b[0m\u001b[1;33m[\u001b[0m\u001b[1;34m'x'\u001b[0m\u001b[1;33m]\u001b[0m\u001b[1;33m\u001b[0m\u001b[1;33m\u001b[0m\u001b[0m\n\u001b[0m",
      "\u001b[1;31mKeyError\u001b[0m: 'x'"
     ]
    }
   ],
   "source": [
    "dictionary['x']"
   ]
  },
  {
   "cell_type": "markdown",
   "id": "retained-ability",
   "metadata": {},
   "source": [
    "Let's raise an error."
   ]
  },
  {
   "cell_type": "code",
   "execution_count": 111,
   "id": "isolated-chick",
   "metadata": {},
   "outputs": [],
   "source": [
    "def reverse_lookup_2(dictionary, value):\n",
    "    \n",
    "    # loop over the dictionary\n",
    "    for key in dictionary:\n",
    "        \n",
    "        # check if the value with this key == value\n",
    "        if dictionary[key] == value:\n",
    "            # we found the key\n",
    "            return key\n",
    "    else:\n",
    "        # raise error\n",
    "        raise KeyError('We could not find with this value:', value)\n",
    "    "
   ]
  },
  {
   "cell_type": "code",
   "execution_count": 113,
   "id": "speaking-vintage",
   "metadata": {},
   "outputs": [
    {
     "ename": "KeyError",
     "evalue": "('We could not find with this value:', 333)",
     "output_type": "error",
     "traceback": [
      "\u001b[1;31m---------------------------------------------------------------------------\u001b[0m",
      "\u001b[1;31mKeyError\u001b[0m                                  Traceback (most recent call last)",
      "\u001b[1;32m<ipython-input-113-a688ce171df5>\u001b[0m in \u001b[0;36m<module>\u001b[1;34m\u001b[0m\n\u001b[0;32m      1\u001b[0m \u001b[0mvalue\u001b[0m \u001b[1;33m=\u001b[0m \u001b[1;36m333\u001b[0m\u001b[1;33m\u001b[0m\u001b[1;33m\u001b[0m\u001b[0m\n\u001b[0;32m      2\u001b[0m \u001b[1;33m\u001b[0m\u001b[0m\n\u001b[1;32m----> 3\u001b[1;33m \u001b[0mreverse_lookup_2\u001b[0m\u001b[1;33m(\u001b[0m\u001b[0mdictionary\u001b[0m\u001b[1;33m,\u001b[0m \u001b[0mvalue\u001b[0m\u001b[1;33m)\u001b[0m\u001b[1;33m\u001b[0m\u001b[1;33m\u001b[0m\u001b[0m\n\u001b[0m",
      "\u001b[1;32m<ipython-input-111-047ed00f4f8c>\u001b[0m in \u001b[0;36mreverse_lookup_2\u001b[1;34m(dictionary, value)\u001b[0m\n\u001b[0;32m     10\u001b[0m     \u001b[1;32melse\u001b[0m\u001b[1;33m:\u001b[0m\u001b[1;33m\u001b[0m\u001b[1;33m\u001b[0m\u001b[0m\n\u001b[0;32m     11\u001b[0m         \u001b[1;31m# raise error\u001b[0m\u001b[1;33m\u001b[0m\u001b[1;33m\u001b[0m\u001b[1;33m\u001b[0m\u001b[0m\n\u001b[1;32m---> 12\u001b[1;33m         \u001b[1;32mraise\u001b[0m \u001b[0mKeyError\u001b[0m\u001b[1;33m(\u001b[0m\u001b[1;34m'We could not find with this value:'\u001b[0m\u001b[1;33m,\u001b[0m \u001b[0mvalue\u001b[0m\u001b[1;33m)\u001b[0m\u001b[1;33m\u001b[0m\u001b[1;33m\u001b[0m\u001b[0m\n\u001b[0m\u001b[0;32m     13\u001b[0m \u001b[1;33m\u001b[0m\u001b[0m\n",
      "\u001b[1;31mKeyError\u001b[0m: ('We could not find with this value:', 333)"
     ]
    }
   ],
   "source": [
    "value = 333\n",
    "\n",
    "reverse_lookup_2(dictionary, value)"
   ]
  },
  {
   "cell_type": "markdown",
   "id": "industrial-empire",
   "metadata": {},
   "source": [
    "## Dictionary & List"
   ]
  },
  {
   "cell_type": "markdown",
   "id": "lonely-welcome",
   "metadata": {},
   "source": [
    "Lists can be used as values in Dictionaries."
   ]
  },
  {
   "cell_type": "markdown",
   "id": "binding-underground",
   "metadata": {},
   "source": [
    "Ex: for each letter in a text we can keep the number as key and value as list of letter:"
   ]
  },
  {
   "cell_type": "raw",
   "id": "specific-language",
   "metadata": {},
   "source": [
    "{\n",
    " 1: ['k', 'd'],\n",
    " 2: ['e', 'g', 'l'],\n",
    " 3: ['a'],\n",
    " 4: ['i', 's']\n",
    "}"
   ]
  },
  {
   "cell_type": "code",
   "execution_count": 119,
   "id": "fixed-cisco",
   "metadata": {},
   "outputs": [],
   "source": [
    "\n",
    "def lists_of_letters(text):\n",
    "    \n",
    "    # get the dictionary of occurences\n",
    "    dictionary = count_letters_2(text)\n",
    "    \n",
    "    letters = {}\n",
    "    \n",
    "    for key in dictionary:\n",
    "        \n",
    "        # get value\n",
    "        value = dictionary[key]\n",
    "        \n",
    "        # if this value is not in keys -> add it and assing a list of key\n",
    "        if value not in letters:\n",
    "            letters[value] = [key]\n",
    "        else:\n",
    "            # this value is in letters keys\n",
    "            letters[value].append(key)\n",
    "            \n",
    "    return letters\n"
   ]
  },
  {
   "cell_type": "code",
   "execution_count": 120,
   "id": "specialized-insertion",
   "metadata": {},
   "outputs": [
    {
     "data": {
      "text/plain": [
       "{3: ['e'], 2: ['x', 't'], 1: ['a', 'm', 'p', 'l']}"
      ]
     },
     "execution_count": 120,
     "metadata": {},
     "output_type": "execute_result"
    }
   ],
   "source": [
    "text = 'example text!'\n",
    "letters_numbers = lists_of_letters(text)\n",
    "letters_numbers"
   ]
  },
  {
   "cell_type": "markdown",
   "id": "hazardous-billion",
   "metadata": {},
   "source": [
    "**Very Important:**\n",
    "\n",
    "* Lists can be used as values of Dictionaries.\n",
    "* But **can not be used as keys** of Dictionaries."
   ]
  },
  {
   "cell_type": "code",
   "execution_count": 121,
   "id": "constant-boundary",
   "metadata": {},
   "outputs": [
    {
     "ename": "TypeError",
     "evalue": "unhashable type: 'list'",
     "output_type": "error",
     "traceback": [
      "\u001b[1;31m---------------------------------------------------------------------------\u001b[0m",
      "\u001b[1;31mTypeError\u001b[0m                                 Traceback (most recent call last)",
      "\u001b[1;32m<ipython-input-121-c09d79892925>\u001b[0m in \u001b[0;36m<module>\u001b[1;34m\u001b[0m\n\u001b[0;32m      6\u001b[0m \u001b[1;33m\u001b[0m\u001b[0m\n\u001b[0;32m      7\u001b[0m \u001b[1;31m# pass list as key\u001b[0m\u001b[1;33m\u001b[0m\u001b[1;33m\u001b[0m\u001b[1;33m\u001b[0m\u001b[0m\n\u001b[1;32m----> 8\u001b[1;33m \u001b[0ms\u001b[0m\u001b[1;33m[\u001b[0m\u001b[0ma\u001b[0m\u001b[1;33m]\u001b[0m \u001b[1;33m=\u001b[0m \u001b[1;34m'my list'\u001b[0m\u001b[1;33m\u001b[0m\u001b[1;33m\u001b[0m\u001b[0m\n\u001b[0m",
      "\u001b[1;31mTypeError\u001b[0m: unhashable type: 'list'"
     ]
    }
   ],
   "source": [
    "# list\n",
    "a = [1, 2]\n",
    "\n",
    "# dict\n",
    "s = dict()\n",
    "\n",
    "# pass list as key\n",
    "s[a] = 'my list'"
   ]
  },
  {
   "cell_type": "markdown",
   "id": "english-pottery",
   "metadata": {},
   "source": [
    "**Rule of Thumb:**\n",
    "\n",
    "* Dictionary Keys must be **hashable** types."
   ]
  },
  {
   "cell_type": "markdown",
   "id": "julian-testing",
   "metadata": {},
   "source": [
    "**hash** is a function which takes any value but returns an integer for that value."
   ]
  },
  {
   "cell_type": "raw",
   "id": "legislative-hotel",
   "metadata": {},
   "source": [
    "Immutable\n",
    "'some text'  ---->  hash(some_text)  ----->  14478565  (NOT CHANGE HASH)\n",
    "\n",
    "Mutable\n",
    "[1, 2, 'a', 'c', 'd'] -----> hash(some_list)  ----->  877820823657  (CHANGE HASH)"
   ]
  },
  {
   "cell_type": "markdown",
   "id": "careful-height",
   "metadata": {},
   "source": [
    "Dictionary uses this **hash value** of keys to access them.\n",
    "\n",
    "It uses this hash value like an index."
   ]
  },
  {
   "cell_type": "markdown",
   "id": "varying-multiple",
   "metadata": {},
   "source": [
    "**Mutable vs. Immutable**:\n",
    "\n",
    "* Hash values for Mutable types may change (because they can be mutated)\n",
    "* Hash values for Immutable types can not change (they can not be mutated)"
   ]
  },
  {
   "cell_type": "markdown",
   "id": "found-guess",
   "metadata": {},
   "source": [
    "That's why:\n",
    "* **Mutable** Types can **not** be keys for Dictionary\n",
    "* Immutable Types can be keys for Dictionary"
   ]
  },
  {
   "cell_type": "markdown",
   "id": "freelance-bennett",
   "metadata": {},
   "source": [
    "Python Mutable vs. Immutable Types and If They can be Keys for Dictionary:\n",
    "\n",
    "| Type | Desc. | Immutable? | Can be Key for Dictionary? | \n",
    "| --- | --- | --- | --- |\n",
    "| int | Integer | $\\checkmark$ | $\\checkmark$ |\n",
    "| float | Float | $\\checkmark$ | $\\checkmark$ |\n",
    "| bool | Boolean | $\\checkmark$ | $\\checkmark$ |\n",
    "| str | String | $\\checkmark$ | $\\checkmark$ |\n",
    "| list | List |  |  |\n",
    "| tuple | Tuple | $\\checkmark$ | $\\checkmark$ |\n",
    "| dict | Dictionary |  |  |\n",
    "| set | Set |  |  |\n",
    "| frozenset | Frozen Set | $\\checkmark$ | $\\checkmark$ |"
   ]
  },
  {
   "cell_type": "markdown",
   "id": "adaptive-karen",
   "metadata": {},
   "source": [
    "* Immutable Types can be Keys for Dictionary.\n",
    "* Mutable Types can not.\n",
    "    * List\n",
    "    * Dictionary\n",
    "    * Set"
   ]
  },
  {
   "cell_type": "code",
   "execution_count": 127,
   "id": "incorporated-physiology",
   "metadata": {},
   "outputs": [],
   "source": [
    "s = dict()\n",
    "\n",
    "s[True] = 'Correct'\n",
    "s[False] = 'Incorrect'\n",
    "\n",
    "\n",
    "s[5] = 'five'\n",
    "s[4.8] = 'four-dot-eight'\n",
    "\n",
    "s['final'] = 124545454"
   ]
  },
  {
   "cell_type": "code",
   "execution_count": 128,
   "id": "falling-truck",
   "metadata": {},
   "outputs": [
    {
     "data": {
      "text/plain": [
       "{True: 'Correct',\n",
       " False: 'Incorrect',\n",
       " 5: 'five',\n",
       " 4.8: 'four-dot-eight',\n",
       " 'final': 124545454}"
      ]
     },
     "execution_count": 128,
     "metadata": {},
     "output_type": "execute_result"
    }
   ],
   "source": [
    "s"
   ]
  },
  {
   "cell_type": "code",
   "execution_count": null,
   "id": "cellular-london",
   "metadata": {},
   "outputs": [],
   "source": []
  }
 ],
 "metadata": {
  "kernelspec": {
   "display_name": "Python 3",
   "language": "python",
   "name": "python3"
  },
  "language_info": {
   "codemirror_mode": {
    "name": "ipython",
    "version": 3
   },
   "file_extension": ".py",
   "mimetype": "text/x-python",
   "name": "python",
   "nbconvert_exporter": "python",
   "pygments_lexer": "ipython3",
   "version": "3.8.8"
  }
 },
 "nbformat": 4,
 "nbformat_minor": 5
}
