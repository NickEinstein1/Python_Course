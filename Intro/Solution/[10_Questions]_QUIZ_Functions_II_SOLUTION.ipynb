{
 "cells": [
  {
   "cell_type": "markdown",
   "id": "cognitive-scholar",
   "metadata": {},
   "source": [
    "## [10 Questions] QUIZ - Functions II - SOLUTION"
   ]
  },
  {
   "cell_type": "markdown",
   "id": "senior-change",
   "metadata": {},
   "source": [
    "**Q 1:**\n",
    "\n",
    "Many times, we need input from the user.\n",
    "\n",
    "Define a generic function to ask for user input.\n",
    "\n",
    "Function name will be **get_input**.\n",
    "\n",
    "Function will take the input text as parameter and use it while asking for input from the user."
   ]
  },
  {
   "cell_type": "code",
   "execution_count": 2,
   "id": "physical-explorer",
   "metadata": {},
   "outputs": [],
   "source": [
    "# S 1:\n",
    "\n",
    "def get_input(text):\n",
    "    \"\"\"\n",
    "    Generic function to get input.\n",
    "    Parameter: str text\n",
    "    Returns: the user input, str\n",
    "    \"\"\"\n",
    "    \n",
    "    # ask for input\n",
    "    user_input = input(text)\n",
    "    \n",
    "    return user_input\n"
   ]
  },
  {
   "cell_type": "code",
   "execution_count": 3,
   "id": "active-recorder",
   "metadata": {},
   "outputs": [
    {
     "name": "stdin",
     "output_type": "stream",
     "text": [
      "Please enter a number:  78\n"
     ]
    },
    {
     "name": "stdout",
     "output_type": "stream",
     "text": [
      "78\n"
     ]
    }
   ],
   "source": [
    "# Ask for an integer\n",
    "\n",
    "number = get_input(\"Please enter a number: \")\n",
    "print(number)"
   ]
  },
  {
   "cell_type": "code",
   "execution_count": 4,
   "id": "covered-terrace",
   "metadata": {},
   "outputs": [
    {
     "name": "stdin",
     "output_type": "stream",
     "text": [
      "Please enter month name:  June\n"
     ]
    },
    {
     "data": {
      "text/plain": [
       "'June'"
      ]
     },
     "execution_count": 4,
     "metadata": {},
     "output_type": "execute_result"
    }
   ],
   "source": [
    "# Ask for the month name\n",
    "\n",
    "month = get_input(\"Please enter month name: \")\n",
    "month"
   ]
  },
  {
   "cell_type": "code",
   "execution_count": 5,
   "id": "portable-snake",
   "metadata": {},
   "outputs": [
    {
     "data": {
      "text/plain": [
       "str"
      ]
     },
     "execution_count": 5,
     "metadata": {},
     "output_type": "execute_result"
    }
   ],
   "source": [
    "# Let's see return type from get_input function\n",
    "\n",
    "type(month)"
   ]
  },
  {
   "cell_type": "markdown",
   "id": "nutritional-connectivity",
   "metadata": {},
   "source": [
    "---"
   ]
  },
  {
   "cell_type": "markdown",
   "id": "corporate-northeast",
   "metadata": {},
   "source": [
    "**Q 2:**\n",
    "\n",
    "We already know that, get_input function in Question 1 returns str.\n",
    "\n",
    "Now we will define a new function named **is_integer**.\n",
    "\n",
    "It will get a string parameter and will check if its value is integer or not.\n",
    "\n",
    "It will return True if the parameter is integer."
   ]
  },
  {
   "cell_type": "code",
   "execution_count": 7,
   "id": "legal-yukon",
   "metadata": {},
   "outputs": [],
   "source": [
    "# S 2:\n",
    "\n",
    "def is_integer(text):\n",
    "    \"\"\"\n",
    "    Checks if the text is integer.\n",
    "    Parameter: str text\n",
    "    Returns: True if text is integer\n",
    "    \"\"\"\n",
    "    \n",
    "    # possibilities\n",
    "    \n",
    "    # 1 - there may be spaces at the beginning and end of string -> str.strip()\n",
    "    text = text.strip()\n",
    "    \n",
    "    # 2- There may be +,- signs at the beginning, +9, -8 -> str.strip(<character>)\n",
    "    text = text.strip('+-')\n",
    "    \n",
    "    # Now we can check if integer -> isdigit()\n",
    "    if text.isdigit():\n",
    "        return True\n",
    "    else:\n",
    "        return False\n",
    "    "
   ]
  },
  {
   "cell_type": "code",
   "execution_count": 11,
   "id": "expanded-consideration",
   "metadata": {},
   "outputs": [
    {
     "name": "stdin",
     "output_type": "stream",
     "text": [
      "Please enter a number:  -8\n"
     ]
    },
    {
     "data": {
      "text/plain": [
       "True"
      ]
     },
     "execution_count": 11,
     "metadata": {},
     "output_type": "execute_result"
    }
   ],
   "source": [
    "# let's test is_integer function\n",
    "\n",
    "# first get an input from the user\n",
    "input_text = \"Please enter a number: \"\n",
    "user_input = get_input(input_text)\n",
    "\n",
    "# check if the input is integer\n",
    "is_input_integer = is_integer(user_input)\n",
    "\n",
    "# Let's the result\n",
    "is_input_integer"
   ]
  },
  {
   "cell_type": "code",
   "execution_count": 12,
   "id": "individual-virtue",
   "metadata": {},
   "outputs": [
    {
     "name": "stdin",
     "output_type": "stream",
     "text": [
      "Please enter a number:  78\n"
     ]
    },
    {
     "name": "stdout",
     "output_type": "stream",
     "text": [
      "True\n"
     ]
    }
   ],
   "source": [
    "# in one line -> composition\n",
    "\n",
    "print(is_integer(get_input(\"Please enter a number: \")))"
   ]
  },
  {
   "cell_type": "markdown",
   "id": "unknown-branch",
   "metadata": {},
   "source": [
    "---"
   ]
  },
  {
   "cell_type": "markdown",
   "id": "buried-setup",
   "metadata": {},
   "source": [
    "**Q 3:**\n",
    "\n",
    "Get an integer from the user, using functions in Q1 and Q2.\n",
    "\n",
    "Which will guarantee that it is an integer.\n",
    "\n",
    "If the input is not integer, ask recursively.\n",
    "\n",
    "Function name will be **get_integer**.\n",
    "\n",
    "Hints:\n",
    "* Use Recursion"
   ]
  },
  {
   "cell_type": "code",
   "execution_count": 13,
   "id": "moved-soviet",
   "metadata": {},
   "outputs": [],
   "source": [
    "# S 3:\n",
    "\n",
    "def get_integer(input_text):\n",
    "    \"\"\"\n",
    "    Gets integer from user (eventually).\n",
    "    Parameters: str input_text\n",
    "    Returns: int user_input\n",
    "    \"\"\"\n",
    "    \n",
    "    # ask for input\n",
    "    user_input = get_input(input_text)\n",
    "    \n",
    "    # check if int  -> exit condition\n",
    "    if is_integer(user_input):\n",
    "        return int(user_input)\n",
    "    else:\n",
    "        # ask again\n",
    "        return get_integer(input_text)\n"
   ]
  },
  {
   "cell_type": "code",
   "execution_count": 14,
   "id": "coupled-signature",
   "metadata": {},
   "outputs": [
    {
     "name": "stdin",
     "output_type": "stream",
     "text": [
      "please enter an integer:  asdf\n",
      "please enter an integer:  trt\n",
      "please enter an integer:  565g\n",
      "please enter an integer:  sadfasdf\n",
      "please enter an integer:  7878g\n",
      "please enter an integer:  89\n"
     ]
    },
    {
     "name": "stdout",
     "output_type": "stream",
     "text": [
      "89\n"
     ]
    }
   ],
   "source": [
    "num = get_integer(\"please enter an integer: \")\n",
    "print(num)"
   ]
  },
  {
   "cell_type": "code",
   "execution_count": 17,
   "id": "educated-blank",
   "metadata": {},
   "outputs": [
    {
     "name": "stdin",
     "output_type": "stream",
     "text": [
      "please enter an integer:  sdf\n",
      "please enter an integer:  tytty\n",
      "please enter an integer:  asdfasdf\n",
      "please enter an integer:  -80\n"
     ]
    },
    {
     "data": {
      "text/plain": [
       "-80"
      ]
     },
     "execution_count": 17,
     "metadata": {},
     "output_type": "execute_result"
    }
   ],
   "source": [
    "get_integer(\"please enter an integer: \")"
   ]
  },
  {
   "cell_type": "markdown",
   "id": "cross-record",
   "metadata": {},
   "source": [
    "---"
   ]
  },
  {
   "cell_type": "markdown",
   "id": "round-paraguay",
   "metadata": {},
   "source": [
    "**Q 4:**\n",
    "\n",
    "Define a function named **day_of_week**.\n",
    "\n",
    "The function will ask the user to enter an integer between 1-7.\n",
    "\n",
    "And it will decide the day name according to that number.\n",
    "\n",
    "Hints:\n",
    "* use functions in Q3\n",
    "* check for number being in range 1-7"
   ]
  },
  {
   "cell_type": "code",
   "execution_count": 18,
   "id": "similar-abortion",
   "metadata": {},
   "outputs": [],
   "source": [
    "# S 4:\n",
    "\n",
    "def day_of_week():\n",
    "    \n",
    "    # get an integer first\n",
    "    day_num = get_integer(\"Please enter a day number 1-7: \")\n",
    "    \n",
    "    # check if 1-7\n",
    "    if not 1 <= day_num <= 7:\n",
    "        return \"Invalid day number. Not in 1-7.\"\n",
    "    \n",
    "    # If we passed -> 1-7\n",
    "    \n",
    "    if day_num == 1:\n",
    "        return 'Monday'\n",
    "    elif day_num == 2:\n",
    "        return 'Teusday'\n",
    "    elif day_num == 3:\n",
    "        return 'Wednesday'\n",
    "    elif day_num == 4:\n",
    "        return 'Thursday'\n",
    "    elif day_num == 5:\n",
    "        return 'Friday'\n",
    "    elif day_num == 6:\n",
    "        return 'Saturday'\n",
    "    else:\n",
    "        return 'Sunday'\n",
    "    \n"
   ]
  },
  {
   "cell_type": "code",
   "execution_count": 20,
   "id": "limited-outdoors",
   "metadata": {},
   "outputs": [
    {
     "name": "stdin",
     "output_type": "stream",
     "text": [
      "Please enter a day number 1-7:  asdf\n",
      "Please enter a day number 1-7:  rt\n",
      "Please enter a day number 1-7:  5\n"
     ]
    },
    {
     "data": {
      "text/plain": [
       "'Friday'"
      ]
     },
     "execution_count": 20,
     "metadata": {},
     "output_type": "execute_result"
    }
   ],
   "source": [
    "# now let's the benefits of functions\n",
    "\n",
    "day_of_week()"
   ]
  },
  {
   "cell_type": "markdown",
   "id": "revolutionary-voltage",
   "metadata": {},
   "source": [
    "---"
   ]
  },
  {
   "cell_type": "markdown",
   "id": "reverse-chapter",
   "metadata": {},
   "source": [
    "**Q 5:**\n",
    "\n",
    "Copy the functions below and examine the **Stack Trace**.\n",
    "\n",
    "Stack Trace means the execution order of functions.\n",
    "\n",
    "Make sure you understand the execution order.\n",
    "\n",
    "<pre>\n",
    "def n(c):\n",
    "    power = m(c, c)\n",
    "    print(c, power)\n",
    "    return power\n",
    "        \n",
    "def m(x, y):\n",
    "    x = x + 2\n",
    "    return x**y\n",
    "\n",
    "def p(x, y, z):\n",
    "    summation = x + y + z\n",
    "    sqr = n(summation)**2\n",
    "    return sqr\n",
    "\n",
    "a = 1\n",
    "b = a + 1\n",
    "print(p(a, b+1, a+b)) \n",
    "</pre>\n"
   ]
  },
  {
   "cell_type": "code",
   "execution_count": 21,
   "id": "korean-duration",
   "metadata": {},
   "outputs": [
    {
     "name": "stdout",
     "output_type": "stream",
     "text": [
      "7 4782969\n",
      "22876792454961\n"
     ]
    }
   ],
   "source": [
    "# S 5:\n",
    "\n",
    "def n(c):\n",
    "    power = m(c, c)\n",
    "    print(c, power)\n",
    "    return power\n",
    "\n",
    "def m(x, y):\n",
    "    x = x + 2\n",
    "    return x**y\n",
    "\n",
    "def p(x, y, z):\n",
    "    summation = x + y + z\n",
    "    sqr = n(summation)**2\n",
    "    return sqr\n",
    "\n",
    "a = 1\n",
    "b = a + 1\n",
    "print(p(a, b+1, a+b))\n"
   ]
  },
  {
   "cell_type": "markdown",
   "id": "outside-radius",
   "metadata": {},
   "source": [
    "**Stack Trace:**"
   ]
  },
  {
   "cell_type": "markdown",
   "id": "mental-authentication",
   "metadata": {},
   "source": [
    "* Variable a is created and assigned as 1\n",
    "* Variable b is created and assigned as a + 1 (which is 2)"
   ]
  },
  {
   "cell_type": "markdown",
   "id": "circular-wagon",
   "metadata": {},
   "source": [
    "* print() function calls function **p** -> p(1, 3, 3)"
   ]
  },
  {
   "cell_type": "markdown",
   "id": "usual-beginning",
   "metadata": {},
   "source": [
    "* **p** calls **n** with summation of parameters"
   ]
  },
  {
   "cell_type": "markdown",
   "id": "checked-thought",
   "metadata": {},
   "source": [
    "* **n** calls **m** with parameter c"
   ]
  },
  {
   "cell_type": "markdown",
   "id": "confirmed-british",
   "metadata": {},
   "source": [
    "* **m** adds 2 to the parameter x and returns x**y"
   ]
  },
  {
   "cell_type": "markdown",
   "id": "constitutional-cheat",
   "metadata": {},
   "source": [
    "* **n** receives the return value from **m** as power and prints it"
   ]
  },
  {
   "cell_type": "markdown",
   "id": "emotional-brick",
   "metadata": {},
   "source": [
    "* **n** returns the power variable back to **p**"
   ]
  },
  {
   "cell_type": "markdown",
   "id": "realistic-attack",
   "metadata": {},
   "source": [
    "* **p** receives the return value of **n** and squares it as sqr, then return this sqr"
   ]
  },
  {
   "cell_type": "markdown",
   "id": "unnecessary-memphis",
   "metadata": {},
   "source": [
    "* print() function prints the return value from p"
   ]
  },
  {
   "cell_type": "markdown",
   "id": "specific-decision",
   "metadata": {},
   "source": [
    "----"
   ]
  },
  {
   "cell_type": "markdown",
   "id": "regional-magazine",
   "metadata": {},
   "source": [
    "**Q 6:**\n",
    "\n",
    "Define a function named **arithmetic_mean**.\n",
    "\n",
    "The function will get parameters that are not known. (unknown parameters)\n",
    "\n",
    "Namely, the number of parameters is not known in advance.\n",
    "\n",
    "The function will print the arithmetic mean of these parameters.\n",
    "\n",
    "**Hints:**\n",
    "* *args\n",
    "* Arithmetic Mean = Summation / Number of Elements\n",
    "* sum()\n",
    "* len()"
   ]
  },
  {
   "cell_type": "code",
   "execution_count": 22,
   "id": "illegal-formation",
   "metadata": {},
   "outputs": [],
   "source": [
    "# S 6:\n",
    "\n",
    "def arithmetic_mean(*args):\n",
    "    \n",
    "    # calculate the summation\n",
    "    summation = sum(args)\n",
    "    \n",
    "    # number of elements\n",
    "    number_of_elements = len(args)  # len -> length\n",
    "    \n",
    "    return summation / number_of_elements\n",
    "    "
   ]
  },
  {
   "cell_type": "code",
   "execution_count": 23,
   "id": "contained-chosen",
   "metadata": {},
   "outputs": [
    {
     "name": "stdout",
     "output_type": "stream",
     "text": [
      "6.0\n"
     ]
    }
   ],
   "source": [
    "mean = arithmetic_mean(2, 5, 11)\n",
    "print(mean)"
   ]
  },
  {
   "cell_type": "code",
   "execution_count": 24,
   "id": "invalid-finger",
   "metadata": {},
   "outputs": [
    {
     "data": {
      "text/plain": [
       "30.0"
      ]
     },
     "execution_count": 24,
     "metadata": {},
     "output_type": "execute_result"
    }
   ],
   "source": [
    "arithmetic_mean(10, 30, 60, 20)"
   ]
  },
  {
   "cell_type": "markdown",
   "id": "occupied-multiple",
   "metadata": {},
   "source": [
    "---"
   ]
  },
  {
   "cell_type": "markdown",
   "id": "conditional-adjustment",
   "metadata": {},
   "source": [
    "**Q 7:**\n",
    "\n",
    "Define a function named **area_of_circle**.\n",
    "\n",
    "It will take the radius as parameter and calcuates the area of the circle.\n",
    "\n",
    "The function body should be one line of code.\n",
    "\n",
    "**Hints:**\n",
    "\n",
    "$ Area Of Circle = \\pi * r^2$"
   ]
  },
  {
   "cell_type": "code",
   "execution_count": 25,
   "id": "respected-amendment",
   "metadata": {},
   "outputs": [],
   "source": [
    "# S 7:\n",
    "\n",
    "import math\n",
    "\n",
    "def area_of_circle(r):\n",
    "    \"\"\"Returns the area of circle\"\"\"\n",
    "    return math.pi * r**2\n"
   ]
  },
  {
   "cell_type": "code",
   "execution_count": 26,
   "id": "robust-spray",
   "metadata": {},
   "outputs": [
    {
     "data": {
      "text/plain": [
       "314.1592653589793"
      ]
     },
     "execution_count": 26,
     "metadata": {},
     "output_type": "execute_result"
    }
   ],
   "source": [
    "area_of_circle(10)"
   ]
  },
  {
   "cell_type": "markdown",
   "id": "breeding-correction",
   "metadata": {},
   "source": [
    "---"
   ]
  },
  {
   "cell_type": "markdown",
   "id": "practical-guess",
   "metadata": {},
   "source": [
    "**Q 8:**\n",
    "\n",
    "Define a function named **perimeter_of_circle**.\n",
    "\n",
    "It will take the radius as parameter and calcuates the perimeter of the circle.\n",
    "\n",
    "The function body should be one line of code.\n",
    "\n",
    "**Hints:**\n",
    "\n",
    "$ Perimeter Of Circle = 2 * \\pi * r$"
   ]
  },
  {
   "cell_type": "code",
   "execution_count": 27,
   "id": "joint-ability",
   "metadata": {},
   "outputs": [],
   "source": [
    "# S 8:\n",
    "\n",
    "import math\n",
    "\n",
    "def perimeter_of_circle(r):\n",
    "    \"\"\"Returns the perimeter of circle\"\"\"\n",
    "    return 2 * math.pi * r\n",
    "    \n"
   ]
  },
  {
   "cell_type": "code",
   "execution_count": 28,
   "id": "republican-active",
   "metadata": {},
   "outputs": [
    {
     "data": {
      "text/plain": [
       "62.83185307179586"
      ]
     },
     "execution_count": 28,
     "metadata": {},
     "output_type": "execute_result"
    }
   ],
   "source": [
    "perimeter_of_circle(10)"
   ]
  },
  {
   "cell_type": "markdown",
   "id": "broad-median",
   "metadata": {},
   "source": [
    "---"
   ]
  },
  {
   "cell_type": "markdown",
   "id": "significant-blanket",
   "metadata": {},
   "source": [
    "**Q 9:**\n",
    "\n",
    "Define a function named **area_of_rectangle**.\n",
    "\n",
    "The parameters will be length (l) and width (w).\n",
    "\n",
    "The function body should be one line of code.\n",
    "\n",
    "**Hints:**\n",
    "\n",
    "$ Area Of Rectangle = l * w$"
   ]
  },
  {
   "cell_type": "code",
   "execution_count": 29,
   "id": "lesbian-bottle",
   "metadata": {},
   "outputs": [],
   "source": [
    "# S 9:\n",
    "\n",
    "def area_of_rectangle(l, w):\n",
    "    return l * w\n"
   ]
  },
  {
   "cell_type": "code",
   "execution_count": 30,
   "id": "standard-effects",
   "metadata": {},
   "outputs": [
    {
     "data": {
      "text/plain": [
       "60"
      ]
     },
     "execution_count": 30,
     "metadata": {},
     "output_type": "execute_result"
    }
   ],
   "source": [
    "area_of_rectangle(5, 12)"
   ]
  },
  {
   "cell_type": "markdown",
   "id": "durable-sector",
   "metadata": {},
   "source": [
    "---"
   ]
  },
  {
   "cell_type": "markdown",
   "id": "acoustic-croatia",
   "metadata": {},
   "source": [
    "**Q 10:**\n",
    "\n",
    "Define a function to calculate the surface area of a right cylinder.\n",
    "\n",
    "The name will be **area_of_cylinder** and it will take two parameters.\n",
    "\n",
    "The first parameter r will be the radius of top and base circles.\n",
    "\n",
    "The seconda parameter h will be the hight of cylinder.\n",
    "\n",
    "**Hints:**\n",
    "* cylinder is a combination of two circles and a rectangle\n",
    "* use functions from previous questions to calculate the areas"
   ]
  },
  {
   "cell_type": "code",
   "execution_count": 33,
   "id": "white-isaac",
   "metadata": {},
   "outputs": [],
   "source": [
    "# S 10:\n",
    "\n",
    "def area_of_cylinder(r, h):\n",
    "    \"\"\"\n",
    "    Calculates the total surface area of cylinder.\n",
    "    Parameters:\n",
    "        * r: int radius\n",
    "        * h: int height\n",
    "    Returns: int total surface area\n",
    "    \"\"\"\n",
    "    \n",
    "    # first calculate the area of circles (2)\n",
    "    circle = area_of_circle(r)\n",
    "    \n",
    "    # lateral surface (rectange)\n",
    "    # Perimiter of circle and height\n",
    "    # laterarl area = perimiter * height\n",
    "    \n",
    "    # perimeter\n",
    "    perimeter = perimeter_of_circle(r)\n",
    "    \n",
    "    # rectangle\n",
    "    rectangle = area_of_rectangle(perimeter, h)\n",
    "    \n",
    "    # total area\n",
    "    total_area = 2 * circle + rectangle\n",
    "\n",
    "    return total_area\n",
    "    "
   ]
  },
  {
   "cell_type": "code",
   "execution_count": 34,
   "id": "controlling-consciousness",
   "metadata": {},
   "outputs": [
    {
     "data": {
      "text/plain": [
       "753.9822368615504"
      ]
     },
     "execution_count": 34,
     "metadata": {},
     "output_type": "execute_result"
    }
   ],
   "source": [
    "area_of_cylinder(10, 2)"
   ]
  },
  {
   "cell_type": "code",
   "execution_count": null,
   "id": "formal-debut",
   "metadata": {},
   "outputs": [],
   "source": []
  }
 ],
 "metadata": {
  "kernelspec": {
   "display_name": "Python 3",
   "language": "python",
   "name": "python3"
  },
  "language_info": {
   "codemirror_mode": {
    "name": "ipython",
    "version": 3
   },
   "file_extension": ".py",
   "mimetype": "text/x-python",
   "name": "python",
   "nbconvert_exporter": "python",
   "pygments_lexer": "ipython3",
   "version": "3.8.8"
  }
 },
 "nbformat": 4,
 "nbformat_minor": 5
}
