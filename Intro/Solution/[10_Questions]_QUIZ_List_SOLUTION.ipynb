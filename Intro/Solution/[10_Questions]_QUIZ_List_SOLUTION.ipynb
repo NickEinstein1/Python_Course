{
 "cells": [
  {
   "cell_type": "markdown",
   "id": "renewable-ambassador",
   "metadata": {},
   "source": [
    "## [10 Questions] QUIZ - List - SOLUTION"
   ]
  },
  {
   "cell_type": "markdown",
   "id": "unknown-movement",
   "metadata": {},
   "source": [
    "**Q 1:**\n",
    "\n",
    "Define a function named **sum_of_list**.\n",
    "\n",
    "The parameter will be a list.\n",
    "\n",
    "The function will add all the elements in the list and return the summation result.\n",
    "\n",
    "<pre>\n",
    "Expected Output:\n",
    "nums = [1, 2, 3, 4, 5] \n",
    "sum_of_list(nums) -> 15\n",
    "</pre>"
   ]
  },
  {
   "cell_type": "code",
   "execution_count": 8,
   "id": "medical-personal",
   "metadata": {},
   "outputs": [],
   "source": [
    "# S 1:\n",
    "\n",
    "def sum_of_list(a_list):\n",
    "    \n",
    "    # variable to keep sum\n",
    "    summation = 0\n",
    "    \n",
    "    for i in a_list:\n",
    "        # control for being integer\n",
    "        if str(i).isdigit():\n",
    "            summation += i\n",
    "        \n",
    "    return summation\n",
    "    "
   ]
  },
  {
   "cell_type": "code",
   "execution_count": 9,
   "id": "artificial-moderator",
   "metadata": {},
   "outputs": [
    {
     "name": "stdout",
     "output_type": "stream",
     "text": [
      "15\n"
     ]
    }
   ],
   "source": [
    "nums = [1, 2, 3, 4, 5, 'a'] \n",
    "\n",
    "summation = sum_of_list(nums)\n",
    "\n",
    "print(summation)"
   ]
  },
  {
   "cell_type": "code",
   "execution_count": 4,
   "id": "limiting-hopkins",
   "metadata": {},
   "outputs": [
    {
     "name": "stdout",
     "output_type": "stream",
     "text": [
      "600\n"
     ]
    }
   ],
   "source": [
    "nums = [10, 20, 30, 40, 500] \n",
    "\n",
    "summation = sum_of_list(nums)\n",
    "\n",
    "print(summation)"
   ]
  },
  {
   "cell_type": "markdown",
   "id": "former-depth",
   "metadata": {},
   "source": [
    "---"
   ]
  },
  {
   "cell_type": "markdown",
   "id": "normal-convenience",
   "metadata": {},
   "source": [
    "**Q 2:**\n",
    "\n",
    "Define a function named **two_levels_sum**.\n",
    "\n",
    "The parameter will be a list of two levels (nested list).\n",
    "\n",
    "The function will add all the elements including the nested lists and return the summation result.\n",
    "\n",
    "**Hints:**\n",
    "* isdigit()\n",
    "* type()\n",
    "\n",
    "<pre>\n",
    "Expected Output:\n",
    "a_list = [[5, 8], [1, 4, 7], [10], 3]\n",
    "summation = two_levels_sum(a_list)  -> 38\n",
    "</pre>"
   ]
  },
  {
   "cell_type": "code",
   "execution_count": 11,
   "id": "minor-thirty",
   "metadata": {},
   "outputs": [],
   "source": [
    "# S 2:\n",
    "\n",
    "def two_levels_sum(p_list):\n",
    "    \n",
    "    summation = 0\n",
    "    \n",
    "    for item in p_list:\n",
    "        \n",
    "        # type check -> list\n",
    "        if type(item) == list:\n",
    "            # item is a list -> loop over its elements\n",
    "            for inner_item in item:\n",
    "                if str(inner_item).isdigit():\n",
    "                    summation += inner_item\n",
    "            \n",
    "        # type check -> int\n",
    "        elif str(item).isdigit():\n",
    "            summation += item\n",
    "    \n",
    "    return summation\n"
   ]
  },
  {
   "cell_type": "code",
   "execution_count": 12,
   "id": "hearing-butterfly",
   "metadata": {},
   "outputs": [
    {
     "name": "stdout",
     "output_type": "stream",
     "text": [
      "38\n"
     ]
    }
   ],
   "source": [
    "a_list = [[5, 8], [1, 4, 7], [10], 3]\n",
    "\n",
    "summation = two_levels_sum(a_list)\n",
    "\n",
    "print(summation)"
   ]
  },
  {
   "cell_type": "code",
   "execution_count": 13,
   "id": "african-insert",
   "metadata": {},
   "outputs": [
    {
     "name": "stdout",
     "output_type": "stream",
     "text": [
      "38\n"
     ]
    }
   ],
   "source": [
    "a_list = [[5, 8], [1, 4, 7], [10], 3, 'a']\n",
    "\n",
    "summation = two_levels_sum(a_list)\n",
    "\n",
    "print(summation)"
   ]
  },
  {
   "cell_type": "code",
   "execution_count": 14,
   "id": "auburn-thought",
   "metadata": {},
   "outputs": [
    {
     "name": "stdout",
     "output_type": "stream",
     "text": [
      "42\n"
     ]
    }
   ],
   "source": [
    "a_list = [[1, 2, 3], [1, 2], 3, [10, 20]]\n",
    "\n",
    "summation = two_levels_sum(a_list)\n",
    "\n",
    "print(summation)"
   ]
  },
  {
   "cell_type": "markdown",
   "id": "assisted-following",
   "metadata": {},
   "source": [
    "---"
   ]
  },
  {
   "cell_type": "markdown",
   "id": "chronic-airport",
   "metadata": {},
   "source": [
    "**Q 3:**\n",
    "\n",
    "The function you defined in Q2 can only add lists of two levels.\n",
    "\n",
    "Now we will convert this into a generic function that can take any levels of nested lists.\n",
    "\n",
    "Function name will be **nested_sum**.\n",
    "\n",
    "It will add all the elements of all lists including nested lists and return the overall summation result.\n",
    "\n",
    "\n",
    "**Hints:**\n",
    "* Recursive\n",
    "* isdigit()\n",
    "* type()\n",
    "\n",
    "<pre>\n",
    "Expected Output:\n",
    "a_list = [[5, 8], [1, 4, 7, [8, 2]], [10, [-1, 2]], 3]\n",
    "summation = nested_sum(a_list)  -> 49\n",
    "</pre>"
   ]
  },
  {
   "cell_type": "code",
   "execution_count": 15,
   "id": "incorporated-airport",
   "metadata": {},
   "outputs": [],
   "source": [
    "# S 3:\n",
    "\n",
    "def nested_sum(p_list):\n",
    "    \n",
    "    summation = 0\n",
    "    \n",
    "    for item in p_list:\n",
    "        \n",
    "        if type(item) == int:\n",
    "            summation += item\n",
    "        \n",
    "        elif type(item) == list:\n",
    "            \n",
    "            # if the item is list -> we will loop over its elements\n",
    "            # recursion\n",
    "            \n",
    "            summation += nested_sum(item)\n",
    "\n",
    "    return summation\n",
    "    "
   ]
  },
  {
   "cell_type": "code",
   "execution_count": 18,
   "id": "compressed-obligation",
   "metadata": {},
   "outputs": [
    {
     "name": "stdout",
     "output_type": "stream",
     "text": [
      "49\n"
     ]
    }
   ],
   "source": [
    "a_list = [[5, 8], [1, 4, 7, [8, 2]], [10, [-1, 2]], 3]\n",
    "\n",
    "summation = nested_sum(a_list)\n",
    "\n",
    "print(summation)"
   ]
  },
  {
   "cell_type": "code",
   "execution_count": 19,
   "id": "every-alpha",
   "metadata": {},
   "outputs": [
    {
     "name": "stdout",
     "output_type": "stream",
     "text": [
      "57\n"
     ]
    }
   ],
   "source": [
    "a_list = [[-5, [9, 1, [6, 2]], 8], [1, 4, 7, [8, 2]], [10, [-1, 2]], 3]\n",
    "\n",
    "summation = nested_sum(a_list)\n",
    "\n",
    "print(summation)"
   ]
  },
  {
   "cell_type": "markdown",
   "id": "sharing-bailey",
   "metadata": {},
   "source": [
    "---"
   ]
  },
  {
   "cell_type": "markdown",
   "id": "noble-relationship",
   "metadata": {},
   "source": [
    "**Q 4:**\n",
    "\n",
    "Define a function named **squares**.\n",
    "\n",
    "It will calculate the square of each item in the list and append it to a new list.\n",
    "\n",
    "It will return the new list of squares.\n",
    "\n",
    "<pre>\n",
    "numbers = [1,2,3,4,5]\n",
    "squares(numbers)  ->   [1, 4, 9, 16, 25]\n",
    "\n",
    "</pre>"
   ]
  },
  {
   "cell_type": "code",
   "execution_count": 20,
   "id": "regular-sauce",
   "metadata": {},
   "outputs": [],
   "source": [
    "# S 4:\n",
    "\n",
    "def squares(p_list):\n",
    "    \n",
    "    # new_list = []\n",
    "    new_list = list()\n",
    "    \n",
    "    for i, element in enumerate(p_list):\n",
    "        new_list.append(element**2)\n",
    "    \n",
    "    return new_list\n",
    "    "
   ]
  },
  {
   "cell_type": "code",
   "execution_count": 21,
   "id": "successful-scott",
   "metadata": {},
   "outputs": [
    {
     "name": "stdout",
     "output_type": "stream",
     "text": [
      "[1, 4, 9, 16, 25]\n"
     ]
    }
   ],
   "source": [
    "numbers = [1,2,3,4,5]\n",
    "\n",
    "result = squares(numbers)\n",
    "\n",
    "print(result)"
   ]
  },
  {
   "cell_type": "markdown",
   "id": "sweet-secretary",
   "metadata": {},
   "source": [
    "---"
   ]
  },
  {
   "cell_type": "markdown",
   "id": "present-utility",
   "metadata": {},
   "source": [
    "**Q 5:**\n",
    "\n",
    "Define a function named **sum_of_squares**.\n",
    "\n",
    "It will calculate the squares of items first and will add them to create items of a new list.\n",
    "\n",
    "Each item in the new list will be the sum of items from the old list starting from index 0 up to the item's index.\n",
    "\n",
    "For example in the new list the item in index 4 is going to be the sum of squares of items at indices 0-1-2-3-4 of parameter list.\n",
    "\n",
    "And it will retun the new list.\n",
    "\n",
    "**Hints:**\n",
    "* use sum_of_list funtion you defined in Q1\n",
    "\n",
    "<pre>\n",
    "a_list = [1,2,3,4,5]\n",
    "result = sum_of_squares(a_list)\n",
    "print(result)\n",
    "\n",
    "Expected Output:\n",
    "[1, 5, 15, 37, 83]\n",
    "</pre>"
   ]
  },
  {
   "cell_type": "code",
   "execution_count": 22,
   "id": "particular-witness",
   "metadata": {},
   "outputs": [],
   "source": [
    "# S 5:\n",
    "\n",
    "def sum_of_squares(p_list):\n",
    "    \n",
    "    new_list = []\n",
    "    \n",
    "    for element in p_list:\n",
    "        \n",
    "        # get total of new list\n",
    "        new_list_total = sum_of_list(new_list)\n",
    "        \n",
    "        # get square of the current element and add it new_total\n",
    "        new_total = new_list_total + element**2\n",
    "        \n",
    "        # append new total to new_list\n",
    "        new_list.append(new_total)\n",
    "        \n",
    "    return new_list\n",
    "    "
   ]
  },
  {
   "cell_type": "code",
   "execution_count": 23,
   "id": "equivalent-tulsa",
   "metadata": {},
   "outputs": [
    {
     "name": "stdout",
     "output_type": "stream",
     "text": [
      "[1, 5, 15]\n"
     ]
    }
   ],
   "source": [
    "a_list = [1,2,3]\n",
    "\n",
    "result = sum_of_squares(a_list)\n",
    "\n",
    "print(result)"
   ]
  },
  {
   "cell_type": "code",
   "execution_count": 24,
   "id": "satisfied-firmware",
   "metadata": {},
   "outputs": [
    {
     "name": "stdout",
     "output_type": "stream",
     "text": [
      "[1, 5, 15, 37, 83]\n"
     ]
    }
   ],
   "source": [
    "a_list = [1,2,3,4,5]\n",
    "\n",
    "result = sum_of_squares(a_list)\n",
    "\n",
    "print(result)"
   ]
  },
  {
   "cell_type": "markdown",
   "id": "secure-equation",
   "metadata": {},
   "source": [
    "---"
   ]
  },
  {
   "cell_type": "markdown",
   "id": "emerging-clothing",
   "metadata": {},
   "source": [
    "**Q 6:**\n",
    "\n",
    "Define a function that return the difference between items at odd indices (1,3,5...) and items at even indices (0,2,4...).\n",
    "\n",
    "The function name will be **odd_even_difference**.\n",
    "\n",
    "**Hints:**\n",
    "* index starts from zero\n",
    "* use lists and indices only\n",
    "* do not use loop\n",
    "* use sum_of_list funtion you defined in Q1\n",
    "\n",
    "<pre>\n",
    "a_list = [1,2,3,4,5,6]\n",
    "diff = odd_even_difference(a_list)\n",
    "print(diff)\n",
    "\n",
    "Expected Output:\n",
    "3\n",
    "</pre>"
   ]
  },
  {
   "cell_type": "code",
   "execution_count": 25,
   "id": "suspended-voltage",
   "metadata": {},
   "outputs": [],
   "source": [
    "# S 6:\n",
    "\n",
    "def odd_even_difference(p_list):\n",
    "    \n",
    "    # odd elements\n",
    "    odds = p_list[1::2]\n",
    "    \n",
    "    # odd summation\n",
    "    odds_sum = sum_of_list(odds)\n",
    "    \n",
    "    # even elements\n",
    "    evens = p_list[::2]\n",
    "    \n",
    "    # event summation\n",
    "    evens_sum = sum_of_list(evens)\n",
    "\n",
    "    # get difference\n",
    "    diff = odds_sum - evens_sum\n",
    "    \n",
    "    return diff\n",
    "    "
   ]
  },
  {
   "cell_type": "code",
   "execution_count": 26,
   "id": "immune-louis",
   "metadata": {},
   "outputs": [
    {
     "name": "stdout",
     "output_type": "stream",
     "text": [
      "3\n"
     ]
    }
   ],
   "source": [
    "a_list = [1,2,3,4,5,6]\n",
    "\n",
    "diff = odd_even_difference(a_list)\n",
    "\n",
    "print(diff)"
   ]
  },
  {
   "cell_type": "code",
   "execution_count": 27,
   "id": "specified-european",
   "metadata": {},
   "outputs": [
    {
     "name": "stdout",
     "output_type": "stream",
     "text": [
      "0\n"
     ]
    }
   ],
   "source": [
    "a_list = [10,10,30,30,500,500]\n",
    "\n",
    "diff = odd_even_difference(a_list)\n",
    "\n",
    "print(diff)"
   ]
  },
  {
   "cell_type": "markdown",
   "id": "varying-intake",
   "metadata": {},
   "source": [
    "---"
   ]
  },
  {
   "cell_type": "markdown",
   "id": "adequate-circle",
   "metadata": {},
   "source": [
    "**Q 7:**\n",
    "\n",
    "Define a function that crop the list parameter.\n",
    "\n",
    "The function will be **crop_the_list**.\n",
    "\n",
    "Cropping means remove the first and the last elements from the list.\n",
    "\n",
    "The function will **mutate the originial list parameter** namely it will modify the list in-place.\n",
    "\n",
    "It will not return any value.\n",
    "\n",
    "Test the function and prove it mutates the list which you pass as argument.\n",
    "\n",
    "<pre>    \n",
    "nums = [1,2,3,4,5,6,7]\n",
    "print('the list before passing as parameter:', nums)\n",
    "crop_the_list(nums)\n",
    "print('the list before passing as parameter:', nums)\n",
    "\n",
    "Expected Output:\n",
    "the list before passing as parameter: [1, 2, 3, 4, 5, 6, 7]\n",
    "the list before passing as parameter: [2, 3, 4, 5, 6]\n",
    "</pre>"
   ]
  },
  {
   "cell_type": "code",
   "execution_count": 28,
   "id": "communist-mission",
   "metadata": {},
   "outputs": [],
   "source": [
    "# S 7:\n",
    "\n",
    "def crop_the_list(p_list):\n",
    "    \n",
    "    # remove the first element\n",
    "    p_list.pop(0)\n",
    "    \n",
    "    # remove the final element\n",
    "    p_list.pop()\n"
   ]
  },
  {
   "cell_type": "code",
   "execution_count": 29,
   "id": "indian-brave",
   "metadata": {},
   "outputs": [
    {
     "name": "stdout",
     "output_type": "stream",
     "text": [
      "the list before passing as parameter: [1, 2, 3, 4, 5, 6, 7]\n",
      "the list before passing as parameter: [2, 3, 4, 5, 6]\n"
     ]
    }
   ],
   "source": [
    "nums = [1,2,3,4,5,6,7]\n",
    "\n",
    "print('the list before passing as parameter:', nums)\n",
    "\n",
    "crop_the_list(nums)\n",
    "\n",
    "print('the list before passing as parameter:', nums)"
   ]
  },
  {
   "cell_type": "markdown",
   "id": "alike-boston",
   "metadata": {},
   "source": [
    "---"
   ]
  },
  {
   "cell_type": "markdown",
   "id": "valid-mentor",
   "metadata": {},
   "source": [
    "**Q 8:**\n",
    "\n",
    "Define a function named **sort_the_list**.\n",
    "\n",
    "It will take a list and sort type (is_reverse) as parameters.\n",
    "\n",
    "**is_reverse** will be boolean and it will decide if the sort will be ascending or descending. It's default value will be False.\n",
    "* if is_reverse is True -> sort will be descending\n",
    "* if is_reverse is False -> sort will be ascending\n",
    "\n",
    "The function will return the new sorted list.\n",
    "\n",
    "**Hints:**\n",
    "* sorted()\n",
    "* no loops\n",
    "* do not mutate the original list\n",
    "\n",
    "<pre>\n",
    "a = [12, 4, 2, 1, 6, 3, 45]\n",
    "print('a:', a)\n",
    "sorted_a = sort_the_list(a, False)\n",
    "print('sorted - ascending', sorted_a)\n",
    "sorted_a = sort_the_list(a, True)\n",
    "print('sorted - descending', sorted_a)\n",
    "print('a after sort_the_list function call:', a)\n",
    "\n",
    "Expected Output:\n",
    "a: [12, 4, 2, 1, 6, 3, 45]\n",
    "sorted - ascending [1, 2, 3, 4, 6, 12, 45]\n",
    "sorted - descending [45, 12, 6, 4, 3, 2, 1]\n",
    "a after sort_the_list function call: [12, 4, 2, 1, 6, 3, 45]\n",
    "</pre>"
   ]
  },
  {
   "cell_type": "code",
   "execution_count": 30,
   "id": "capital-camel",
   "metadata": {},
   "outputs": [],
   "source": [
    "# S 8:\n",
    "\n",
    "# First Way\n",
    "\n",
    "def sort_the_list(p_list, is_reverse = False):\n",
    "    \n",
    "    sorted_list = []\n",
    "    \n",
    "    # if it is reverse\n",
    "    if is_reverse:\n",
    "        sorted_list = sorted(p_list, reverse=is_reverse)\n",
    "    else:\n",
    "        sorted_list = sorted(p_list)\n",
    "        \n",
    "    return sorted_list\n"
   ]
  },
  {
   "cell_type": "code",
   "execution_count": 31,
   "id": "upset-testing",
   "metadata": {},
   "outputs": [
    {
     "name": "stdout",
     "output_type": "stream",
     "text": [
      "a: [12, 4, 2, 1, 6, 3, 45]\n",
      "sorted - ascending [1, 2, 3, 4, 6, 12, 45]\n",
      "sorted - descending [45, 12, 6, 4, 3, 2, 1]\n",
      "a after sort_the_list function call: [12, 4, 2, 1, 6, 3, 45]\n"
     ]
    }
   ],
   "source": [
    "a = [12, 4, 2, 1, 6, 3, 45]\n",
    "print('a:', a)\n",
    "\n",
    "sorted_a = sort_the_list(a, False)\n",
    "print('sorted - ascending', sorted_a)\n",
    "\n",
    "sorted_a = sort_the_list(a, True)\n",
    "print('sorted - descending', sorted_a)\n",
    "\n",
    "print('a after sort_the_list function call:', a)"
   ]
  },
  {
   "cell_type": "code",
   "execution_count": 32,
   "id": "documentary-clinic",
   "metadata": {},
   "outputs": [],
   "source": [
    "# S 8:\n",
    "\n",
    "# Second Way\n",
    "\n",
    "def sort_the_list(p_list, is_reverse = False):\n",
    "    \n",
    "    return sorted(p_list, reverse=is_reverse)\n"
   ]
  },
  {
   "cell_type": "code",
   "execution_count": 33,
   "id": "announced-siemens",
   "metadata": {},
   "outputs": [
    {
     "name": "stdout",
     "output_type": "stream",
     "text": [
      "a: [12, 4, 2, 1, 6, 3, 45]\n",
      "sorted - ascending [1, 2, 3, 4, 6, 12, 45]\n",
      "sorted - descending [45, 12, 6, 4, 3, 2, 1]\n",
      "a after sort_the_list function call: [12, 4, 2, 1, 6, 3, 45]\n"
     ]
    }
   ],
   "source": [
    "a = [12, 4, 2, 1, 6, 3, 45]\n",
    "print('a:', a)\n",
    "\n",
    "sorted_a = sort_the_list(a, False)\n",
    "print('sorted - ascending', sorted_a)\n",
    "\n",
    "sorted_a = sort_the_list(a, True)\n",
    "print('sorted - descending', sorted_a)\n",
    "\n",
    "print('a after sort_the_list function call:', a)"
   ]
  },
  {
   "cell_type": "markdown",
   "id": "traditional-three",
   "metadata": {},
   "source": [
    "---"
   ]
  },
  {
   "cell_type": "markdown",
   "id": "respective-expert",
   "metadata": {},
   "source": [
    "**Q 9:**\n",
    "\n",
    "The Consecutive Numbers in Math are actually Lists in Python.\n",
    "\n",
    "**Gauss' Method for Summing Consecutive Numbers** is a method that gives you the summation of numbers.\n",
    "\n",
    "And that's how Gauss' Method works:\n",
    "* First it sorts the list in ascending order\n",
    "* Then sorts the list in descending order\n",
    "* Adds the items in both lists at the same index\n",
    "* Divides the overall summation by 2 (because each element is written 2 times)\n",
    "\n",
    "Example: Sum of all integers from 1 to 10.\n",
    "\n",
    "<pre>\n",
    "1   2   3   4   5   6   7   8   9   10\n",
    "10  9   8   7   6   5   4   3   2   1\n",
    "+   +   +   +   +   +   +   +   +   +\n",
    "11  11  11  11  11  11  11  11  11  11    (pairwise sum)\n",
    "\n",
    "Summation = 11 * 10\n",
    "Result = Summation / 2\n",
    "</pre>\n",
    "\n",
    "In this question you are going to sum all the number starting from 2 up to 100 with step size 3.\n",
    "\n",
    "You should use Gauss' Method in Python to calculate the overral sum.\n",
    "\n",
    "The function name will be **gauss** and the parameters and default values will be:\n",
    "* start -> 1\n",
    "* end -> 100\n",
    "* step_size -> 2\n",
    "\n",
    "**Hints:**\n",
    "* use range() to create the list\n",
    "\n",
    "<pre>\n",
    "conseq_sum = gauss(2, 100, 3)\n",
    "conseq_sum\n",
    "\n",
    "Expected Output:\n",
    "1650.0\n",
    "</pre>"
   ]
  },
  {
   "cell_type": "code",
   "execution_count": 36,
   "id": "dense-diving",
   "metadata": {},
   "outputs": [],
   "source": [
    "# S 9:\n",
    "\n",
    "# First Way\n",
    "# The long way\n",
    "\n",
    "def gauss(start=1, end=100, step=2):\n",
    "    \n",
    "    # create a list with range()\n",
    "    a_list = list(range(start, end, step))\n",
    "    \n",
    "    # reverse list\n",
    "    r_list = a_list[::-1]\n",
    "    \n",
    "    # summation\n",
    "    summation = 0\n",
    "    \n",
    "    for i in range(len(a_list)):\n",
    "        \n",
    "        pair_sum = a_list[i] + r_list[i]\n",
    "        \n",
    "        summation += pair_sum\n",
    "    \n",
    "    result = summation / 2\n",
    "    \n",
    "    return result\n",
    "    "
   ]
  },
  {
   "cell_type": "code",
   "execution_count": 37,
   "id": "capital-prototype",
   "metadata": {},
   "outputs": [
    {
     "data": {
      "text/plain": [
       "45.0"
      ]
     },
     "execution_count": 37,
     "metadata": {},
     "output_type": "execute_result"
    }
   ],
   "source": [
    "conseq_sum = gauss(1, 10, 1)\n",
    "conseq_sum"
   ]
  },
  {
   "cell_type": "code",
   "execution_count": 38,
   "id": "solar-phenomenon",
   "metadata": {},
   "outputs": [
    {
     "data": {
      "text/plain": [
       "1650.0"
      ]
     },
     "execution_count": 38,
     "metadata": {},
     "output_type": "execute_result"
    }
   ],
   "source": [
    "conseq_sum = gauss(2, 100, 3)\n",
    "conseq_sum"
   ]
  },
  {
   "cell_type": "code",
   "execution_count": 44,
   "id": "sound-adobe",
   "metadata": {},
   "outputs": [],
   "source": [
    "# S 9:\n",
    "\n",
    "# Second Way\n",
    "# True Gaussian Way\n",
    "\n",
    "def true_gaussian(start=1, end=100, step=2):\n",
    "    \n",
    "    # create a list with range()\n",
    "    a_list = list(range(start, end, step))\n",
    "    \n",
    "    summation = 0\n",
    "    \n",
    "    for i in range(len(a_list)):\n",
    "        \n",
    "        pair_sum = a_list[i] + a_list[-i-1]\n",
    "        \n",
    "        summation += pair_sum\n",
    "        \n",
    "    \n",
    "    return summation / 2\n",
    "        "
   ]
  },
  {
   "cell_type": "code",
   "execution_count": 45,
   "id": "revised-formation",
   "metadata": {},
   "outputs": [],
   "source": [
    "my_list = list(range(1, 10, 1))"
   ]
  },
  {
   "cell_type": "code",
   "execution_count": 40,
   "id": "spoken-brunswick",
   "metadata": {},
   "outputs": [
    {
     "data": {
      "text/plain": [
       "[1, 2, 3, 4, 5, 6, 7, 8, 9]"
      ]
     },
     "execution_count": 40,
     "metadata": {},
     "output_type": "execute_result"
    }
   ],
   "source": [
    "my_list"
   ]
  },
  {
   "cell_type": "code",
   "execution_count": 41,
   "id": "apart-terrorist",
   "metadata": {},
   "outputs": [
    {
     "data": {
      "text/plain": [
       "10"
      ]
     },
     "execution_count": 41,
     "metadata": {},
     "output_type": "execute_result"
    }
   ],
   "source": [
    "my_list[0] + my_list[-1]"
   ]
  },
  {
   "cell_type": "code",
   "execution_count": 42,
   "id": "advisory-mattress",
   "metadata": {},
   "outputs": [
    {
     "data": {
      "text/plain": [
       "10"
      ]
     },
     "execution_count": 42,
     "metadata": {},
     "output_type": "execute_result"
    }
   ],
   "source": [
    "my_list[1] + my_list[-2]"
   ]
  },
  {
   "cell_type": "code",
   "execution_count": 43,
   "id": "advanced-field",
   "metadata": {},
   "outputs": [
    {
     "data": {
      "text/plain": [
       "10"
      ]
     },
     "execution_count": 43,
     "metadata": {},
     "output_type": "execute_result"
    }
   ],
   "source": [
    "my_list[2] + my_list[-3]"
   ]
  },
  {
   "cell_type": "code",
   "execution_count": 46,
   "id": "consistent-longer",
   "metadata": {},
   "outputs": [
    {
     "data": {
      "text/plain": [
       "45.0"
      ]
     },
     "execution_count": 46,
     "metadata": {},
     "output_type": "execute_result"
    }
   ],
   "source": [
    "conseq_sum = true_gaussian(1, 10, 1)\n",
    "conseq_sum"
   ]
  },
  {
   "cell_type": "code",
   "execution_count": 47,
   "id": "roman-enforcement",
   "metadata": {},
   "outputs": [
    {
     "data": {
      "text/plain": [
       "1650.0"
      ]
     },
     "execution_count": 47,
     "metadata": {},
     "output_type": "execute_result"
    }
   ],
   "source": [
    "conseq_sum = true_gaussian(2, 100, 3)\n",
    "conseq_sum"
   ]
  },
  {
   "cell_type": "markdown",
   "id": "trying-metro",
   "metadata": {},
   "source": [
    "---"
   ]
  },
  {
   "cell_type": "markdown",
   "id": "sound-martial",
   "metadata": {},
   "source": [
    "**Q 10:**\n",
    "\n",
    "Define a function to check if a given list is sorted in descending order or not.\n",
    "\n",
    "The function name will be **is_it_sorted_descending**.\n",
    "\n",
    "It will return True if the list items are in descending order, False otherwise.\n",
    "\n",
    "**Hints:**\n",
    "* solve this questions with 4 different ways :)\n",
    "\n",
    "<pre>\n",
    "a_list = [2, 3, 4, 7]\n",
    "is_it_sorted_descending(a_list)\n",
    "Expected Output: False\n",
    "\n",
    "a_list = [7, 7, 4, 3, 2, 1, 1]\n",
    "is_it_sorted_descending(a_list)\n",
    "Expected Output: True\n",
    "\n",
    "a_list = ['a', 'b', 'c', 'd']\n",
    "is_it_sorted_descending(a_list)\n",
    "Expected Output: False\n",
    "\n",
    "a_list = ['d', 'c', 'b', 'a']\n",
    "is_it_sorted_descending(a_list)\n",
    "Expected Output: True\n",
    "</pre>"
   ]
  },
  {
   "cell_type": "code",
   "execution_count": 49,
   "id": "junior-prevention",
   "metadata": {},
   "outputs": [],
   "source": [
    "# S 10:\n",
    "\n",
    "# Way 1:\n",
    "# Nested Loops\n",
    "# Least Pythonic\n",
    "\n",
    "def is_it_sorted_descending(p_list):\n",
    "    \n",
    "    for i, item_1 in enumerate(p_list):\n",
    "        \n",
    "        for j, item_2 in enumerate(p_list):\n",
    "            \n",
    "            if j > i:\n",
    "                if item_2 > item_1:\n",
    "                    return False\n",
    "                \n",
    "    return True            \n",
    "    "
   ]
  },
  {
   "cell_type": "code",
   "execution_count": 50,
   "id": "confidential-venezuela",
   "metadata": {},
   "outputs": [
    {
     "data": {
      "text/plain": [
       "False"
      ]
     },
     "execution_count": 50,
     "metadata": {},
     "output_type": "execute_result"
    }
   ],
   "source": [
    "a_list = [2, 7, 3, 4]\n",
    "is_it_sorted_descending(a_list)"
   ]
  },
  {
   "cell_type": "code",
   "execution_count": 51,
   "id": "precious-music",
   "metadata": {},
   "outputs": [
    {
     "data": {
      "text/plain": [
       "False"
      ]
     },
     "execution_count": 51,
     "metadata": {},
     "output_type": "execute_result"
    }
   ],
   "source": [
    "a_list = [2, 3, 4, 7]\n",
    "is_it_sorted_descending(a_list)"
   ]
  },
  {
   "cell_type": "code",
   "execution_count": 52,
   "id": "mineral-blocking",
   "metadata": {},
   "outputs": [
    {
     "data": {
      "text/plain": [
       "True"
      ]
     },
     "execution_count": 52,
     "metadata": {},
     "output_type": "execute_result"
    }
   ],
   "source": [
    "a_list = [7, 4, 3, 2]\n",
    "is_it_sorted_descending(a_list)"
   ]
  },
  {
   "cell_type": "code",
   "execution_count": 53,
   "id": "complete-watson",
   "metadata": {},
   "outputs": [
    {
     "data": {
      "text/plain": [
       "True"
      ]
     },
     "execution_count": 53,
     "metadata": {},
     "output_type": "execute_result"
    }
   ],
   "source": [
    "a_list = [7, 7, 4, 3, 2, 1, 1]\n",
    "is_it_sorted_descending(a_list)"
   ]
  },
  {
   "cell_type": "code",
   "execution_count": 54,
   "id": "massive-witness",
   "metadata": {},
   "outputs": [
    {
     "data": {
      "text/plain": [
       "False"
      ]
     },
     "execution_count": 54,
     "metadata": {},
     "output_type": "execute_result"
    }
   ],
   "source": [
    "a_list = ['a', 'd', 'b', 'c']\n",
    "is_it_sorted_descending(a_list)"
   ]
  },
  {
   "cell_type": "code",
   "execution_count": 55,
   "id": "present-driver",
   "metadata": {},
   "outputs": [
    {
     "data": {
      "text/plain": [
       "False"
      ]
     },
     "execution_count": 55,
     "metadata": {},
     "output_type": "execute_result"
    }
   ],
   "source": [
    "a_list = ['a', 'b', 'c', 'd']\n",
    "is_it_sorted_descending(a_list)"
   ]
  },
  {
   "cell_type": "code",
   "execution_count": 56,
   "id": "revolutionary-router",
   "metadata": {},
   "outputs": [
    {
     "data": {
      "text/plain": [
       "True"
      ]
     },
     "execution_count": 56,
     "metadata": {},
     "output_type": "execute_result"
    }
   ],
   "source": [
    "a_list = ['d', 'c', 'b', 'a']\n",
    "is_it_sorted_descending(a_list)"
   ]
  },
  {
   "cell_type": "code",
   "execution_count": 59,
   "id": "gothic-salmon",
   "metadata": {},
   "outputs": [],
   "source": [
    "# S 10:\n",
    "\n",
    "# Way 2:\n",
    "# Check for Pair differences\n",
    "# More Pythonic\n",
    "\n",
    "def is_it_sorted_descending_2(p_list):\n",
    "    \n",
    "    # go from start to end of list\n",
    "    # compare each element with the next one\n",
    "    # if the difference is negative -> it is not descending\n",
    "    \n",
    "    for i in range(len(p_list) - 1):\n",
    "        \n",
    "        if p_list[i] - p_list[i+1] < 0:\n",
    "            return False\n",
    "    \n",
    "    else:\n",
    "        return True\n",
    "    \n"
   ]
  },
  {
   "cell_type": "code",
   "execution_count": 60,
   "id": "subject-fourth",
   "metadata": {},
   "outputs": [
    {
     "data": {
      "text/plain": [
       "False"
      ]
     },
     "execution_count": 60,
     "metadata": {},
     "output_type": "execute_result"
    }
   ],
   "source": [
    "a_list = [2, 7, 3, 4]\n",
    "is_it_sorted_descending_2(a_list)"
   ]
  },
  {
   "cell_type": "code",
   "execution_count": 61,
   "id": "collectible-gamma",
   "metadata": {},
   "outputs": [
    {
     "data": {
      "text/plain": [
       "True"
      ]
     },
     "execution_count": 61,
     "metadata": {},
     "output_type": "execute_result"
    }
   ],
   "source": [
    "a_list = [7, 4, 3, 2]\n",
    "is_it_sorted_descending_2(a_list)"
   ]
  },
  {
   "cell_type": "code",
   "execution_count": 62,
   "id": "young-cigarette",
   "metadata": {},
   "outputs": [],
   "source": [
    "# S 10:\n",
    "\n",
    "# Way 3:\n",
    "# Check with sorted list\n",
    "# Pythonic\n",
    "\n",
    "def is_it_sorted_descending_3(p_list):\n",
    "    \n",
    "    # create a new list\n",
    "    sorted_list = p_list[::]\n",
    "    \n",
    "    # sort the new list in descending order -> sort()\n",
    "    sorted_list.sort(reverse=True)\n",
    "    \n",
    "    if p_list == sorted_list:\n",
    "        return True\n",
    "    else:\n",
    "        return False\n"
   ]
  },
  {
   "cell_type": "code",
   "execution_count": 63,
   "id": "married-credits",
   "metadata": {},
   "outputs": [
    {
     "data": {
      "text/plain": [
       "False"
      ]
     },
     "execution_count": 63,
     "metadata": {},
     "output_type": "execute_result"
    }
   ],
   "source": [
    "a_list = [2, 7, 3, 4]\n",
    "is_it_sorted_descending_3(a_list)"
   ]
  },
  {
   "cell_type": "code",
   "execution_count": 64,
   "id": "asian-intensity",
   "metadata": {},
   "outputs": [
    {
     "data": {
      "text/plain": [
       "True"
      ]
     },
     "execution_count": 64,
     "metadata": {},
     "output_type": "execute_result"
    }
   ],
   "source": [
    "a_list = [7, 4, 3, 2]\n",
    "is_it_sorted_descending_3(a_list)"
   ]
  },
  {
   "cell_type": "code",
   "execution_count": 65,
   "id": "naughty-afternoon",
   "metadata": {},
   "outputs": [],
   "source": [
    "# S 10:\n",
    "\n",
    "# Way 4:\n",
    "# one line control\n",
    "# Pythonic & Functional\n",
    "\n",
    "def is_it_sorted_descending_4(p_list):\n",
    "    \n",
    "    # return directly\n",
    "    return sorted(p_list, reverse=True) == p_list\n"
   ]
  },
  {
   "cell_type": "code",
   "execution_count": 66,
   "id": "collected-understanding",
   "metadata": {},
   "outputs": [
    {
     "data": {
      "text/plain": [
       "False"
      ]
     },
     "execution_count": 66,
     "metadata": {},
     "output_type": "execute_result"
    }
   ],
   "source": [
    "a_list = [2, 7, 3, 4]\n",
    "is_it_sorted_descending_4(a_list)"
   ]
  },
  {
   "cell_type": "code",
   "execution_count": 67,
   "id": "intermediate-documentary",
   "metadata": {},
   "outputs": [
    {
     "data": {
      "text/plain": [
       "True"
      ]
     },
     "execution_count": 67,
     "metadata": {},
     "output_type": "execute_result"
    }
   ],
   "source": [
    "a_list = [7, 4, 3, 2]\n",
    "is_it_sorted_descending_4(a_list)"
   ]
  },
  {
   "cell_type": "code",
   "execution_count": null,
   "id": "dress-trailer",
   "metadata": {},
   "outputs": [],
   "source": []
  }
 ],
 "metadata": {
  "kernelspec": {
   "display_name": "Python 3",
   "language": "python",
   "name": "python3"
  },
  "language_info": {
   "codemirror_mode": {
    "name": "ipython",
    "version": 3
   },
   "file_extension": ".py",
   "mimetype": "text/x-python",
   "name": "python",
   "nbconvert_exporter": "python",
   "pygments_lexer": "ipython3",
   "version": "3.8.8"
  }
 },
 "nbformat": 4,
 "nbformat_minor": 5
}
