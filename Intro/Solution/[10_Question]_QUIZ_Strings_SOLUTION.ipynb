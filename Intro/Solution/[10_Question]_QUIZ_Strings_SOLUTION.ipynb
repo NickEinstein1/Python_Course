{
 "cells": [
  {
   "cell_type": "markdown",
   "id": "polished-category",
   "metadata": {},
   "source": [
    "## [10 Questions] QUIZ - Strings - SOLUTION"
   ]
  },
  {
   "cell_type": "markdown",
   "id": "fantastic-hungary",
   "metadata": {},
   "source": [
    "**Q 1:**\n",
    "\n",
    "Define a function named **only_first_letters**.\n",
    "\n",
    "It will take a string as the parameter.\n",
    "\n",
    "And it will convert all the first letters of each word into upper case.\n",
    "\n",
    "All the remaining letter will be lowe case."
   ]
  },
  {
   "cell_type": "code",
   "execution_count": 4,
   "id": "competent-evolution",
   "metadata": {},
   "outputs": [],
   "source": [
    "# S 1:\n",
    "\n",
    "# Long Way\n",
    "# def only_first_letters(text):\n",
    "    \n",
    "#     # make all letters -> lower\n",
    "#     lower_text = text.lower()\n",
    "    \n",
    "#     # then, only make first letters as capital\n",
    "#     capital_text = lower_text.title()\n",
    "    \n",
    "#     return capital_text\n",
    "\n",
    "# Short Way\n",
    "def only_first_letters(text):\n",
    "    # chain\n",
    "    return text.lower().title()\n",
    "    "
   ]
  },
  {
   "cell_type": "code",
   "execution_count": 5,
   "id": "subsequent-novelty",
   "metadata": {},
   "outputs": [
    {
     "name": "stdout",
     "output_type": "stream",
     "text": [
      "Python Is Great\n"
     ]
    }
   ],
   "source": [
    "proper_text = only_first_letters('pyThon iS grEAt')\n",
    "print(proper_text)"
   ]
  },
  {
   "cell_type": "markdown",
   "id": "artificial-groove",
   "metadata": {},
   "source": [
    "---"
   ]
  },
  {
   "cell_type": "markdown",
   "id": "international-camera",
   "metadata": {},
   "source": [
    "**Q 2:**\n",
    "\n",
    "Define a function taking a text and a letter as paramaters.\n",
    "\n",
    "The function name will be **count_the_letter**.\n",
    "\n",
    "Function will return the number (count) of occurences of the letter in the text.\n",
    "\n",
    "**Hints:**\n",
    "* use built-in function\n",
    "* your function body should be one line of code\n",
    "* https://docs.python.org/3/library/stdtypes.html#string-methods"
   ]
  },
  {
   "cell_type": "code",
   "execution_count": 6,
   "id": "charitable-terrorism",
   "metadata": {},
   "outputs": [],
   "source": [
    "# S 2:\n",
    "\n",
    "def count_the_letter(text, letter):\n",
    "    \n",
    "    return text.count(letter)\n",
    "    "
   ]
  },
  {
   "cell_type": "code",
   "execution_count": 8,
   "id": "killing-damage",
   "metadata": {},
   "outputs": [
    {
     "name": "stdin",
     "output_type": "stream",
     "text": [
      "Please enter a text:  Python Hands-On is a perfect course.\n",
      "Now a letter:  e\n"
     ]
    },
    {
     "data": {
      "text/plain": [
       "3"
      ]
     },
     "execution_count": 8,
     "metadata": {},
     "output_type": "execute_result"
    }
   ],
   "source": [
    "text = input('Please enter a text: ')\n",
    "letter = input('Now a letter: ')\n",
    "count_the_letter(text, letter)"
   ]
  },
  {
   "cell_type": "markdown",
   "id": "lesbian-lesson",
   "metadata": {},
   "source": [
    "---"
   ]
  },
  {
   "cell_type": "markdown",
   "id": "adopted-florence",
   "metadata": {},
   "source": [
    "**Q 3:**\n",
    "\n",
    "Define a function named **count_letters**.\n",
    "\n",
    "It will ask for sentence from the user.\n",
    "\n",
    "And it will count the occurences of each letter and print it.\n",
    "\n",
    "**Hints:**\n",
    "* Do not count space character\n",
    "* Use the function you defined in Q2.\n",
    "\n",
    "<pre>\n",
    "Expected Output:\n",
    "\n",
    "Please enter a sentence:  pandas\n",
    "letter p: 1 time(s)\n",
    "letter a: 2 time(s)\n",
    "letter n: 1 time(s)\n",
    "letter d: 1 time(s)\n",
    "letter s: 1 time(s)\n",
    "</pre>"
   ]
  },
  {
   "cell_type": "code",
   "execution_count": 23,
   "id": "invalid-masters",
   "metadata": {},
   "outputs": [],
   "source": [
    "# S 3:\n",
    "\n",
    "def count_letters():\n",
    "    \n",
    "    sentence = input('Please enter a sentence: ')\n",
    "    \n",
    "    letters_printed = \"\"\n",
    "    \n",
    "    for letter in sentence:\n",
    "        \n",
    "        # if it's a space -> continue\n",
    "        if letter == ' ':\n",
    "            continue\n",
    "            \n",
    "        # this letter is not a space\n",
    "        count = count_the_letter(sentence, letter)\n",
    "        \n",
    "        # print\n",
    "        # check if already printed\n",
    "        if not letter in letters_printed:\n",
    "            print(\"letter {0}: {1} time(s)\".format(letter, count))\n",
    "            letters_printed += letter\n",
    "        "
   ]
  },
  {
   "cell_type": "code",
   "execution_count": 24,
   "id": "empty-memorial",
   "metadata": {},
   "outputs": [
    {
     "name": "stdin",
     "output_type": "stream",
     "text": [
      "Please enter a sentence:  pandas\n"
     ]
    },
    {
     "name": "stdout",
     "output_type": "stream",
     "text": [
      "letter p: 1 time(s)\n",
      "letter a: 2 time(s)\n",
      "letter n: 1 time(s)\n",
      "letter d: 1 time(s)\n",
      "letter s: 1 time(s)\n"
     ]
    }
   ],
   "source": [
    "count_letters()"
   ]
  },
  {
   "cell_type": "markdown",
   "id": "working-globe",
   "metadata": {},
   "source": [
    "---"
   ]
  },
  {
   "cell_type": "markdown",
   "id": "controlled-general",
   "metadata": {},
   "source": [
    "**Q 4:**\n",
    "\n",
    "Your text is:\n",
    "\n",
    "'Monday Tuesday Wednesday Thursday Friday'.\n",
    "\n",
    "Do slicing operations on this text and answer the following questions:\n",
    "\n",
    "<pre>\n",
    "* find the first 3 chars\n",
    "* find the chars between index 7 and 10 (inc.)\n",
    "* find the chars between index 2 and 12 (exc.)\n",
    "* find the chars at indices 3, 4 and 5\n",
    "</pre>"
   ]
  },
  {
   "cell_type": "code",
   "execution_count": 25,
   "id": "unexpected-capacity",
   "metadata": {},
   "outputs": [],
   "source": [
    "# S 4:\n",
    "\n",
    "text = 'Monday Tuesday Wednesday Thursday Friday'"
   ]
  },
  {
   "cell_type": "code",
   "execution_count": 28,
   "id": "charming-compilation",
   "metadata": {},
   "outputs": [
    {
     "data": {
      "text/plain": [
       "'Mon'"
      ]
     },
     "execution_count": 28,
     "metadata": {},
     "output_type": "execute_result"
    }
   ],
   "source": [
    "# find the first 3 chars\n",
    "\n",
    "# text[0:3]\n",
    "\n",
    "text[:3]"
   ]
  },
  {
   "cell_type": "code",
   "execution_count": 29,
   "id": "anticipated-illinois",
   "metadata": {},
   "outputs": [
    {
     "data": {
      "text/plain": [
       "'Tues'"
      ]
     },
     "execution_count": 29,
     "metadata": {},
     "output_type": "execute_result"
    }
   ],
   "source": [
    "# find the chars between index 7 and 10 (inc.)\n",
    "\n",
    "text[7:11]"
   ]
  },
  {
   "cell_type": "code",
   "execution_count": 30,
   "id": "random-costume",
   "metadata": {},
   "outputs": [
    {
     "data": {
      "text/plain": [
       "'nday Tuesd'"
      ]
     },
     "execution_count": 30,
     "metadata": {},
     "output_type": "execute_result"
    }
   ],
   "source": [
    "# find the chars between index 2 and 12 (exc.)\n",
    "\n",
    "text[2:12]"
   ]
  },
  {
   "cell_type": "code",
   "execution_count": 31,
   "id": "reported-berlin",
   "metadata": {},
   "outputs": [
    {
     "data": {
      "text/plain": [
       "'day'"
      ]
     },
     "execution_count": 31,
     "metadata": {},
     "output_type": "execute_result"
    }
   ],
   "source": [
    "# find the chars at indices 3, 4 and 5\n",
    "\n",
    "text[3:6]"
   ]
  },
  {
   "cell_type": "markdown",
   "id": "contrary-engine",
   "metadata": {},
   "source": [
    "---"
   ]
  },
  {
   "cell_type": "markdown",
   "id": "universal-science",
   "metadata": {},
   "source": [
    "**Q 5:**\n",
    "\n",
    "Your text is:\n",
    "\n",
    "'Monday Tuesday Wednesday'\n",
    "\n",
    "Do slicing operations on this text and answer the following questions:\n",
    "\n",
    "<pre>\n",
    "* find the chars from index 1 to 7 with step size 2\n",
    "* find the chars from index 3 to 20 with step size 3\n",
    "* find the chars with even indices (0, 2, 4, 6 ...)\n",
    "* find the chars with odd indices (1, 3, 5, 7 ...)\n",
    "</pre>"
   ]
  },
  {
   "cell_type": "code",
   "execution_count": 32,
   "id": "numerical-native",
   "metadata": {},
   "outputs": [],
   "source": [
    "# S 5:\n",
    "\n",
    "text = 'Monday Tuesday Wednesday'"
   ]
  },
  {
   "cell_type": "code",
   "execution_count": 33,
   "id": "abstract-legislature",
   "metadata": {},
   "outputs": [
    {
     "data": {
      "text/plain": [
       "'ody'"
      ]
     },
     "execution_count": 33,
     "metadata": {},
     "output_type": "execute_result"
    }
   ],
   "source": [
    "# find the chars from index 1 to 7 with step size 2\n",
    "\n",
    "text[1:7:2]"
   ]
  },
  {
   "cell_type": "code",
   "execution_count": 34,
   "id": "scenic-postage",
   "metadata": {},
   "outputs": [
    {
     "data": {
      "text/plain": [
       "'d eaWn'"
      ]
     },
     "execution_count": 34,
     "metadata": {},
     "output_type": "execute_result"
    }
   ],
   "source": [
    "# find the chars from index 3 to 20 with step size 3\n",
    "\n",
    "text[3:20:3]"
   ]
  },
  {
   "cell_type": "code",
   "execution_count": 35,
   "id": "classified-paradise",
   "metadata": {},
   "outputs": [
    {
     "data": {
      "text/plain": [
       "'Mna usa ensa'"
      ]
     },
     "execution_count": 35,
     "metadata": {},
     "output_type": "execute_result"
    }
   ],
   "source": [
    "# find the chars with even indices (0, 2, 4, 6 ...)\n",
    "\n",
    "text[::2]"
   ]
  },
  {
   "cell_type": "code",
   "execution_count": 36,
   "id": "awful-morning",
   "metadata": {},
   "outputs": [
    {
     "data": {
      "text/plain": [
       "'odyTedyWdedy'"
      ]
     },
     "execution_count": 36,
     "metadata": {},
     "output_type": "execute_result"
    }
   ],
   "source": [
    "# find the chars with odd indices (1, 3, 5, 7 ...)\n",
    "\n",
    "text[1::2]"
   ]
  },
  {
   "cell_type": "markdown",
   "id": "extra-morgan",
   "metadata": {},
   "source": [
    "---"
   ]
  },
  {
   "cell_type": "markdown",
   "id": "suburban-nerve",
   "metadata": {},
   "source": [
    "**Q 6:**\n",
    "\n",
    "Your text:\n",
    "\n",
    "'Monday Tuesday Wednesday'\n",
    "\n",
    "Do slicing operations on this text and answer the following questions:\n",
    "\n",
    "<pre>\n",
    "* find the last character\n",
    "* find the 3rd character from last\n",
    "* find last 3 characters\n",
    "* print the text in reverse order\n",
    "</pre>"
   ]
  },
  {
   "cell_type": "code",
   "execution_count": 37,
   "id": "mechanical-factory",
   "metadata": {},
   "outputs": [],
   "source": [
    "# S 6:\n",
    "\n",
    "text = 'Monday Tuesday Wednesday'"
   ]
  },
  {
   "cell_type": "code",
   "execution_count": 38,
   "id": "demanding-disaster",
   "metadata": {},
   "outputs": [
    {
     "data": {
      "text/plain": [
       "'y'"
      ]
     },
     "execution_count": 38,
     "metadata": {},
     "output_type": "execute_result"
    }
   ],
   "source": [
    "# find the last character\n",
    "\n",
    "text[-1]"
   ]
  },
  {
   "cell_type": "code",
   "execution_count": 39,
   "id": "virgin-africa",
   "metadata": {},
   "outputs": [
    {
     "data": {
      "text/plain": [
       "'d'"
      ]
     },
     "execution_count": 39,
     "metadata": {},
     "output_type": "execute_result"
    }
   ],
   "source": [
    "# find the 3rd character from last\n",
    "\n",
    "text[-3]"
   ]
  },
  {
   "cell_type": "code",
   "execution_count": 40,
   "id": "dedicated-forest",
   "metadata": {},
   "outputs": [
    {
     "data": {
      "text/plain": [
       "'day'"
      ]
     },
     "execution_count": 40,
     "metadata": {},
     "output_type": "execute_result"
    }
   ],
   "source": [
    "# find last 3 characters\n",
    "# -3, -2, -1\n",
    "\n",
    "text[-3:]"
   ]
  },
  {
   "cell_type": "code",
   "execution_count": 41,
   "id": "balanced-division",
   "metadata": {},
   "outputs": [
    {
     "data": {
      "text/plain": [
       "'yadsendeW yadseuT yadnoM'"
      ]
     },
     "execution_count": 41,
     "metadata": {},
     "output_type": "execute_result"
    }
   ],
   "source": [
    "# print the text in reverse order\n",
    "\n",
    "text[::-1]"
   ]
  },
  {
   "cell_type": "markdown",
   "id": "closing-persian",
   "metadata": {},
   "source": [
    "---"
   ]
  },
  {
   "cell_type": "markdown",
   "id": "adjacent-lesson",
   "metadata": {},
   "source": [
    "**Q 7:**\n",
    "\n",
    "Your text:\n",
    "\n",
    "'Monday Tuesday Wednesday'\n",
    "\n",
    "Do slicing operations on this text and answer the following questions:\n",
    "\n",
    "<pre>\n",
    "* find the chars between 2nd and 6th from last\n",
    "* find the chars between 2nd (inc.) and 6th from last\n",
    "* find the negative index which correspond to the char with index 10\n",
    "* find all characters except the last one\n",
    "* find all characters except the fist and the last one\n",
    "</pre>"
   ]
  },
  {
   "cell_type": "code",
   "execution_count": 42,
   "id": "common-orange",
   "metadata": {},
   "outputs": [],
   "source": [
    "# S 7:\n",
    "\n",
    "text = 'Monday Tuesday Wednesday'"
   ]
  },
  {
   "cell_type": "code",
   "execution_count": 44,
   "id": "weird-catering",
   "metadata": {},
   "outputs": [
    {
     "data": {
      "text/plain": [
       "'nesd'"
      ]
     },
     "execution_count": 44,
     "metadata": {},
     "output_type": "execute_result"
    }
   ],
   "source": [
    "# find the chars between 2nd and 6th from last (minus)\n",
    "# \"-6, -5, -4, -3,\" -2, -1\n",
    "\n",
    "text[-6:-2]"
   ]
  },
  {
   "cell_type": "code",
   "execution_count": 45,
   "id": "wrapped-cedar",
   "metadata": {},
   "outputs": [
    {
     "data": {
      "text/plain": [
       "'nesda'"
      ]
     },
     "execution_count": 45,
     "metadata": {},
     "output_type": "execute_result"
    }
   ],
   "source": [
    "# find the chars between 2nd (inc.) and 6th from last\n",
    "# \"-6, -5, -4, -3, -2,\" -1\n",
    "\n",
    "text[-6:-1]"
   ]
  },
  {
   "cell_type": "code",
   "execution_count": 50,
   "id": "registered-wichita",
   "metadata": {},
   "outputs": [
    {
     "name": "stdout",
     "output_type": "stream",
     "text": [
      "negative_index:  -14\n"
     ]
    }
   ],
   "source": [
    "# find the negative index which correspond to the char with index 10\n",
    "\n",
    "# abs(index) + abs(negative_index) = length\n",
    "\n",
    "length = len(text)\n",
    "\n",
    "negative_index = length - 10\n",
    "\n",
    "negative_index = -negative_index\n",
    "\n",
    "print('negative_index: ', negative_index)\n"
   ]
  },
  {
   "cell_type": "code",
   "execution_count": 49,
   "id": "patient-toner",
   "metadata": {},
   "outputs": [
    {
     "data": {
      "text/plain": [
       "('s', 's')"
      ]
     },
     "execution_count": 49,
     "metadata": {},
     "output_type": "execute_result"
    }
   ],
   "source": [
    "text[10], text[-14]"
   ]
  },
  {
   "cell_type": "code",
   "execution_count": 51,
   "id": "given-opposition",
   "metadata": {},
   "outputs": [
    {
     "data": {
      "text/plain": [
       "'Monday Tuesday Wednesda'"
      ]
     },
     "execution_count": 51,
     "metadata": {},
     "output_type": "execute_result"
    }
   ],
   "source": [
    "# find all characters except the last one\n",
    "\n",
    "text[:-1]"
   ]
  },
  {
   "cell_type": "code",
   "execution_count": 52,
   "id": "emerging-victim",
   "metadata": {},
   "outputs": [
    {
     "data": {
      "text/plain": [
       "'onday Tuesday Wednesda'"
      ]
     },
     "execution_count": 52,
     "metadata": {},
     "output_type": "execute_result"
    }
   ],
   "source": [
    "# find all characters except the fist and the last one\n",
    "\n",
    "text[1:-1]"
   ]
  },
  {
   "cell_type": "markdown",
   "id": "consolidated-stake",
   "metadata": {},
   "source": [
    "---"
   ]
  },
  {
   "cell_type": "markdown",
   "id": "magnetic-athens",
   "metadata": {},
   "source": [
    "**Q 8:**\n",
    "\n",
    "Define a function named **split_email**.\n",
    "\n",
    "It will ask for an email from the user.\n",
    "\n",
    "And it will split the email into user name and domain name using **index**.\n",
    "\n",
    "**Hints:**\n",
    "* if the input doesn't include '@' char, return a text as 'Invalid email format.'\n",
    "\n",
    "<pre>\n",
    "Expected output:\n",
    "\n",
    "Please enter an email:  abc@acme.corp\n",
    "User Name: abc\n",
    "Domain: acme.corp\n",
    "</pre>"
   ]
  },
  {
   "cell_type": "code",
   "execution_count": 53,
   "id": "medical-aruba",
   "metadata": {},
   "outputs": [],
   "source": [
    "# S 8:\n",
    "\n",
    "def split_email():\n",
    "    \n",
    "    email = input(\"Please enter an email: \")\n",
    "    \n",
    "    # check @ and find index\n",
    "    index = email.find('@')\n",
    "    \n",
    "    # find() -> if finds index, \n",
    "    # not find -1\n",
    "    if index == -1:\n",
    "        print('Invalid email format.')\n",
    "    else:\n",
    "        print(\"User Name:\", email[:index])\n",
    "        print(\"Domain:\", email[index+1:])\n",
    "    "
   ]
  },
  {
   "cell_type": "code",
   "execution_count": 54,
   "id": "verbal-movement",
   "metadata": {},
   "outputs": [
    {
     "name": "stdin",
     "output_type": "stream",
     "text": [
      "Please enter an email:  asfasf\n"
     ]
    },
    {
     "name": "stdout",
     "output_type": "stream",
     "text": [
      "Invalid email format.\n"
     ]
    }
   ],
   "source": [
    "split_email()"
   ]
  },
  {
   "cell_type": "code",
   "execution_count": 55,
   "id": "pleased-thermal",
   "metadata": {},
   "outputs": [
    {
     "name": "stdin",
     "output_type": "stream",
     "text": [
      "Please enter an email:  example@test.com\n"
     ]
    },
    {
     "name": "stdout",
     "output_type": "stream",
     "text": [
      "User Name: example\n",
      "Domain: test.com\n"
     ]
    }
   ],
   "source": [
    "split_email()"
   ]
  },
  {
   "cell_type": "code",
   "execution_count": 56,
   "id": "gothic-response",
   "metadata": {},
   "outputs": [
    {
     "name": "stdin",
     "output_type": "stream",
     "text": [
      "Please enter an email:  abc@acme.com\n"
     ]
    },
    {
     "name": "stdout",
     "output_type": "stream",
     "text": [
      "User Name: abc\n",
      "Domain: acme.com\n"
     ]
    }
   ],
   "source": [
    "split_email()"
   ]
  },
  {
   "cell_type": "markdown",
   "id": "descending-library",
   "metadata": {},
   "source": [
    "---"
   ]
  },
  {
   "cell_type": "markdown",
   "id": "ignored-decision",
   "metadata": {},
   "source": [
    "**Q 9:**\n",
    "\n",
    "Define a function named **reverse**.\n",
    "\n",
    "It will ask for a sentence from the user and return the reverse of this sentence.\n",
    "\n",
    "<pre>\n",
    "Expected Output:\n",
    "\n",
    "Please enter a sentence:  yesterday came suddenly\n",
    "'ylneddus emac yadretsey\n",
    "</pre>"
   ]
  },
  {
   "cell_type": "code",
   "execution_count": 57,
   "id": "nutritional-console",
   "metadata": {},
   "outputs": [],
   "source": [
    "# S 9:\n",
    "\n",
    "def reverse():\n",
    "    \n",
    "    sentence = input('Please enter a sentence: ')\n",
    "    \n",
    "    return sentence[::-1]\n"
   ]
  },
  {
   "cell_type": "code",
   "execution_count": 58,
   "id": "chinese-federal",
   "metadata": {},
   "outputs": [
    {
     "name": "stdin",
     "output_type": "stream",
     "text": [
      "Please enter a sentence:  yesterday was easy\n"
     ]
    },
    {
     "data": {
      "text/plain": [
       "'ysae saw yadretsey'"
      ]
     },
     "execution_count": 58,
     "metadata": {},
     "output_type": "execute_result"
    }
   ],
   "source": [
    "reverse()"
   ]
  },
  {
   "cell_type": "code",
   "execution_count": 59,
   "id": "bizarre-verse",
   "metadata": {},
   "outputs": [
    {
     "name": "stdin",
     "output_type": "stream",
     "text": [
      "Please enter a sentence:  python data science\n"
     ]
    },
    {
     "data": {
      "text/plain": [
       "'ecneics atad nohtyp'"
      ]
     },
     "execution_count": 59,
     "metadata": {},
     "output_type": "execute_result"
    }
   ],
   "source": [
    "reverse()"
   ]
  },
  {
   "cell_type": "markdown",
   "id": "complimentary-outdoors",
   "metadata": {},
   "source": [
    "---"
   ]
  },
  {
   "cell_type": "markdown",
   "id": "integral-spray",
   "metadata": {},
   "source": [
    "**Q 10:**\n",
    "\n",
    "Define a function named **replace_with_next_letter**.\n",
    "\n",
    "It will ask for an input from the user.\n",
    "\n",
    "And will replace every character with the next letter in the English alphabet.\n",
    "\n",
    "**Hints:**\n",
    "* use nested functions\n",
    "* there should be is_lower() and is_upper() functions to check whether the char is small or upper\n",
    "* there should be next_letter() function to take a letter and return the next one from alphabet\n",
    "* alphabets:\n",
    "    * alphabet_lower = 'abcdefghijklmnoprstuvyz'\n",
    "    * alphabet_upper = 'ABCDEFGHIJKLMNOPRSTUVYZ'\n",
    "* use index to get the related letter\n",
    "\n",
    "<pre>\n",
    "Expected Output:\n",
    "\n",
    "Please enter a text:  Python\n",
    "Rzuipo\n",
    "\n",
    "Please enter a text:  abcZ\n",
    "bcdA\n",
    "</pre>"
   ]
  },
  {
   "cell_type": "code",
   "execution_count": 60,
   "id": "attached-roman",
   "metadata": {},
   "outputs": [],
   "source": [
    "# S 10:\n",
    "\n",
    "def replace_with_next_letter():\n",
    "    \n",
    "    sentence = input('Please enter a sentence: ')\n",
    "    \n",
    "    alphabet_lower = 'abcdefghijklmnoprstuvyz'\n",
    "    alphabet_upper = 'ABCDEFGHIJKLMNOPRSTUVYZ'\n",
    "    \n",
    "    new_sentence = \"\"\n",
    "    \n",
    "    def is_lower(letter):\n",
    "        return letter in alphabet_lower\n",
    "    \n",
    "    def is_upper(letter):\n",
    "        return letter in alphabet_upper\n",
    "\n",
    "    def next_letter(alphabet, letter):\n",
    "        index = alphabet.find(letter)\n",
    "        if index == len(alphabet) - 1:\n",
    "            index = -1\n",
    "        return alphabet[index + 1]\n",
    "        \n",
    "    for letter in sentence:\n",
    "        \n",
    "        # lower or upper\n",
    "        if is_lower(letter):\n",
    "            new_letter = next_letter(alphabet_lower, letter)\n",
    "        elif is_upper(letter):\n",
    "            new_letter = next_letter(alphabet_upper, letter)\n",
    "        else:\n",
    "            new_letter = letter\n",
    "            \n",
    "        # concat the new_letter into new_sentence\n",
    "        new_sentence += new_letter\n",
    "        \n",
    "    return new_sentence        \n",
    "    "
   ]
  },
  {
   "cell_type": "code",
   "execution_count": 61,
   "id": "isolated-offense",
   "metadata": {},
   "outputs": [
    {
     "name": "stdin",
     "output_type": "stream",
     "text": [
      "Please enter a sentence:  Python\n"
     ]
    },
    {
     "name": "stdout",
     "output_type": "stream",
     "text": [
      "Rzuipo\n"
     ]
    }
   ],
   "source": [
    "new_text = replace_with_next_letter()\n",
    "print(new_text)"
   ]
  },
  {
   "cell_type": "code",
   "execution_count": 62,
   "id": "entire-counter",
   "metadata": {},
   "outputs": [
    {
     "name": "stdin",
     "output_type": "stream",
     "text": [
      "Please enter a sentence:  abcZ\n"
     ]
    },
    {
     "name": "stdout",
     "output_type": "stream",
     "text": [
      "bcdA\n"
     ]
    }
   ],
   "source": [
    "new_text = replace_with_next_letter()\n",
    "print(new_text)"
   ]
  },
  {
   "cell_type": "code",
   "execution_count": null,
   "id": "protected-madrid",
   "metadata": {},
   "outputs": [],
   "source": []
  }
 ],
 "metadata": {
  "kernelspec": {
   "display_name": "Python 3",
   "language": "python",
   "name": "python3"
  },
  "language_info": {
   "codemirror_mode": {
    "name": "ipython",
    "version": 3
   },
   "file_extension": ".py",
   "mimetype": "text/x-python",
   "name": "python",
   "nbconvert_exporter": "python",
   "pygments_lexer": "ipython3",
   "version": "3.8.8"
  }
 },
 "nbformat": 4,
 "nbformat_minor": 5
}
