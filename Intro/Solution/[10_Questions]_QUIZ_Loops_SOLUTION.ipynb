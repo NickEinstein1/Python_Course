{
 "cells": [
  {
   "cell_type": "markdown",
   "id": "configured-toner",
   "metadata": {},
   "source": [
    "## [10 Questions] QUIZ - Loops"
   ]
  },
  {
   "cell_type": "markdown",
   "id": "close-newspaper",
   "metadata": {},
   "source": [
    "**Q 1:**\n",
    "\n",
    "Define a function that draw a square of stars on the screen.\n",
    "\n",
    "The function name will be **sqaure_of_stars_with_while**.\n",
    "\n",
    "The parameter will be number of stars in one side of square.\n",
    "\n",
    "Hints:\n",
    "* ask for number of stars from the user\n",
    "* use while loop\n",
    "\n",
    "<pre>\n",
    "Expected output for 5 stars:\n",
    "\n",
    "* * * * * \n",
    "* * * * * \n",
    "* * * * * \n",
    "* * * * * \n",
    "* * * * * \n",
    "</pre>"
   ]
  },
  {
   "cell_type": "code",
   "execution_count": 1,
   "id": "analyzed-august",
   "metadata": {},
   "outputs": [],
   "source": [
    "# S 1:\n",
    "\n",
    "def sqaure_of_stars_with_while(n):\n",
    "    \"\"\"\n",
    "    Function to draw a square of stars.\n",
    "    Parameter: int n, number of stars\n",
    "    Returns: None\n",
    "    \"\"\"\n",
    "    \n",
    "    # rows\n",
    "    i = 0\n",
    "    while i < n:\n",
    "        \n",
    "        stars = \"\"\n",
    "        \n",
    "        # columns\n",
    "        j = 0\n",
    "        while j < n:\n",
    "            stars += \"* \"\n",
    "            j += 1\n",
    "            \n",
    "        # print stars for row\n",
    "        print(stars)\n",
    "        \n",
    "        i += 1\n",
    "        "
   ]
  },
  {
   "cell_type": "code",
   "execution_count": 2,
   "id": "large-laser",
   "metadata": {},
   "outputs": [
    {
     "name": "stdin",
     "output_type": "stream",
     "text": [
      "Enter the number of stars:  5\n"
     ]
    },
    {
     "name": "stdout",
     "output_type": "stream",
     "text": [
      "* * * * * \n",
      "* * * * * \n",
      "* * * * * \n",
      "* * * * * \n",
      "* * * * * \n"
     ]
    }
   ],
   "source": [
    "n = int(input(\"Enter the number of stars: \"))\n",
    "sqaure_of_stars_with_while(n)"
   ]
  },
  {
   "cell_type": "code",
   "execution_count": 3,
   "id": "italian-comedy",
   "metadata": {},
   "outputs": [
    {
     "name": "stdin",
     "output_type": "stream",
     "text": [
      "Enter the number of stars:  20\n"
     ]
    },
    {
     "name": "stdout",
     "output_type": "stream",
     "text": [
      "* * * * * * * * * * * * * * * * * * * * \n",
      "* * * * * * * * * * * * * * * * * * * * \n",
      "* * * * * * * * * * * * * * * * * * * * \n",
      "* * * * * * * * * * * * * * * * * * * * \n",
      "* * * * * * * * * * * * * * * * * * * * \n",
      "* * * * * * * * * * * * * * * * * * * * \n",
      "* * * * * * * * * * * * * * * * * * * * \n",
      "* * * * * * * * * * * * * * * * * * * * \n",
      "* * * * * * * * * * * * * * * * * * * * \n",
      "* * * * * * * * * * * * * * * * * * * * \n",
      "* * * * * * * * * * * * * * * * * * * * \n",
      "* * * * * * * * * * * * * * * * * * * * \n",
      "* * * * * * * * * * * * * * * * * * * * \n",
      "* * * * * * * * * * * * * * * * * * * * \n",
      "* * * * * * * * * * * * * * * * * * * * \n",
      "* * * * * * * * * * * * * * * * * * * * \n",
      "* * * * * * * * * * * * * * * * * * * * \n",
      "* * * * * * * * * * * * * * * * * * * * \n",
      "* * * * * * * * * * * * * * * * * * * * \n",
      "* * * * * * * * * * * * * * * * * * * * \n"
     ]
    }
   ],
   "source": [
    "n = int(input(\"Enter the number of stars: \"))\n",
    "sqaure_of_stars_with_while(n)"
   ]
  },
  {
   "cell_type": "markdown",
   "id": "rural-power",
   "metadata": {},
   "source": [
    "---"
   ]
  },
  {
   "cell_type": "markdown",
   "id": "modern-folks",
   "metadata": {},
   "source": [
    "**Q 2:**\n",
    "\n",
    "Define a function that draw a square of stars on the screen.\n",
    "\n",
    "The function name will be **sqaure_of_stars_with_for**.\n",
    "\n",
    "The parameter will be number of stars in one side of square.\n",
    "\n",
    "Hints:\n",
    "* ask for number of stars from the user\n",
    "* use for loop\n",
    "\n",
    "<pre>\n",
    "Expected output for 5 stars:\n",
    "\n",
    "* * * * * \n",
    "* * * * * \n",
    "* * * * * \n",
    "* * * * * \n",
    "* * * * * \n",
    "</pre>"
   ]
  },
  {
   "cell_type": "code",
   "execution_count": 4,
   "id": "suffering-bahrain",
   "metadata": {},
   "outputs": [],
   "source": [
    "# S 2:\n",
    "\n",
    "def sqaure_of_stars_with_for(n):\n",
    "    \"\"\"\n",
    "    Function to draw a square of stars.\n",
    "    Parameter: int n, number of stars\n",
    "    Returns: None\n",
    "    \"\"\"\n",
    "    \n",
    "    # rows\n",
    "    for i in range(n):\n",
    "        \n",
    "        stars = \"\"\n",
    "        \n",
    "        # columns\n",
    "        for j in range(n):\n",
    "            stars += \"* \"\n",
    "            \n",
    "        # print row\n",
    "        print(stars)\n"
   ]
  },
  {
   "cell_type": "code",
   "execution_count": 5,
   "id": "guilty-cooking",
   "metadata": {},
   "outputs": [
    {
     "name": "stdin",
     "output_type": "stream",
     "text": [
      "Enter the number of stars:  5\n"
     ]
    },
    {
     "name": "stdout",
     "output_type": "stream",
     "text": [
      "* * * * * \n",
      "* * * * * \n",
      "* * * * * \n",
      "* * * * * \n",
      "* * * * * \n"
     ]
    }
   ],
   "source": [
    "n = int(input(\"Enter the number of stars: \"))\n",
    "sqaure_of_stars_with_for(n)"
   ]
  },
  {
   "cell_type": "code",
   "execution_count": 6,
   "id": "rubber-campaign",
   "metadata": {},
   "outputs": [
    {
     "name": "stdin",
     "output_type": "stream",
     "text": [
      "Enter the number of stars:  10\n"
     ]
    },
    {
     "name": "stdout",
     "output_type": "stream",
     "text": [
      "* * * * * * * * * * \n",
      "* * * * * * * * * * \n",
      "* * * * * * * * * * \n",
      "* * * * * * * * * * \n",
      "* * * * * * * * * * \n",
      "* * * * * * * * * * \n",
      "* * * * * * * * * * \n",
      "* * * * * * * * * * \n",
      "* * * * * * * * * * \n",
      "* * * * * * * * * * \n"
     ]
    }
   ],
   "source": [
    "n = int(input(\"Enter the number of stars: \"))\n",
    "sqaure_of_stars_with_for(n)"
   ]
  },
  {
   "cell_type": "markdown",
   "id": "useful-dictionary",
   "metadata": {},
   "source": [
    "---"
   ]
  },
  {
   "cell_type": "markdown",
   "id": "awful-birth",
   "metadata": {},
   "source": [
    "**Q 3:**\n",
    "\n",
    "Define a function that draw a right triangle (lower triangle) of stars on the screen.\n",
    "\n",
    "The function name will be **lower_triangle_with_while**.\n",
    "\n",
    "The parameter will be number of stars in one side of triangle.\n",
    "\n",
    "Hints:\n",
    "* ask for number of stars from the user\n",
    "* use while loop\n",
    "\n",
    "<pre>\n",
    "Expected output for 5 stars:\n",
    "(lower triangle)\n",
    "\n",
    "*\n",
    "* *\n",
    "* * *\n",
    "* * * * \n",
    "* * * * *\n",
    "</pre>"
   ]
  },
  {
   "cell_type": "code",
   "execution_count": 7,
   "id": "proud-carolina",
   "metadata": {},
   "outputs": [],
   "source": [
    "# S 3:\n",
    "\n",
    "def lower_triangle_with_while(n):\n",
    "    \n",
    "    # rows\n",
    "    i = 0\n",
    "    while i < n:\n",
    "        \n",
    "        stars = \"\"\n",
    "        \n",
    "        # columns\n",
    "        j = 0\n",
    "        while j <= i:\n",
    "            stars += \"* \"\n",
    "            j += 1\n",
    "\n",
    "        print(stars)\n",
    "        \n",
    "        i += 1\n",
    "    "
   ]
  },
  {
   "cell_type": "code",
   "execution_count": 8,
   "id": "governing-poker",
   "metadata": {},
   "outputs": [
    {
     "name": "stdout",
     "output_type": "stream",
     "text": [
      "* \n",
      "* * \n",
      "* * * \n",
      "* * * * \n",
      "* * * * * \n"
     ]
    }
   ],
   "source": [
    "lower_triangle_with_while(5)"
   ]
  },
  {
   "cell_type": "code",
   "execution_count": 9,
   "id": "favorite-review",
   "metadata": {},
   "outputs": [
    {
     "name": "stdout",
     "output_type": "stream",
     "text": [
      "* \n",
      "* * \n",
      "* * * \n",
      "* * * * \n",
      "* * * * * \n",
      "* * * * * * \n",
      "* * * * * * * \n",
      "* * * * * * * * \n",
      "* * * * * * * * * \n",
      "* * * * * * * * * * \n"
     ]
    }
   ],
   "source": [
    "lower_triangle_with_while(10)"
   ]
  },
  {
   "cell_type": "code",
   "execution_count": 10,
   "id": "single-casting",
   "metadata": {},
   "outputs": [
    {
     "name": "stdout",
     "output_type": "stream",
     "text": [
      "* \n",
      "* * \n",
      "* * * \n",
      "* * * * \n",
      "* * * * * \n",
      "* * * * * * \n",
      "* * * * * * * \n",
      "* * * * * * * * \n",
      "* * * * * * * * * \n",
      "* * * * * * * * * * \n",
      "* * * * * * * * * * * \n",
      "* * * * * * * * * * * * \n",
      "* * * * * * * * * * * * * \n",
      "* * * * * * * * * * * * * * \n",
      "* * * * * * * * * * * * * * * \n",
      "* * * * * * * * * * * * * * * * \n",
      "* * * * * * * * * * * * * * * * * \n",
      "* * * * * * * * * * * * * * * * * * \n",
      "* * * * * * * * * * * * * * * * * * * \n",
      "* * * * * * * * * * * * * * * * * * * * \n"
     ]
    }
   ],
   "source": [
    "lower_triangle_with_while(20)"
   ]
  },
  {
   "cell_type": "markdown",
   "id": "palestinian-census",
   "metadata": {},
   "source": [
    "---"
   ]
  },
  {
   "cell_type": "markdown",
   "id": "fourth-terrorist",
   "metadata": {},
   "source": [
    "**Q 4:**\n",
    "\n",
    "Define a function that draw a right triangle (lower triangle) of stars on the screen.\n",
    "\n",
    "The function name will be **lower_triangle_with_for**.\n",
    "\n",
    "The parameter will be number of stars in one side of triangle.\n",
    "\n",
    "Hints:\n",
    "* ask for number of stars from the user\n",
    "* use for loop\n",
    "\n",
    "<pre>\n",
    "Expected output for 5 stars:\n",
    "(lower triangle)\n",
    "\n",
    "*\n",
    "* *\n",
    "* * *\n",
    "* * * * \n",
    "* * * * *\n",
    "</pre>"
   ]
  },
  {
   "cell_type": "code",
   "execution_count": 13,
   "id": "vietnamese-missouri",
   "metadata": {},
   "outputs": [],
   "source": [
    "# S 4:\n",
    "\n",
    "def lower_triangle_with_for(n):\n",
    "    \n",
    "    # rows\n",
    "    for i in range(n):\n",
    "        \n",
    "        stars = \"\"\n",
    "        \n",
    "        # columns\n",
    "        for j in range(i+1):\n",
    "            stars += \"* \"\n",
    "\n",
    "        print(stars)\n",
    "        "
   ]
  },
  {
   "cell_type": "code",
   "execution_count": 14,
   "id": "fatal-atlantic",
   "metadata": {},
   "outputs": [
    {
     "name": "stdout",
     "output_type": "stream",
     "text": [
      "* \n",
      "* * \n",
      "* * * \n",
      "* * * * \n",
      "* * * * * \n"
     ]
    }
   ],
   "source": [
    "lower_triangle_with_for(5)"
   ]
  },
  {
   "cell_type": "code",
   "execution_count": 15,
   "id": "humanitarian-expansion",
   "metadata": {},
   "outputs": [
    {
     "name": "stdout",
     "output_type": "stream",
     "text": [
      "* \n",
      "* * \n",
      "* * * \n",
      "* * * * \n",
      "* * * * * \n",
      "* * * * * * \n",
      "* * * * * * * \n",
      "* * * * * * * * \n",
      "* * * * * * * * * \n",
      "* * * * * * * * * * \n"
     ]
    }
   ],
   "source": [
    "lower_triangle_with_for(10)"
   ]
  },
  {
   "cell_type": "code",
   "execution_count": 16,
   "id": "alleged-absence",
   "metadata": {},
   "outputs": [
    {
     "name": "stdout",
     "output_type": "stream",
     "text": [
      "* \n",
      "* * \n",
      "* * * \n",
      "* * * * \n",
      "* * * * * \n",
      "* * * * * * \n",
      "* * * * * * * \n",
      "* * * * * * * * \n",
      "* * * * * * * * * \n",
      "* * * * * * * * * * \n",
      "* * * * * * * * * * * \n",
      "* * * * * * * * * * * * \n",
      "* * * * * * * * * * * * * \n",
      "* * * * * * * * * * * * * * \n",
      "* * * * * * * * * * * * * * * \n",
      "* * * * * * * * * * * * * * * * \n",
      "* * * * * * * * * * * * * * * * * \n",
      "* * * * * * * * * * * * * * * * * * \n",
      "* * * * * * * * * * * * * * * * * * * \n",
      "* * * * * * * * * * * * * * * * * * * * \n"
     ]
    }
   ],
   "source": [
    "lower_triangle_with_for(20)"
   ]
  },
  {
   "cell_type": "markdown",
   "id": "educational-continent",
   "metadata": {},
   "source": [
    "---"
   ]
  },
  {
   "cell_type": "markdown",
   "id": "funded-gabriel",
   "metadata": {},
   "source": [
    "**Q 5:**\n",
    "\n",
    "Define a function that draw a right triangle (upper triangle) of stars on the screen.\n",
    "\n",
    "The function name will be **upper_triangle_with_for**.\n",
    "\n",
    "The parameter will be number of stars in one side of triangle.\n",
    "\n",
    "Hints:\n",
    "* ask for number of stars from the user\n",
    "* use for loop\n",
    "\n",
    "<pre>\n",
    "Expected output for 5 stars:\n",
    "(upper triangle)\n",
    "\n",
    "* * * * * \n",
    "* * * * \n",
    "* * * \n",
    "* * \n",
    "* \n",
    "</pre>"
   ]
  },
  {
   "cell_type": "code",
   "execution_count": 20,
   "id": "hazardous-generator",
   "metadata": {},
   "outputs": [],
   "source": [
    "# S 5:\n",
    "\n",
    "def upper_triangle_with_for(n):\n",
    "    \n",
    "    # rows\n",
    "    for i in range(n, 0, -1):\n",
    "        \n",
    "        stars = \"\"\n",
    "        \n",
    "        # columns\n",
    "        for j in range(i):\n",
    "            stars += \"* \"\n",
    "            \n",
    "        print(stars)\n"
   ]
  },
  {
   "cell_type": "code",
   "execution_count": 18,
   "id": "wicked-retailer",
   "metadata": {},
   "outputs": [
    {
     "name": "stdout",
     "output_type": "stream",
     "text": [
      "5\n",
      "4\n",
      "3\n",
      "2\n",
      "1\n"
     ]
    }
   ],
   "source": [
    "for i in range(5, 0, -1):\n",
    "    print(i)"
   ]
  },
  {
   "cell_type": "code",
   "execution_count": 21,
   "id": "subjective-honor",
   "metadata": {},
   "outputs": [
    {
     "name": "stdout",
     "output_type": "stream",
     "text": [
      "* * * * * \n",
      "* * * * \n",
      "* * * \n",
      "* * \n",
      "* \n"
     ]
    }
   ],
   "source": [
    "upper_triangle_with_for(5)"
   ]
  },
  {
   "cell_type": "code",
   "execution_count": 22,
   "id": "fundamental-hayes",
   "metadata": {},
   "outputs": [
    {
     "name": "stdout",
     "output_type": "stream",
     "text": [
      "* * * * * * * * * * \n",
      "* * * * * * * * * \n",
      "* * * * * * * * \n",
      "* * * * * * * \n",
      "* * * * * * \n",
      "* * * * * \n",
      "* * * * \n",
      "* * * \n",
      "* * \n",
      "* \n"
     ]
    }
   ],
   "source": [
    "upper_triangle_with_for(10)"
   ]
  },
  {
   "cell_type": "markdown",
   "id": "alike-diesel",
   "metadata": {},
   "source": [
    "---"
   ]
  },
  {
   "cell_type": "markdown",
   "id": "flexible-binding",
   "metadata": {},
   "source": [
    "**Q 6:**\n",
    "\n",
    "Define a function that draw an isosceles triangle of stars on the screen.\n",
    "\n",
    "The function name will be **isosceles_triangle_with_for**.\n",
    "\n",
    "The parameter will be number of stars in half of the long side of triangle.\n",
    "\n",
    "Hints:\n",
    "* ask for number of stars from the user\n",
    "* call previous functions for drawing\n",
    "\n",
    "<pre>\n",
    "Expected output for 5 stars:\n",
    "(upper triangle)\n",
    "\n",
    "* \n",
    "* * \n",
    "* * * \n",
    "* * * * \n",
    "* * * * * \n",
    "* * * * \n",
    "* * * \n",
    "* * \n",
    "* \n",
    "</pre>"
   ]
  },
  {
   "cell_type": "code",
   "execution_count": 23,
   "id": "applicable-offering",
   "metadata": {},
   "outputs": [],
   "source": [
    "# S 6:\n",
    "\n",
    "def isosceles_triangle_with_for(n):\n",
    "    \n",
    "    # lower triangle\n",
    "    lower_triangle_with_for(n)\n",
    "    \n",
    "    # upper triangle\n",
    "    upper_triangle_with_for(n)\n",
    "    "
   ]
  },
  {
   "cell_type": "code",
   "execution_count": 24,
   "id": "iraqi-mercy",
   "metadata": {},
   "outputs": [
    {
     "name": "stdout",
     "output_type": "stream",
     "text": [
      "* \n",
      "* * \n",
      "* * * \n",
      "* * * * \n",
      "* * * * * \n",
      "* * * * * \n",
      "* * * * \n",
      "* * * \n",
      "* * \n",
      "* \n"
     ]
    }
   ],
   "source": [
    "isosceles_triangle_with_for(5)"
   ]
  },
  {
   "cell_type": "markdown",
   "id": "published-interface",
   "metadata": {},
   "source": [
    "There is an error in the middle. Let's fix it."
   ]
  },
  {
   "cell_type": "code",
   "execution_count": 25,
   "id": "collectible-principle",
   "metadata": {},
   "outputs": [],
   "source": [
    "def isosceles_triangle_with_for(n):\n",
    "    \n",
    "    # lower triangle\n",
    "    lower_triangle_with_for(n - 1)\n",
    "    \n",
    "    # upper triangle\n",
    "    upper_triangle_with_for(n)\n",
    "    "
   ]
  },
  {
   "cell_type": "code",
   "execution_count": 26,
   "id": "canadian-stroke",
   "metadata": {},
   "outputs": [
    {
     "name": "stdout",
     "output_type": "stream",
     "text": [
      "* \n",
      "* * \n",
      "* * * \n",
      "* * * * \n",
      "* * * * * \n",
      "* * * * \n",
      "* * * \n",
      "* * \n",
      "* \n"
     ]
    }
   ],
   "source": [
    "isosceles_triangle_with_for(5)"
   ]
  },
  {
   "cell_type": "code",
   "execution_count": 27,
   "id": "saving-gazette",
   "metadata": {},
   "outputs": [
    {
     "name": "stdout",
     "output_type": "stream",
     "text": [
      "* \n",
      "* * \n",
      "* * * \n",
      "* * * * \n",
      "* * * * * \n",
      "* * * * * * \n",
      "* * * * * * * \n",
      "* * * * * * * * \n",
      "* * * * * * * * * \n",
      "* * * * * * * * * * \n",
      "* * * * * * * * * \n",
      "* * * * * * * * \n",
      "* * * * * * * \n",
      "* * * * * * \n",
      "* * * * * \n",
      "* * * * \n",
      "* * * \n",
      "* * \n",
      "* \n"
     ]
    }
   ],
   "source": [
    "isosceles_triangle_with_for(10)"
   ]
  },
  {
   "cell_type": "markdown",
   "id": "olive-deviation",
   "metadata": {},
   "source": [
    "---"
   ]
  },
  {
   "cell_type": "markdown",
   "id": "opposed-drama",
   "metadata": {},
   "source": [
    "**Q 7:**\n",
    "\n",
    "Define a `bool` function which checks if the given number (parameter) is a prime number.\n",
    "\n",
    "The function name will be **is_prime** and it will return True if the number is prime, False otherwise."
   ]
  },
  {
   "cell_type": "code",
   "execution_count": 28,
   "id": "centered-venezuela",
   "metadata": {},
   "outputs": [],
   "source": [
    "# S 7:\n",
    "\n",
    "def is_prime(n):\n",
    "    \"\"\"\n",
    "    Checks if the number is prime or not.\n",
    "    Parameter: int n\n",
    "    Returns: True if n is prime, False otherwise\n",
    "    \"\"\"\n",
    "    \n",
    "    prime = True\n",
    "   \n",
    "    for i in range(2, n):\n",
    "        \n",
    "        # if n is divisible by i\n",
    "        if n % i == 0:\n",
    "            prime = False\n",
    "        \n",
    "    \n",
    "    return prime\n",
    "    "
   ]
  },
  {
   "cell_type": "code",
   "execution_count": 29,
   "id": "prospective-pressure",
   "metadata": {},
   "outputs": [
    {
     "data": {
      "text/plain": [
       "True"
      ]
     },
     "execution_count": 29,
     "metadata": {},
     "output_type": "execute_result"
    }
   ],
   "source": [
    "# Now test the function\n",
    "\n",
    "is_prime(7)"
   ]
  },
  {
   "cell_type": "code",
   "execution_count": 30,
   "id": "confused-lemon",
   "metadata": {},
   "outputs": [
    {
     "data": {
      "text/plain": [
       "False"
      ]
     },
     "execution_count": 30,
     "metadata": {},
     "output_type": "execute_result"
    }
   ],
   "source": [
    "is_prime(18)"
   ]
  },
  {
   "cell_type": "code",
   "execution_count": 31,
   "id": "cultural-chaos",
   "metadata": {},
   "outputs": [
    {
     "data": {
      "text/plain": [
       "True"
      ]
     },
     "execution_count": 31,
     "metadata": {},
     "output_type": "execute_result"
    }
   ],
   "source": [
    "is_prime(17)"
   ]
  },
  {
   "cell_type": "markdown",
   "id": "impaired-recipe",
   "metadata": {},
   "source": [
    "---"
   ]
  },
  {
   "cell_type": "markdown",
   "id": "cathedral-moisture",
   "metadata": {},
   "source": [
    "**Q 8:**\n",
    "\n",
    "Define a function named **prime_factors**.\n",
    "\n",
    "The function will take an integer parameter and will find all the `prime factors` of that number."
   ]
  },
  {
   "cell_type": "code",
   "execution_count": 32,
   "id": "disturbed-multiple",
   "metadata": {},
   "outputs": [],
   "source": [
    "# S 8:\n",
    "\n",
    "def prime_factors(n):\n",
    "    \n",
    "    for i in range(2, n):\n",
    "        \n",
    "        # if n is divisible by i -> i is a factor\n",
    "        if n % i == 0:\n",
    "            \n",
    "            # check if i is prime\n",
    "            if is_prime(i):\n",
    "                print(i)\n"
   ]
  },
  {
   "cell_type": "code",
   "execution_count": 33,
   "id": "returning-minneapolis",
   "metadata": {},
   "outputs": [
    {
     "name": "stdout",
     "output_type": "stream",
     "text": [
      "2\n",
      "3\n"
     ]
    }
   ],
   "source": [
    "prime_factors(24)"
   ]
  },
  {
   "cell_type": "code",
   "execution_count": 34,
   "id": "divided-chaos",
   "metadata": {},
   "outputs": [
    {
     "name": "stdout",
     "output_type": "stream",
     "text": [
      "2\n",
      "7\n"
     ]
    }
   ],
   "source": [
    "prime_factors(98)"
   ]
  },
  {
   "cell_type": "code",
   "execution_count": 35,
   "id": "unexpected-dominican",
   "metadata": {},
   "outputs": [
    {
     "name": "stdout",
     "output_type": "stream",
     "text": [
      "2\n",
      "3\n"
     ]
    }
   ],
   "source": [
    "prime_factors(18)"
   ]
  },
  {
   "cell_type": "code",
   "execution_count": 37,
   "id": "surprising-cannon",
   "metadata": {},
   "outputs": [
    {
     "name": "stdout",
     "output_type": "stream",
     "text": [
      "2\n",
      "37\n"
     ]
    }
   ],
   "source": [
    "prime_factors(74)"
   ]
  },
  {
   "cell_type": "markdown",
   "id": "forced-professor",
   "metadata": {},
   "source": [
    "---"
   ]
  },
  {
   "cell_type": "markdown",
   "id": "recognized-mobile",
   "metadata": {},
   "source": [
    "**Q 9:**\n",
    "\n",
    "Define a function named **trees_and_fives**.\n",
    "\n",
    "It will loop over the integers from 1 to 50, both included.\n",
    "\n",
    "It will print the numbers but:\n",
    "* If the number is a multiple of 3 it will print \"Trees\" instead of the number\n",
    "* If the number is a multiple of 5 it will print \"Fives\" instead of the number\n",
    "* If the number is a multiple of both 3 and 5 it will print \"Trees&Fives\" instead of the number"
   ]
  },
  {
   "cell_type": "code",
   "execution_count": 38,
   "id": "charming-george",
   "metadata": {},
   "outputs": [],
   "source": [
    "# S 9:\n",
    "\n",
    "def trees_and_fives():\n",
    "    \n",
    "    tree = 'Trees'\n",
    "    five = 'Fives'\n",
    "    \n",
    "    for i in range(1, 51):\n",
    "        \n",
    "        # both 3 and 5\n",
    "        if i % 3 == 0 and i % 5 == 0:\n",
    "            print(tree+'&'+five)\n",
    "        elif i % 5 == 0:\n",
    "            print(five)\n",
    "        elif i % 3 == 0:\n",
    "            print(tree)\n",
    "        else:\n",
    "            print(i)\n",
    "            "
   ]
  },
  {
   "cell_type": "code",
   "execution_count": 39,
   "id": "excited-wings",
   "metadata": {},
   "outputs": [
    {
     "name": "stdout",
     "output_type": "stream",
     "text": [
      "1\n",
      "2\n",
      "Trees\n",
      "4\n",
      "Fives\n",
      "Trees\n",
      "7\n",
      "8\n",
      "Trees\n",
      "Fives\n",
      "11\n",
      "Trees\n",
      "13\n",
      "14\n",
      "Trees&Fives\n",
      "16\n",
      "17\n",
      "Trees\n",
      "19\n",
      "Fives\n",
      "Trees\n",
      "22\n",
      "23\n",
      "Trees\n",
      "Fives\n",
      "26\n",
      "Trees\n",
      "28\n",
      "29\n",
      "Trees&Fives\n",
      "31\n",
      "32\n",
      "Trees\n",
      "34\n",
      "Fives\n",
      "Trees\n",
      "37\n",
      "38\n",
      "Trees\n",
      "Fives\n",
      "41\n",
      "Trees\n",
      "43\n",
      "44\n",
      "Trees&Fives\n",
      "46\n",
      "47\n",
      "Trees\n",
      "49\n",
      "Fives\n"
     ]
    }
   ],
   "source": [
    "trees_and_fives()"
   ]
  },
  {
   "cell_type": "markdown",
   "id": "blank-excerpt",
   "metadata": {},
   "source": [
    "---"
   ]
  },
  {
   "cell_type": "markdown",
   "id": "empty-spice",
   "metadata": {},
   "source": [
    "**Q 10:**\n",
    "\n",
    "Define a function named **concat_sentence**.\n",
    "\n",
    "The function will take a string as parameter (sentence).\n",
    "\n",
    "It will first split this sentence into its words.\n",
    "\n",
    "Then it will split each word into its characters.\n",
    "\n",
    "And it will add \"-\" between each character.\n",
    "\n",
    "Moreover it will add \"__\" (double underscore) between the words.\n",
    "\n",
    "And it will return the final sentence.\n",
    "\n",
    "Hints:\n",
    "* to split into words -> split()\n",
    "\n",
    "<pre>\n",
    "sentence = \"This is a long story Rango\"\n",
    "final_sentence = concat_sentence(sentence)\n",
    "print(final_sentence)\n",
    "\n",
    "Expected Output:\n",
    "T-h-i-s__i-s__a__l-o-n-g__s-t-o-r-y__R-a-n-g-o\n",
    "</pre>"
   ]
  },
  {
   "cell_type": "code",
   "execution_count": 45,
   "id": "inside-hanging",
   "metadata": {},
   "outputs": [],
   "source": [
    "# S 10:\n",
    "\n",
    "def concat_sentence(sentence):\n",
    "    \n",
    "    # take the words list\n",
    "    words = sentence.split() # split from space chars\n",
    "    \n",
    "    # variable for new sentence\n",
    "    concatted_sentence = \"\"\n",
    "    \n",
    "    # loop #1 -> words\n",
    "    for word_index, word in enumerate(words):\n",
    "        # print(word)\n",
    "    \n",
    "        concatted_word = \"\"\n",
    "    \n",
    "        # loop #2 -> chars\n",
    "        for char_index, char in enumerate(word):\n",
    "            concatted_word += char\n",
    "            \n",
    "            # add the '-' -> check last\n",
    "            if char_index < len(word) - 1:\n",
    "                concatted_word += '-'\n",
    "\n",
    "        # print(concatted_word)\n",
    "        \n",
    "        concatted_sentence += concatted_word\n",
    "        \n",
    "        # check for last index\n",
    "        if word_index < len(words) -1:\n",
    "            concatted_sentence += '__'\n",
    "        \n",
    "    return concatted_sentence\n"
   ]
  },
  {
   "cell_type": "code",
   "execution_count": 48,
   "id": "level-round",
   "metadata": {},
   "outputs": [
    {
     "data": {
      "text/plain": [
       "'T-h-e__s-e-n-t-e-n-c-e__t-o__c-o-n-c-a-t'"
      ]
     },
     "execution_count": 48,
     "metadata": {},
     "output_type": "execute_result"
    }
   ],
   "source": [
    "sentence = \"The sentence to concat\"\n",
    "concat_sentence(sentence)"
   ]
  },
  {
   "cell_type": "code",
   "execution_count": 47,
   "id": "adolescent-limitation",
   "metadata": {},
   "outputs": [
    {
     "name": "stdout",
     "output_type": "stream",
     "text": [
      "T-h-i-s__i-s__a__l-o-n-g__s-t-o-r-y__R-a-n-g-o\n"
     ]
    }
   ],
   "source": [
    "sentence = \"This is a long story Rango\"\n",
    "final_sentence = concat_sentence(sentence)\n",
    "print(final_sentence)"
   ]
  },
  {
   "cell_type": "code",
   "execution_count": 40,
   "id": "subjective-pregnancy",
   "metadata": {},
   "outputs": [
    {
     "data": {
      "text/plain": [
       "['This', 'is', 'a', 'long', 'story', 'Rango']"
      ]
     },
     "execution_count": 40,
     "metadata": {},
     "output_type": "execute_result"
    }
   ],
   "source": [
    "sentence = \"This is a long story Rango\"\n",
    "sentence.split()"
   ]
  },
  {
   "cell_type": "code",
   "execution_count": null,
   "id": "mathematical-ordinance",
   "metadata": {},
   "outputs": [],
   "source": []
  }
 ],
 "metadata": {
  "kernelspec": {
   "display_name": "Python 3",
   "language": "python",
   "name": "python3"
  },
  "language_info": {
   "codemirror_mode": {
    "name": "ipython",
    "version": 3
   },
   "file_extension": ".py",
   "mimetype": "text/x-python",
   "name": "python",
   "nbconvert_exporter": "python",
   "pygments_lexer": "ipython3",
   "version": "3.8.5"
  }
 },
 "nbformat": 4,
 "nbformat_minor": 5
}
