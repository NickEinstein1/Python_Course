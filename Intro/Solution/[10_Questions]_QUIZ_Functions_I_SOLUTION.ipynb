{
 "cells": [
  {
   "cell_type": "markdown",
   "id": "59435de0-d747-4dc5-b04b-4ce6d4a6805d",
   "metadata": {},
   "source": [
    "## QUIZ - Functions I - SOLUTION"
   ]
  },
  {
   "cell_type": "markdown",
   "id": "tired-psychiatry",
   "metadata": {},
   "source": [
    "**Q 1:**\n",
    "\n",
    "Define a function that prints \"Hello World!\"."
   ]
  },
  {
   "cell_type": "code",
   "execution_count": 4,
   "id": "muslim-davis",
   "metadata": {},
   "outputs": [
    {
     "name": "stdout",
     "output_type": "stream",
     "text": [
      "Hello World!\n"
     ]
    }
   ],
   "source": [
    "# S 1:\n",
    "\n",
    "def first_function():\n",
    "    print(\"Hello World!\")\n",
    "    \n",
    "\n",
    "# call function\n",
    "first_function()"
   ]
  },
  {
   "cell_type": "markdown",
   "id": "prepared-resource",
   "metadata": {},
   "source": [
    "---"
   ]
  },
  {
   "cell_type": "markdown",
   "id": "final-treasurer",
   "metadata": {},
   "source": [
    "**Q 2:**\n",
    "\n",
    "Define a function named **say_hello** that takes two string parameters.\n",
    "\n",
    "We will assume this parameters be two seperate names. (name_1 and name_2)\n",
    "\n",
    "Function will concatenate these names with \"and\".\n",
    "\n",
    "Then it will print as:\n",
    "\n",
    "\"Hello name_1 and name_2.\"\n",
    "\n",
    "Ex: Hello Clark Kent and Superman.\n",
    "\n",
    "Hints:\n",
    "* use string.format() function."
   ]
  },
  {
   "cell_type": "code",
   "execution_count": 6,
   "id": "dynamic-ratio",
   "metadata": {},
   "outputs": [
    {
     "name": "stdout",
     "output_type": "stream",
     "text": [
      "Hello Clark Kent and Superman\n",
      "Hello Bruce Wayne and Batman\n",
      "Hello Peter Parker and Spiderman\n"
     ]
    }
   ],
   "source": [
    "# S 2:\n",
    "\n",
    "\n",
    "# 1st Way\n",
    "# def say_hello(name_1, name_2):\n",
    "#     concat = \"Hello \" + name_1 + \" and \" + name_2\n",
    "#     print(concat)\n",
    "\n",
    "\n",
    "# 2nd Way\n",
    "def say_hello(name_1, name_2):\n",
    "    print(\"Hello {0} and {1}\".format(name_1, name_2))\n",
    "\n",
    "# call the function\n",
    "say_hello(\"Clark Kent\" ,\"Superman\")\n",
    "say_hello(\"Bruce Wayne\" ,\"Batman\")\n",
    "say_hello(\"Peter Parker\" ,\"Spiderman\")"
   ]
  },
  {
   "cell_type": "markdown",
   "id": "broke-collectible",
   "metadata": {},
   "source": [
    "---"
   ]
  },
  {
   "cell_type": "markdown",
   "id": "floating-kitchen",
   "metadata": {},
   "source": [
    "**Q 3:**\n",
    "\n",
    "Define a function that asks user to enter his/her name.\n",
    "\n",
    "This function will print as:\n",
    "\"Hi name.\"\n",
    "\n",
    "Hints:\n",
    "* to get input from user -> input()"
   ]
  },
  {
   "cell_type": "code",
   "execution_count": 8,
   "id": "still-nudist",
   "metadata": {},
   "outputs": [
    {
     "name": "stdin",
     "output_type": "stream",
     "text": [
      "Please enter your name:  Pyhon Coding\n"
     ]
    },
    {
     "name": "stdout",
     "output_type": "stream",
     "text": [
      "Hi Pyhon Coding\n"
     ]
    }
   ],
   "source": [
    "# S 3:\n",
    "\n",
    "def say_my_name():\n",
    "    \n",
    "    # input() -> waits for enter\n",
    "    name = input(\"Please enter your name: \")\n",
    "    \n",
    "    # continues after pressing enter\n",
    "    print(\"Hi {0}\".format(name))\n",
    "    \n",
    "    \n",
    "# function call\n",
    "say_my_name()"
   ]
  },
  {
   "cell_type": "markdown",
   "id": "quality-australian",
   "metadata": {},
   "source": [
    "---"
   ]
  },
  {
   "cell_type": "markdown",
   "id": "basic-vinyl",
   "metadata": {},
   "source": [
    "**Q 4:**\n",
    "\n",
    "Define a function taking 3 parameters as integer.\n",
    "\n",
    "Function will return the maximum of these three numbers.\n",
    "\n",
    "Add a docstring for this function.\n",
    "\n",
    "Hints:\n",
    "* Python has max() built-in function"
   ]
  },
  {
   "cell_type": "code",
   "execution_count": 11,
   "id": "other-composition",
   "metadata": {},
   "outputs": [
    {
     "name": "stdout",
     "output_type": "stream",
     "text": [
      "82\n",
      "Help on function get_max in module __main__:\n",
      "\n",
      "get_max(num_1, num_2, num_3)\n",
      "    This function gets 3 numbers and selects the maximum.\n",
      "    Parameters: int num_1, num_2, num_3\n",
      "    Returns: value from Python's max() function\n",
      "\n",
      "\n",
      "    This function gets 3 numbers and selects the maximum.\n",
      "    Parameters: int num_1, num_2, num_3\n",
      "    Returns: value from Python's max() function\n",
      "    \n"
     ]
    }
   ],
   "source": [
    "# S 4:\n",
    "\n",
    "def get_max(num_1, num_2, num_3):\n",
    "    \"\"\"\n",
    "    This function gets 3 numbers and selects the maximum.\n",
    "    Parameters: int num_1, num_2, num_3\n",
    "    Returns: value from Python's max() function\n",
    "    \"\"\"\n",
    "    \n",
    "    # get the maximum -> max()\n",
    "    maximum = max(num_1, num_2, num_3)\n",
    "    \n",
    "    # return the maximum\n",
    "    return maximum\n",
    "\n",
    "\n",
    "\n",
    "# call function -> get the returned value and print\n",
    "max_number = get_max(4, 82, 19)\n",
    "print(max_number)\n",
    "\n",
    "# docstring\n",
    "help(get_max)\n",
    "print(get_max.__doc__)"
   ]
  },
  {
   "cell_type": "markdown",
   "id": "catholic-current",
   "metadata": {},
   "source": [
    "---"
   ]
  },
  {
   "cell_type": "markdown",
   "id": "laden-migration",
   "metadata": {},
   "source": [
    "**Q 5:**\n",
    "\n",
    "Define a function that takes a string parameter.\n",
    "\n",
    "Function will remove spaces at the beginning and at the end of the string,\n",
    "then it will convert the string into lower case. \n",
    "\n",
    "Hints:\n",
    " * to remove spaces: strip()\n",
    " * to convert lowercase: lower()"
   ]
  },
  {
   "cell_type": "code",
   "execution_count": 14,
   "id": "southern-painting",
   "metadata": {},
   "outputs": [
    {
     "name": "stdout",
     "output_type": "stream",
     "text": [
      "python machine learning\n"
     ]
    }
   ],
   "source": [
    "# S 5:\n",
    "\n",
    "def strip_and_lower(text):\n",
    "    \n",
    "    # strip() -> removes spaces from begining and end\n",
    "    removed = text.strip()\n",
    "    # print(removed)\n",
    "    \n",
    "    # lower() -> converts text into lower case\n",
    "    lower_case = removed.lower()\n",
    "    \n",
    "    # return the final string\n",
    "    return lower_case\n",
    "\n",
    "\n",
    "# function call\n",
    "txt = \"    PyThon MaCHine LeARning   \"\n",
    "final_txt = strip_and_lower(txt)\n",
    "print(final_txt)"
   ]
  },
  {
   "cell_type": "markdown",
   "id": "stupid-consultation",
   "metadata": {},
   "source": [
    "---"
   ]
  },
  {
   "cell_type": "markdown",
   "id": "interstate-album",
   "metadata": {},
   "source": [
    "**Q 6:**\n",
    "\n",
    "Define a function which takes two integer parameters.\n",
    "\n",
    "The function will return the sum of these parameters."
   ]
  },
  {
   "cell_type": "code",
   "execution_count": 15,
   "id": "religious-pillow",
   "metadata": {},
   "outputs": [
    {
     "name": "stdout",
     "output_type": "stream",
     "text": [
      "65\n"
     ]
    }
   ],
   "source": [
    "# S 6:\n",
    "\n",
    "def add(n_1, n_2):\n",
    "    \"\"\"\n",
    "    It adds two numbers.\n",
    "    Parameters: int n_1, n_2\n",
    "    Returns: sum of numbers\n",
    "    \"\"\"\n",
    "    \n",
    "    addition = n_1 + n_2\n",
    "    \n",
    "    return addition\n",
    "    \n",
    "\n",
    "# function call\n",
    "n_1 = 45\n",
    "n_2 = 20\n",
    "addition = add(n_1, n_2)\n",
    "print(addition)\n"
   ]
  },
  {
   "cell_type": "markdown",
   "id": "exceptional-appointment",
   "metadata": {},
   "source": [
    "---"
   ]
  },
  {
   "cell_type": "markdown",
   "id": "former-milton",
   "metadata": {},
   "source": [
    "**Q 7:**\n",
    "\n",
    "Define a function taking 3 numeric parameters.\n",
    "\n",
    "Function will calculate the difference between each pairs.\n",
    "\n",
    "And return the minimum of these differences.\n",
    "\n",
    "Hints:\n",
    "* Use absolute value to calculate difference -> abs  (absolute value)\n",
    "* To get minimum -> min()"
   ]
  },
  {
   "cell_type": "code",
   "execution_count": 16,
   "id": "respective-ranch",
   "metadata": {},
   "outputs": [
    {
     "name": "stdout",
     "output_type": "stream",
     "text": [
      "2\n"
     ]
    }
   ],
   "source": [
    "# S 7:\n",
    "\n",
    "def minimum_difference(a, b, c):\n",
    "    \"\"\"\n",
    "    It calculates the differences of each pair.\n",
    "    Parameters: int a, b, c\n",
    "    Returns: minimum of pair differences\n",
    "    \"\"\"\n",
    "    \n",
    "    # pair differences\n",
    "    diff_1 = abs(a - b)\n",
    "    diff_2 = abs(a - c)\n",
    "    diff_3 = abs(b - c)\n",
    "    \n",
    "    # return the minimum difference\n",
    "    return min(diff_1, diff_2, diff_3)\n",
    "\n",
    "# function call\n",
    "a = 8\n",
    "b = 5\n",
    "c = 10\n",
    "min_diff = minimum_difference(a, b, c)\n",
    "print(min_diff)"
   ]
  },
  {
   "cell_type": "markdown",
   "id": "numerical-agriculture",
   "metadata": {},
   "source": [
    "---"
   ]
  },
  {
   "cell_type": "markdown",
   "id": "expressed-scale",
   "metadata": {},
   "source": [
    "**Q 8:**\n",
    "\n",
    "Define a function taking an integer parameter.\n",
    "\n",
    "Function will return the square root of this parameter.\n",
    "\n",
    "Hints:\n",
    "* Square Root -> math.sqrt()"
   ]
  },
  {
   "cell_type": "code",
   "execution_count": 17,
   "id": "assured-bedroom",
   "metadata": {},
   "outputs": [
    {
     "name": "stdout",
     "output_type": "stream",
     "text": [
      "9.0\n"
     ]
    }
   ],
   "source": [
    "# S 8:\n",
    "\n",
    "import math\n",
    "\n",
    "def squre_root(n):\n",
    "    \"\"\"\n",
    "    Computes the square root.\n",
    "    Parameter: int n\n",
    "    Returns: square root\n",
    "    \"\"\"\n",
    "    \n",
    "    # compute square root\n",
    "    sqr = math.sqrt(n)\n",
    "    \n",
    "    # return square root\n",
    "    return sqr\n",
    "    \n",
    "\n",
    "# function call\n",
    "num = 81\n",
    "sqr = squre_root(num)\n",
    "print(sqr)\n"
   ]
  },
  {
   "cell_type": "markdown",
   "id": "headed-neutral",
   "metadata": {},
   "source": [
    "---"
   ]
  },
  {
   "cell_type": "markdown",
   "id": "original-essay",
   "metadata": {},
   "source": [
    "**Q 9:**\n",
    "\n",
    "Define a function taking a numeric parameter.\n",
    "\n",
    "Function will return the logarithm of this number.\n",
    "\n",
    "Hints:\n",
    "* logarithm -> math.log()"
   ]
  },
  {
   "cell_type": "code",
   "execution_count": 19,
   "id": "angry-relaxation",
   "metadata": {},
   "outputs": [
    {
     "name": "stdout",
     "output_type": "stream",
     "text": [
      "2.4849066497880004\n",
      "2.4849066497880004\n"
     ]
    }
   ],
   "source": [
    "# S 9:\n",
    "\n",
    "import math\n",
    "\n",
    "def get_logarithm(n):\n",
    "    \n",
    "    return math.log(n)\n",
    "    \n",
    "\n",
    "\n",
    "# function call\n",
    "n = 12\n",
    "log = get_logarithm(n)\n",
    "print(log)\n",
    "\n",
    "print(get_logarithm(n))\n"
   ]
  },
  {
   "cell_type": "markdown",
   "id": "intense-trader",
   "metadata": {},
   "source": [
    "---"
   ]
  },
  {
   "cell_type": "markdown",
   "id": "iraqi-physics",
   "metadata": {},
   "source": [
    "**Q 10:**\n",
    "\n",
    "Define a function taking two numeric parameters.\n",
    "\n",
    "Let's assume these numbers are two sides of a right triangle.\n",
    "\n",
    "The function will return the hypotenuse of this triangle.\n",
    "\n",
    "Hints:\n",
    "\n",
    "$$ hipo^2 = a^2 + b^2 $$"
   ]
  },
  {
   "cell_type": "code",
   "execution_count": 20,
   "id": "czech-glossary",
   "metadata": {},
   "outputs": [
    {
     "name": "stdout",
     "output_type": "stream",
     "text": [
      "5.0\n",
      "25.0\n",
      "17.0\n"
     ]
    }
   ],
   "source": [
    "# S 10:\n",
    "\n",
    "import math\n",
    "\n",
    "def hypotenuse(a, b):\n",
    "    \n",
    "    return math.sqrt(a**2 + b**2)\n",
    "    \n",
    "    \n",
    "\n",
    "# function call\n",
    "# 3-4-5 triangle\n",
    "print(hypotenuse(3, 4))\n",
    "  \n",
    "# 7-24-25 triangle\n",
    "print(hypotenuse(7, 24))\n",
    "\n",
    "# 8-15-17 triangle\n",
    "print(hypotenuse(8, 15))"
   ]
  },
  {
   "cell_type": "code",
   "execution_count": null,
   "id": "sonic-above",
   "metadata": {},
   "outputs": [],
   "source": []
  }
 ],
 "metadata": {
  "kernelspec": {
   "display_name": "Python 3 (ipykernel)",
   "language": "python",
   "name": "python3"
  },
  "language_info": {
   "codemirror_mode": {
    "name": "ipython",
    "version": 3
   },
   "file_extension": ".py",
   "mimetype": "text/x-python",
   "name": "python",
   "nbconvert_exporter": "python",
   "pygments_lexer": "ipython3",
   "version": "3.13.1"
  }
 },
 "nbformat": 4,
 "nbformat_minor": 5
}
