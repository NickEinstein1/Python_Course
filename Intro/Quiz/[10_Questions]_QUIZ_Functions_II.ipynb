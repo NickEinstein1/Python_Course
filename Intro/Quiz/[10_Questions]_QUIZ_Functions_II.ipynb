{
 "cells": [
  {
   "cell_type": "markdown",
   "id": "artificial-counter",
   "metadata": {},
   "source": [
    "## [10 Questions] QUIZ - Functions II"
   ]
  },
  {
   "cell_type": "markdown",
   "id": "affecting-bibliography",
   "metadata": {},
   "source": [
    "**Q 1:**\n",
    "\n",
    "Many times, we need input from the user.\n",
    "\n",
    "Define a generic function to ask for user input.\n",
    "\n",
    "Function name will be **get_input**.\n",
    "\n",
    "Function will take the input text as parameter and use it while asking for input from the user."
   ]
  },
  {
   "cell_type": "code",
   "execution_count": 2,
   "id": "extreme-comfort",
   "metadata": {},
   "outputs": [],
   "source": [
    "# S 1:\n",
    "\n",
    "\n"
   ]
  },
  {
   "cell_type": "code",
   "execution_count": 3,
   "id": "cognitive-sweet",
   "metadata": {},
   "outputs": [
    {
     "name": "stdin",
     "output_type": "stream",
     "text": [
      "Please enter a number:  56\n"
     ]
    },
    {
     "name": "stdout",
     "output_type": "stream",
     "text": [
      "56\n"
     ]
    }
   ],
   "source": [
    "# Ask for an integer\n",
    "\n",
    "number = get_input(\"Please enter a number: \")\n",
    "print(number)"
   ]
  },
  {
   "cell_type": "code",
   "execution_count": 5,
   "id": "ecological-wesley",
   "metadata": {},
   "outputs": [
    {
     "name": "stdin",
     "output_type": "stream",
     "text": [
      "Please enter month name:  June\n"
     ]
    },
    {
     "data": {
      "text/plain": [
       "'June'"
      ]
     },
     "execution_count": 5,
     "metadata": {},
     "output_type": "execute_result"
    }
   ],
   "source": [
    "# Ask for the month name\n",
    "\n",
    "month = get_input(\"Please enter month name: \")\n",
    "month"
   ]
  },
  {
   "cell_type": "code",
   "execution_count": 6,
   "id": "inner-smooth",
   "metadata": {},
   "outputs": [
    {
     "data": {
      "text/plain": [
       "str"
      ]
     },
     "execution_count": 6,
     "metadata": {},
     "output_type": "execute_result"
    }
   ],
   "source": [
    "# Let's see return type from get_input function\n",
    "\n",
    "type(month)"
   ]
  },
  {
   "cell_type": "markdown",
   "id": "professional-prime",
   "metadata": {},
   "source": [
    "---"
   ]
  },
  {
   "cell_type": "markdown",
   "id": "continent-milan",
   "metadata": {},
   "source": [
    "**Q 2:**\n",
    "\n",
    "We already know that, get_input function in Question 1 returns str.\n",
    "\n",
    "Now we will define a new function named **is_integer**.\n",
    "\n",
    "It will get a string parameter and will check if its value is integer or not.\n",
    "\n",
    "It will return True if the parameter is integer."
   ]
  },
  {
   "cell_type": "code",
   "execution_count": 7,
   "id": "annoying-netscape",
   "metadata": {},
   "outputs": [],
   "source": [
    "# S 2:\n",
    "\n",
    "\n",
    "    "
   ]
  },
  {
   "cell_type": "code",
   "execution_count": 13,
   "id": "steady-vermont",
   "metadata": {},
   "outputs": [
    {
     "name": "stdin",
     "output_type": "stream",
     "text": [
      "Please enter a number:      8     \n"
     ]
    },
    {
     "data": {
      "text/plain": [
       "True"
      ]
     },
     "execution_count": 13,
     "metadata": {},
     "output_type": "execute_result"
    }
   ],
   "source": [
    "# let's test is_integer function\n",
    "\n",
    "# first get an input from the user\n",
    "input_text = \"Please enter a number: \"\n",
    "user_input = get_input(input_text)\n",
    "\n",
    "# check if the input is integer\n",
    "is_input_integer = is_integer(user_input)\n",
    "\n",
    "# Let's the result\n",
    "is_input_integer"
   ]
  },
  {
   "cell_type": "code",
   "execution_count": 14,
   "id": "differential-sleeve",
   "metadata": {},
   "outputs": [
    {
     "name": "stdin",
     "output_type": "stream",
     "text": [
      "Please enter a number:  45\n"
     ]
    },
    {
     "name": "stdout",
     "output_type": "stream",
     "text": [
      "True\n"
     ]
    }
   ],
   "source": [
    "# in one line -> composition\n",
    "\n",
    "print(is_integer(get_input(\"Please enter a number: \")))"
   ]
  },
  {
   "cell_type": "markdown",
   "id": "behind-radio",
   "metadata": {},
   "source": [
    "---"
   ]
  },
  {
   "cell_type": "markdown",
   "id": "intellectual-variety",
   "metadata": {},
   "source": [
    "**Q 3:**\n",
    "\n",
    "Get an integer from the user, using functions in Q1 and Q2.\n",
    "\n",
    "Which will guarantee that it is an integer.\n",
    "\n",
    "If the input is not integer, ask recursively.\n",
    "\n",
    "Function name will be **get_integer**.\n",
    "\n",
    "Hints:\n",
    "* Use Recursion"
   ]
  },
  {
   "cell_type": "code",
   "execution_count": 15,
   "id": "operational-valuation",
   "metadata": {},
   "outputs": [],
   "source": [
    "# S 3:\n",
    "\n",
    "\n"
   ]
  },
  {
   "cell_type": "code",
   "execution_count": 16,
   "id": "pleasant-parts",
   "metadata": {},
   "outputs": [
    {
     "name": "stdin",
     "output_type": "stream",
     "text": [
      "please enter an integer:  sdf\n",
      "please enter an integer:  asfd\n",
      "please enter an integer:  45455dff\n",
      "please enter an integer:    5656 \n"
     ]
    },
    {
     "name": "stdout",
     "output_type": "stream",
     "text": [
      "5656\n"
     ]
    }
   ],
   "source": [
    "num = get_integer(\"please enter an integer: \")\n",
    "print(num)"
   ]
  },
  {
   "cell_type": "code",
   "execution_count": 17,
   "id": "blind-mechanics",
   "metadata": {},
   "outputs": [
    {
     "name": "stdin",
     "output_type": "stream",
     "text": [
      "please enter an integer:  asfsdf\n",
      "please enter an integer:  qdfd\n",
      "please enter an integer:  frtrt\n",
      "please enter an integer:  asfdsd\n",
      "please enter an integer:  45asfd\n",
      "please enter an integer:  78,\n",
      "please enter an integer:  95\n"
     ]
    },
    {
     "data": {
      "text/plain": [
       "95"
      ]
     },
     "execution_count": 17,
     "metadata": {},
     "output_type": "execute_result"
    }
   ],
   "source": [
    "get_integer(\"please enter an integer: \")"
   ]
  },
  {
   "cell_type": "markdown",
   "id": "published-evanescence",
   "metadata": {},
   "source": [
    "---"
   ]
  },
  {
   "cell_type": "markdown",
   "id": "center-patent",
   "metadata": {},
   "source": [
    "**Q 4:**\n",
    "\n",
    "Define a function named **day_of_week**.\n",
    "\n",
    "The function will ask the user to enter an integer between 1-7.\n",
    "\n",
    "And it will decide the day name according to that number.\n",
    "\n",
    "Hints:\n",
    "* use functions in Q3\n",
    "* check for number being in range 1-7"
   ]
  },
  {
   "cell_type": "code",
   "execution_count": 18,
   "id": "mobile-excerpt",
   "metadata": {},
   "outputs": [],
   "source": [
    "# S 4:\n",
    "\n",
    "    \n"
   ]
  },
  {
   "cell_type": "code",
   "execution_count": 20,
   "id": "human-sentence",
   "metadata": {},
   "outputs": [
    {
     "name": "stdin",
     "output_type": "stream",
     "text": [
      "Please enter an day number (1-7):  asdf\n",
      "Please enter an day number (1-7):  asf\n",
      "Please enter an day number (1-7):  rtrt\n",
      "Please enter an day number (1-7):  56f\n",
      "Please enter an day number (1-7):  7\n"
     ]
    },
    {
     "data": {
      "text/plain": [
       "'Sunday'"
      ]
     },
     "execution_count": 20,
     "metadata": {},
     "output_type": "execute_result"
    }
   ],
   "source": [
    "# now let's the benefits of functions\n",
    "\n",
    "day_of_week()"
   ]
  },
  {
   "cell_type": "markdown",
   "id": "everyday-mistress",
   "metadata": {},
   "source": [
    "---"
   ]
  },
  {
   "cell_type": "markdown",
   "id": "continuous-parallel",
   "metadata": {},
   "source": [
    "**Q 5:**\n",
    "\n",
    "Copy the functions below and examine the **Stack Trace**.\n",
    "\n",
    "Stack Trace means the execution order of functions.\n",
    "\n",
    "Make sure you understand the execution order.\n",
    "\n",
    "<pre>\n",
    "def n(c):\n",
    "    power = m(c, c)\n",
    "    print(c, power)\n",
    "    return power\n",
    "        \n",
    "def m(x, y):\n",
    "    x = x + 2\n",
    "    return x**y\n",
    "\n",
    "def p(x, y, z):\n",
    "    summation = x + y + z\n",
    "    sqr = n(summation)**2\n",
    "    return sqr\n",
    "\n",
    "a = 1\n",
    "b = a + 1\n",
    "print(p(a, b+1, a+b)) \n",
    "</pre>\n"
   ]
  },
  {
   "cell_type": "code",
   "execution_count": 22,
   "id": "mobile-mathematics",
   "metadata": {},
   "outputs": [
    {
     "name": "stdout",
     "output_type": "stream",
     "text": [
      "7 4782969\n",
      "22876792454961\n"
     ]
    }
   ],
   "source": [
    "# S 5:\n",
    "\n",
    "\n"
   ]
  },
  {
   "cell_type": "markdown",
   "id": "ignored-vessel",
   "metadata": {},
   "source": [
    "**Stack Trace:**\n",
    "\n",
    "............."
   ]
  },
  {
   "cell_type": "markdown",
   "id": "shaped-heritage",
   "metadata": {},
   "source": [
    "----"
   ]
  },
  {
   "cell_type": "markdown",
   "id": "severe-rabbit",
   "metadata": {},
   "source": [
    "**Q 6:**\n",
    "\n",
    "Define a function named **arithmetic_mean**.\n",
    "\n",
    "The function will get parameters that are unknown. (unknown parameters)\n",
    "\n",
    "Namely, the number of parameters is not known in advance.\n",
    "\n",
    "The function will print the arithmetic mean of these parameters.\n",
    "\n",
    "**Hints:**\n",
    "* *args\n",
    "* Arithmetic Mean = Summation / Number of Elements\n",
    "* sum()\n",
    "* len()"
   ]
  },
  {
   "cell_type": "code",
   "execution_count": 23,
   "id": "present-agenda",
   "metadata": {},
   "outputs": [],
   "source": [
    "# S 6:\n",
    "\n",
    "\n",
    "    "
   ]
  },
  {
   "cell_type": "code",
   "execution_count": 24,
   "id": "threatened-better",
   "metadata": {},
   "outputs": [
    {
     "name": "stdout",
     "output_type": "stream",
     "text": [
      "6.0\n"
     ]
    }
   ],
   "source": [
    "mean = arithmetic_mean(2, 5, 11)\n",
    "print(mean)"
   ]
  },
  {
   "cell_type": "code",
   "execution_count": 25,
   "id": "awful-resident",
   "metadata": {},
   "outputs": [
    {
     "data": {
      "text/plain": [
       "30.0"
      ]
     },
     "execution_count": 25,
     "metadata": {},
     "output_type": "execute_result"
    }
   ],
   "source": [
    "arithmetic_mean(10, 30, 60, 20)"
   ]
  },
  {
   "cell_type": "markdown",
   "id": "nominated-variation",
   "metadata": {},
   "source": [
    "---"
   ]
  },
  {
   "cell_type": "markdown",
   "id": "revolutionary-black",
   "metadata": {},
   "source": [
    "**Q 7:**\n",
    "\n",
    "Define a function named **area_of_circle**.\n",
    "\n",
    "It will take the radius as parameter and calcuates the area of the circle.\n",
    "\n",
    "The function body should be one line of code.\n",
    "\n",
    "**Hints:**\n",
    "\n",
    "$ Area Of Circle = \\pi * r^2$"
   ]
  },
  {
   "cell_type": "code",
   "execution_count": 26,
   "id": "aggressive-marker",
   "metadata": {},
   "outputs": [],
   "source": [
    "# S 7:\n",
    "\n",
    "\n"
   ]
  },
  {
   "cell_type": "code",
   "execution_count": 27,
   "id": "extra-vocabulary",
   "metadata": {},
   "outputs": [
    {
     "data": {
      "text/plain": [
       "314.1592653589793"
      ]
     },
     "execution_count": 27,
     "metadata": {},
     "output_type": "execute_result"
    }
   ],
   "source": [
    "area_of_circle(10)"
   ]
  },
  {
   "cell_type": "markdown",
   "id": "white-confidentiality",
   "metadata": {},
   "source": [
    "---"
   ]
  },
  {
   "cell_type": "markdown",
   "id": "fixed-background",
   "metadata": {},
   "source": [
    "**Q 8:**\n",
    "\n",
    "Define a function named **perimeter_of_circle**.\n",
    "\n",
    "It will take the radius as parameter and calcuates the perimeter of the circle.\n",
    "\n",
    "The function body should be one line of code.\n",
    "\n",
    "**Hints:**\n",
    "\n",
    "$ Perimeter Of Circle = 2 * \\pi * r$"
   ]
  },
  {
   "cell_type": "code",
   "execution_count": 28,
   "id": "rough-apple",
   "metadata": {},
   "outputs": [],
   "source": [
    "# S 8:\n",
    "\n",
    "\n"
   ]
  },
  {
   "cell_type": "code",
   "execution_count": 29,
   "id": "valid-camel",
   "metadata": {},
   "outputs": [
    {
     "data": {
      "text/plain": [
       "62.83185307179586"
      ]
     },
     "execution_count": 29,
     "metadata": {},
     "output_type": "execute_result"
    }
   ],
   "source": [
    "perimeter_of_circle(10)"
   ]
  },
  {
   "cell_type": "markdown",
   "id": "martial-costa",
   "metadata": {},
   "source": [
    "---"
   ]
  },
  {
   "cell_type": "markdown",
   "id": "intermediate-investing",
   "metadata": {},
   "source": [
    "**Q 9:**\n",
    "\n",
    "Define a function named **area_of_rectangle**.\n",
    "\n",
    "The parameters will be length (l) and width (w).\n",
    "\n",
    "The function body should be one line of code.\n",
    "\n",
    "**Hints:**\n",
    "\n",
    "$ Area Of Rectangle = l * w$"
   ]
  },
  {
   "cell_type": "code",
   "execution_count": 30,
   "id": "damaged-filename",
   "metadata": {},
   "outputs": [],
   "source": [
    "# S 9:\n",
    "\n",
    "\n"
   ]
  },
  {
   "cell_type": "code",
   "execution_count": 31,
   "id": "equal-substitute",
   "metadata": {},
   "outputs": [
    {
     "data": {
      "text/plain": [
       "60"
      ]
     },
     "execution_count": 31,
     "metadata": {},
     "output_type": "execute_result"
    }
   ],
   "source": [
    "area_of_rectangle(5, 12)"
   ]
  },
  {
   "cell_type": "markdown",
   "id": "cultural-example",
   "metadata": {},
   "source": [
    "---"
   ]
  },
  {
   "cell_type": "markdown",
   "id": "isolated-brooks",
   "metadata": {},
   "source": [
    "**Q 10:**\n",
    "\n",
    "Define a function to calculate the surface area of a right cylinder.\n",
    "\n",
    "The name will be **area_of_cylinder** and it will take two parameters.\n",
    "\n",
    "The first parameter r will be the radius of top and base circles.\n",
    "\n",
    "The seconda parameter h will be the hight of cylinder.\n",
    "\n",
    "**Hints:**\n",
    "* cylinder is a combination of two circles and a rectangle\n",
    "* use functions from previous questions to calculate the areas"
   ]
  },
  {
   "cell_type": "code",
   "execution_count": 33,
   "id": "necessary-panic",
   "metadata": {},
   "outputs": [],
   "source": [
    "# S 10:\n",
    "\n",
    "\n"
   ]
  },
  {
   "cell_type": "code",
   "execution_count": 34,
   "id": "aggregate-justice",
   "metadata": {},
   "outputs": [
    {
     "data": {
      "text/plain": [
       "753.9822368615504"
      ]
     },
     "execution_count": 34,
     "metadata": {},
     "output_type": "execute_result"
    }
   ],
   "source": [
    "area_of_cylinder(10, 2)"
   ]
  },
  {
   "cell_type": "code",
   "execution_count": null,
   "id": "smaller-learning",
   "metadata": {},
   "outputs": [],
   "source": []
  }
 ],
 "metadata": {
  "kernelspec": {
   "display_name": "Python 3",
   "language": "python",
   "name": "python3"
  },
  "language_info": {
   "codemirror_mode": {
    "name": "ipython",
    "version": 3
   },
   "file_extension": ".py",
   "mimetype": "text/x-python",
   "name": "python",
   "nbconvert_exporter": "python",
   "pygments_lexer": "ipython3",
   "version": "3.8.8"
  }
 },
 "nbformat": 4,
 "nbformat_minor": 5
}
