{
 "cells": [
  {
   "cell_type": "markdown",
   "id": "hazardous-advice",
   "metadata": {},
   "source": [
    "## [10 Questions] QUIZ - List"
   ]
  },
  {
   "cell_type": "markdown",
   "id": "afraid-carbon",
   "metadata": {},
   "source": [
    "**Q 1:**\n",
    "\n",
    "Define a function named **sum_of_list**.\n",
    "\n",
    "The parameter will be a list.\n",
    "\n",
    "The function will add all the elements in the list and return the summation result.\n",
    "\n",
    "<pre>\n",
    "Expected Output:\n",
    "nums = [1, 2, 3, 4, 5] \n",
    "sum_of_list(nums) -> 15\n",
    "</pre>"
   ]
  },
  {
   "cell_type": "code",
   "execution_count": 1,
   "id": "another-terminology",
   "metadata": {},
   "outputs": [],
   "source": [
    "# S 1:\n",
    "\n",
    "\n",
    "    "
   ]
  },
  {
   "cell_type": "code",
   "execution_count": 2,
   "id": "backed-night",
   "metadata": {},
   "outputs": [
    {
     "name": "stdout",
     "output_type": "stream",
     "text": [
      "15\n"
     ]
    }
   ],
   "source": [
    "nums = [1, 2, 3, 4, 5] \n",
    "\n",
    "summation = sum_of_list(nums)\n",
    "\n",
    "print(summation)"
   ]
  },
  {
   "cell_type": "code",
   "execution_count": 3,
   "id": "complete-intro",
   "metadata": {},
   "outputs": [
    {
     "name": "stdout",
     "output_type": "stream",
     "text": [
      "600\n"
     ]
    }
   ],
   "source": [
    "nums = [10, 20, 30, 40, 500] \n",
    "\n",
    "summation = sum_of_list(nums)\n",
    "\n",
    "print(summation)"
   ]
  },
  {
   "cell_type": "markdown",
   "id": "innovative-highland",
   "metadata": {},
   "source": [
    "---"
   ]
  },
  {
   "cell_type": "markdown",
   "id": "charming-weather",
   "metadata": {},
   "source": [
    "**Q 2:**\n",
    "\n",
    "Define a function named **two_levels_sum**.\n",
    "\n",
    "The parameter will be a list of two levels (nested list).\n",
    "\n",
    "The function will add all the elements including the nested lists and return the summation result.\n",
    "\n",
    "**Hints:**\n",
    "* isdigit()\n",
    "* type()\n",
    "\n",
    "<pre>\n",
    "Expected Output:\n",
    "a_list = [[5, 8], [1, 4, 7], [10], 3]\n",
    "summation = two_levels_sum(a_list)  -> 38\n",
    "</pre>"
   ]
  },
  {
   "cell_type": "code",
   "execution_count": 4,
   "id": "technological-confidence",
   "metadata": {},
   "outputs": [],
   "source": [
    "# S 2:\n",
    "\n",
    "\n",
    "    "
   ]
  },
  {
   "cell_type": "code",
   "execution_count": 5,
   "id": "underlying-testing",
   "metadata": {},
   "outputs": [
    {
     "name": "stdout",
     "output_type": "stream",
     "text": [
      "38\n"
     ]
    }
   ],
   "source": [
    "a_list = [[5, 8], [1, 4, 7], [10], 3]\n",
    "\n",
    "summation = two_levels_sum(a_list)\n",
    "\n",
    "print(summation)"
   ]
  },
  {
   "cell_type": "code",
   "execution_count": 6,
   "id": "useful-richmond",
   "metadata": {},
   "outputs": [
    {
     "name": "stdout",
     "output_type": "stream",
     "text": [
      "38\n"
     ]
    }
   ],
   "source": [
    "a_list = [[5, 8], [1, 4, 7], [10], 3, 'a']\n",
    "\n",
    "summation = two_levels_sum(a_list)\n",
    "\n",
    "print(summation)"
   ]
  },
  {
   "cell_type": "code",
   "execution_count": 7,
   "id": "qualified-composition",
   "metadata": {},
   "outputs": [
    {
     "name": "stdout",
     "output_type": "stream",
     "text": [
      "42\n"
     ]
    }
   ],
   "source": [
    "a_list = [[1, 2, 3], [1, 2], 3, [10, 20]]\n",
    "\n",
    "summation = two_levels_sum(a_list)\n",
    "\n",
    "print(summation)"
   ]
  },
  {
   "cell_type": "markdown",
   "id": "metallic-administrator",
   "metadata": {},
   "source": [
    "---"
   ]
  },
  {
   "cell_type": "markdown",
   "id": "opponent-input",
   "metadata": {},
   "source": [
    "**Q 3:**\n",
    "\n",
    "The function you defined in Q2 can only add lists of two levels.\n",
    "\n",
    "Now we will convert this into a generic function that can take any levels of nested lists.\n",
    "\n",
    "Function name will be **nested_sum**.\n",
    "\n",
    "It will add all the elements of all lists including nested lists and return the overall summation result.\n",
    "\n",
    "\n",
    "**Hints:**\n",
    "* Recursive\n",
    "* isdigit()\n",
    "* type()\n",
    "\n",
    "<pre>\n",
    "Expected Output:\n",
    "a_list = [[5, 8], [1, 4, 7, [8, 2]], [10, [-1, 2]], 3]\n",
    "summation = nested_sum(a_list)  -> 49\n",
    "</pre>"
   ]
  },
  {
   "cell_type": "code",
   "execution_count": 11,
   "id": "beneficial-bradley",
   "metadata": {},
   "outputs": [],
   "source": [
    "# S 3:\n",
    "\n",
    "\n"
   ]
  },
  {
   "cell_type": "code",
   "execution_count": 16,
   "id": "injured-girlfriend",
   "metadata": {},
   "outputs": [
    {
     "name": "stdout",
     "output_type": "stream",
     "text": [
      "49\n"
     ]
    }
   ],
   "source": [
    "a_list = [[5, 8], [1, 4, 7, [8, 2]], [10, [-1, 2]], 3]\n",
    "\n",
    "summation = nested_sum(a_list)\n",
    "\n",
    "print(summation)"
   ]
  },
  {
   "cell_type": "code",
   "execution_count": 15,
   "id": "boxed-fundamentals",
   "metadata": {},
   "outputs": [
    {
     "name": "stdout",
     "output_type": "stream",
     "text": [
      "57\n"
     ]
    }
   ],
   "source": [
    "a_list = [[-5, [9, 1, [6, 2]], 8], [1, 4, 7, [8, 2]], [10, [-1, 2]], 3]\n",
    "\n",
    "summation = nested_sum(a_list)\n",
    "\n",
    "print(summation)"
   ]
  },
  {
   "cell_type": "markdown",
   "id": "nearby-education",
   "metadata": {},
   "source": [
    "---"
   ]
  },
  {
   "cell_type": "markdown",
   "id": "endangered-particle",
   "metadata": {},
   "source": [
    "**Q 4:**\n",
    "\n",
    "Define a function named **squares**.\n",
    "\n",
    "It will calculate the square of each item in the list and append it to a new list.\n",
    "\n",
    "It will return the new list of squares.\n",
    "\n",
    "<pre>\n",
    "numbers = [1,2,3,4,5]\n",
    "squares(numbers)  ->   [1, 4, 9, 16, 25]\n",
    "\n",
    "</pre>"
   ]
  },
  {
   "cell_type": "code",
   "execution_count": 17,
   "id": "future-forge",
   "metadata": {},
   "outputs": [],
   "source": [
    "# S 4:\n",
    "\n",
    "\n"
   ]
  },
  {
   "cell_type": "code",
   "execution_count": 19,
   "id": "rising-warehouse",
   "metadata": {},
   "outputs": [
    {
     "name": "stdout",
     "output_type": "stream",
     "text": [
      "[1, 4, 9, 16, 25]\n"
     ]
    }
   ],
   "source": [
    "numbers = [1,2,3,4,5]\n",
    "\n",
    "result = squares(numbers)\n",
    "\n",
    "print(result)"
   ]
  },
  {
   "cell_type": "markdown",
   "id": "conceptual-adelaide",
   "metadata": {},
   "source": [
    "---"
   ]
  },
  {
   "cell_type": "markdown",
   "id": "level-mongolia",
   "metadata": {},
   "source": [
    "**Q 5:**\n",
    "\n",
    "Define a function named **sum_of_squares**.\n",
    "\n",
    "It will calculate the squares of items first and will add them to create items of a new list.\n",
    "\n",
    "Each item in the new list will be the sum of items from the old list starting from index 0 up to the item's index.\n",
    "\n",
    "For example in the new list the item in index 4 is going to be the sum of squares of items at indices 0-1-2-3-4 of parameter list.\n",
    "\n",
    "And it will retun the new list.\n",
    "\n",
    "**Hints:**\n",
    "* use sum_of_list funtion you defined in Q1\n",
    "\n",
    "<pre>\n",
    "a_list = [1,2,3,4,5]\n",
    "result = sum_of_squares(a_list)\n",
    "print(result)\n",
    "\n",
    "Expected Output:\n",
    "[1, 5, 15, 37, 83]\n",
    "</pre>"
   ]
  },
  {
   "cell_type": "code",
   "execution_count": 21,
   "id": "executed-manitoba",
   "metadata": {},
   "outputs": [],
   "source": [
    "# S 5:\n",
    "\n",
    "\n"
   ]
  },
  {
   "cell_type": "code",
   "execution_count": 25,
   "id": "lovely-arizona",
   "metadata": {},
   "outputs": [
    {
     "name": "stdout",
     "output_type": "stream",
     "text": [
      "[1, 5, 15]\n"
     ]
    }
   ],
   "source": [
    "a_list = [1,2,3]\n",
    "\n",
    "result = sum_of_squares(a_list)\n",
    "\n",
    "print(result)"
   ]
  },
  {
   "cell_type": "code",
   "execution_count": 26,
   "id": "educational-intervention",
   "metadata": {},
   "outputs": [
    {
     "name": "stdout",
     "output_type": "stream",
     "text": [
      "[1, 5, 15, 37, 83]\n"
     ]
    }
   ],
   "source": [
    "a_list = [1,2,3,4,5]\n",
    "\n",
    "result = sum_of_squares(a_list)\n",
    "\n",
    "print(result)"
   ]
  },
  {
   "cell_type": "markdown",
   "id": "operating-yukon",
   "metadata": {},
   "source": [
    "---"
   ]
  },
  {
   "cell_type": "markdown",
   "id": "express-michael",
   "metadata": {},
   "source": [
    "**Q 6:**\n",
    "\n",
    "Define a function that return the difference bwtween items at odd indices (1,3,5...) and items at even indices (0,2,4...).\n",
    "\n",
    "The function name will be **odd_even_difference**.\n",
    "\n",
    "**Hints:**\n",
    "* index starts from zero\n",
    "* use lists and indices only\n",
    "* do not use loop\n",
    "* use sum_of_list funtion you defined in Q1\n",
    "\n",
    "<pre>\n",
    "a_list = [1,2,3,4,5,6]\n",
    "diff = odd_even_difference(a_list)\n",
    "print(diff)\n",
    "\n",
    "Expected Output:\n",
    "3\n",
    "</pre>"
   ]
  },
  {
   "cell_type": "code",
   "execution_count": 27,
   "id": "confused-cream",
   "metadata": {},
   "outputs": [],
   "source": [
    "# S 6:\n",
    "\n",
    "\n"
   ]
  },
  {
   "cell_type": "code",
   "execution_count": 28,
   "id": "international-wheel",
   "metadata": {},
   "outputs": [
    {
     "name": "stdout",
     "output_type": "stream",
     "text": [
      "3\n"
     ]
    }
   ],
   "source": [
    "a_list = [1,2,3,4,5,6]\n",
    "\n",
    "diff = odd_even_difference(a_list)\n",
    "\n",
    "print(diff)"
   ]
  },
  {
   "cell_type": "code",
   "execution_count": 29,
   "id": "streaming-settle",
   "metadata": {},
   "outputs": [
    {
     "name": "stdout",
     "output_type": "stream",
     "text": [
      "0\n"
     ]
    }
   ],
   "source": [
    "a_list = [10,10,30,30,500,500]\n",
    "\n",
    "diff = odd_even_difference(a_list)\n",
    "\n",
    "print(diff)"
   ]
  },
  {
   "cell_type": "markdown",
   "id": "incident-occupation",
   "metadata": {},
   "source": [
    "---"
   ]
  },
  {
   "cell_type": "markdown",
   "id": "multiple-rescue",
   "metadata": {},
   "source": [
    "**Q 7:**\n",
    "\n",
    "Define a function that crop the list parameter.\n",
    "\n",
    "The function will be **crop_the_list**.\n",
    "\n",
    "Cropping means remove the first and the last elements from the list.\n",
    "\n",
    "The function will **mutate the originial list parameter** namely it will modify the list in-place.\n",
    "\n",
    "It will not return any value.\n",
    "\n",
    "Test the function and prove it mutates the list which you pass as argument.\n",
    "\n",
    "<pre>    \n",
    "nums = [1,2,3,4,5,6,7]\n",
    "print('the list before passing as parameter:', nums)\n",
    "crop_the_list(nums)\n",
    "print('the list before passing as parameter:', nums)\n",
    "\n",
    "Expected Output:\n",
    "the list before passing as parameter: [1, 2, 3, 4, 5, 6, 7]\n",
    "the list before passing as parameter: [2, 3, 4, 5, 6]\n",
    "</pre>"
   ]
  },
  {
   "cell_type": "code",
   "execution_count": 30,
   "id": "uniform-compression",
   "metadata": {},
   "outputs": [],
   "source": [
    "# S 7:\n",
    "\n",
    "\n"
   ]
  },
  {
   "cell_type": "code",
   "execution_count": 31,
   "id": "powered-sarah",
   "metadata": {},
   "outputs": [
    {
     "name": "stdout",
     "output_type": "stream",
     "text": [
      "the list before passing as parameter: [1, 2, 3, 4, 5, 6, 7]\n",
      "the list before passing as parameter: [2, 3, 4, 5, 6]\n"
     ]
    }
   ],
   "source": [
    "nums = [1,2,3,4,5,6,7]\n",
    "\n",
    "print('the list before passing as parameter:', nums)\n",
    "\n",
    "crop_the_list(nums)\n",
    "\n",
    "print('the list before passing as parameter:', nums)"
   ]
  },
  {
   "cell_type": "markdown",
   "id": "fancy-nelson",
   "metadata": {},
   "source": [
    "---"
   ]
  },
  {
   "cell_type": "markdown",
   "id": "julian-killer",
   "metadata": {},
   "source": [
    "**Q 8:**\n",
    "\n",
    "Define a function named **sort_the_list**.\n",
    "\n",
    "It will take a list and sort type (is_reverse) as parameters.\n",
    "\n",
    "**is_reverse** will be boolean and it will decide if the sort will be ascending or descending. It's default value will be False.\n",
    "* if is_reverse is True -> sort will be descending\n",
    "* if is_reverse is False -> sort will be ascending\n",
    "\n",
    "The function will return the new sorted list.\n",
    "\n",
    "**Hints:**\n",
    "* sorted()\n",
    "* no loops\n",
    "* do not mutate the original list\n",
    "\n",
    "<pre>\n",
    "a = [12, 4, 2, 1, 6, 3, 45]\n",
    "print('a:', a)\n",
    "sorted_a = sort_the_list(a, False)\n",
    "print('sorted - ascending', sorted_a)\n",
    "sorted_a = sort_the_list(a, True)\n",
    "print('sorted - descending', sorted_a)\n",
    "print('a after sort_the_list function call:', a)\n",
    "\n",
    "Expected Output:\n",
    "a: [12, 4, 2, 1, 6, 3, 45]\n",
    "sorted - ascending [1, 2, 3, 4, 6, 12, 45]\n",
    "sorted - descending [45, 12, 6, 4, 3, 2, 1]\n",
    "a after sort_the_list function call: [12, 4, 2, 1, 6, 3, 45]\n",
    "</pre>"
   ]
  },
  {
   "cell_type": "code",
   "execution_count": 33,
   "id": "chinese-offer",
   "metadata": {},
   "outputs": [],
   "source": [
    "# S 8:\n",
    "\n",
    "# First Way\n",
    "\n",
    "\n"
   ]
  },
  {
   "cell_type": "code",
   "execution_count": 34,
   "id": "veterinary-dealer",
   "metadata": {},
   "outputs": [
    {
     "name": "stdout",
     "output_type": "stream",
     "text": [
      "a: [12, 4, 2, 1, 6, 3, 45]\n",
      "sorted - ascending [1, 2, 3, 4, 6, 12, 45]\n",
      "sorted - descending [45, 12, 6, 4, 3, 2, 1]\n",
      "a after sort_the_list function call: [12, 4, 2, 1, 6, 3, 45]\n"
     ]
    }
   ],
   "source": [
    "a = [12, 4, 2, 1, 6, 3, 45]\n",
    "print('a:', a)\n",
    "\n",
    "sorted_a = sort_the_list(a, False)\n",
    "print('sorted - ascending', sorted_a)\n",
    "\n",
    "sorted_a = sort_the_list(a, True)\n",
    "print('sorted - descending', sorted_a)\n",
    "\n",
    "print('a after sort_the_list function call:', a)"
   ]
  },
  {
   "cell_type": "code",
   "execution_count": 35,
   "id": "stuffed-director",
   "metadata": {},
   "outputs": [],
   "source": [
    "# S 8:\n",
    "\n",
    "# Second Way\n",
    "\n",
    "\n"
   ]
  },
  {
   "cell_type": "code",
   "execution_count": 36,
   "id": "exposed-agency",
   "metadata": {},
   "outputs": [
    {
     "name": "stdout",
     "output_type": "stream",
     "text": [
      "a: [12, 4, 2, 1, 6, 3, 45]\n",
      "sorted - ascending [1, 2, 3, 4, 6, 12, 45]\n",
      "sorted - descending [45, 12, 6, 4, 3, 2, 1]\n",
      "a after sort_the_list function call: [12, 4, 2, 1, 6, 3, 45]\n"
     ]
    }
   ],
   "source": [
    "a = [12, 4, 2, 1, 6, 3, 45]\n",
    "print('a:', a)\n",
    "\n",
    "sorted_a = sort_the_list(a, False)\n",
    "print('sorted - ascending', sorted_a)\n",
    "\n",
    "sorted_a = sort_the_list(a, True)\n",
    "print('sorted - descending', sorted_a)\n",
    "\n",
    "print('a after sort_the_list function call:', a)"
   ]
  },
  {
   "cell_type": "markdown",
   "id": "fuzzy-agreement",
   "metadata": {},
   "source": [
    "---"
   ]
  },
  {
   "cell_type": "markdown",
   "id": "optimum-mentor",
   "metadata": {},
   "source": [
    "**Q 9:**\n",
    "\n",
    "The Consecutive Numbers in Math are actually Lists in Python.\n",
    "\n",
    "**Gauss' Method for Summing Consecutive Numbers** is a method that gives you the summation of numbers.\n",
    "\n",
    "And that's how Gauss' Method works:\n",
    "* First it sorts the list in ascending order\n",
    "* Then sorts the list in descending order\n",
    "* Adds the items in both lists at the same index\n",
    "* Divides the overall summation by 2 (because each element is written 2 times)\n",
    "\n",
    "Example: Sum of all integers from 1 to 10.\n",
    "\n",
    "<pre>\n",
    "1   2   3   4   5   6   7   8   9   10\n",
    "10  9   8   7   6   5   4   3   2   1\n",
    "+   +   +   +   +   +   +   +   +   +\n",
    "11  11  11  11  11  11  11  11  11  11    (pairwise sum)\n",
    "\n",
    "Summation = 11 * 10\n",
    "Result = Summation / 2\n",
    "</pre>\n",
    "\n",
    "In this question you are going to sum all the number starting from 2 up to 100 with step size 3.\n",
    "\n",
    "You should use Gauss' Method in Python to calculate the overral sum.\n",
    "\n",
    "The function name will be **gauss** and the parameters and default values will be:\n",
    "* start -> 1\n",
    "* end -> 100\n",
    "* step_size -> 2\n",
    "\n",
    "**Hints:**\n",
    "* use range() to create the list\n",
    "\n",
    "<pre>\n",
    "conseq_sum = gauss(2, 100, 3)\n",
    "conseq_sum\n",
    "\n",
    "Expected Output:\n",
    "1650.0\n",
    "</pre>"
   ]
  },
  {
   "cell_type": "code",
   "execution_count": 37,
   "id": "printable-publicity",
   "metadata": {},
   "outputs": [],
   "source": [
    "# S 9:\n",
    "\n",
    "# First Way\n",
    "# The long way\n",
    "\n",
    "      \n",
    "    "
   ]
  },
  {
   "cell_type": "code",
   "execution_count": 38,
   "id": "pregnant-child",
   "metadata": {},
   "outputs": [
    {
     "data": {
      "text/plain": [
       "45.0"
      ]
     },
     "execution_count": 38,
     "metadata": {},
     "output_type": "execute_result"
    }
   ],
   "source": [
    "conseq_sum = gauss(1, 10, 1)\n",
    "conseq_sum"
   ]
  },
  {
   "cell_type": "code",
   "execution_count": 39,
   "id": "premier-position",
   "metadata": {},
   "outputs": [
    {
     "data": {
      "text/plain": [
       "1650.0"
      ]
     },
     "execution_count": 39,
     "metadata": {},
     "output_type": "execute_result"
    }
   ],
   "source": [
    "conseq_sum = gauss(2, 100, 3)\n",
    "conseq_sum"
   ]
  },
  {
   "cell_type": "code",
   "execution_count": 50,
   "id": "initial-prompt",
   "metadata": {},
   "outputs": [],
   "source": [
    "# S 9:\n",
    "\n",
    "# Second Way\n",
    "# True Gaussian Way\n",
    "\n",
    "\n",
    "        "
   ]
  },
  {
   "cell_type": "code",
   "execution_count": 41,
   "id": "incorporate-hampshire",
   "metadata": {},
   "outputs": [],
   "source": [
    "my_list = list(range(1, 10, 1))"
   ]
  },
  {
   "cell_type": "code",
   "execution_count": 42,
   "id": "suspended-discovery",
   "metadata": {},
   "outputs": [
    {
     "data": {
      "text/plain": [
       "10"
      ]
     },
     "execution_count": 42,
     "metadata": {},
     "output_type": "execute_result"
    }
   ],
   "source": [
    "my_list[0] + my_list[-1]"
   ]
  },
  {
   "cell_type": "code",
   "execution_count": 44,
   "id": "timely-clock",
   "metadata": {},
   "outputs": [
    {
     "data": {
      "text/plain": [
       "10"
      ]
     },
     "execution_count": 44,
     "metadata": {},
     "output_type": "execute_result"
    }
   ],
   "source": [
    "my_list[1] + my_list[-2]"
   ]
  },
  {
   "cell_type": "code",
   "execution_count": 45,
   "id": "finite-ocean",
   "metadata": {},
   "outputs": [
    {
     "data": {
      "text/plain": [
       "10"
      ]
     },
     "execution_count": 45,
     "metadata": {},
     "output_type": "execute_result"
    }
   ],
   "source": [
    "my_list[2] + my_list[-3]"
   ]
  },
  {
   "cell_type": "code",
   "execution_count": 51,
   "id": "offensive-weight",
   "metadata": {},
   "outputs": [
    {
     "data": {
      "text/plain": [
       "45.0"
      ]
     },
     "execution_count": 51,
     "metadata": {},
     "output_type": "execute_result"
    }
   ],
   "source": [
    "conseq_sum = true_gaussian(1, 10, 1)\n",
    "conseq_sum"
   ]
  },
  {
   "cell_type": "code",
   "execution_count": 52,
   "id": "surface-flashing",
   "metadata": {},
   "outputs": [
    {
     "data": {
      "text/plain": [
       "1650.0"
      ]
     },
     "execution_count": 52,
     "metadata": {},
     "output_type": "execute_result"
    }
   ],
   "source": [
    "conseq_sum = true_gaussian(2, 100, 3)\n",
    "conseq_sum"
   ]
  },
  {
   "cell_type": "markdown",
   "id": "representative-mathematics",
   "metadata": {},
   "source": [
    "---"
   ]
  },
  {
   "cell_type": "markdown",
   "id": "protected-mystery",
   "metadata": {},
   "source": [
    "**Q 10:**\n",
    "\n",
    "Define a function to check if a given list is sorted in descending order or not.\n",
    "\n",
    "The function name will be **is_it_sorted_descending**.\n",
    "\n",
    "It will return True if the list items are in descending order, False otherwise.\n",
    "\n",
    "**Hints:**\n",
    "* solve this questions with 4 different ways :)\n",
    "\n",
    "<pre>\n",
    "a_list = [2, 3, 4, 7]\n",
    "is_it_sorted_descending(a_list)\n",
    "Expected Output: False\n",
    "\n",
    "a_list = [7, 7, 4, 3, 2, 1, 1]\n",
    "is_it_sorted_descending(a_list)\n",
    "Expected Output: True\n",
    "\n",
    "a_list = ['a', 'b', 'c', 'd']\n",
    "is_it_sorted_descending(a_list)\n",
    "Expected Output: False\n",
    "\n",
    "a_list = ['d', 'c', 'b', 'a']\n",
    "is_it_sorted_descending(a_list)\n",
    "Expected Output: True\n",
    "</pre>"
   ]
  },
  {
   "cell_type": "code",
   "execution_count": 53,
   "id": "fiscal-transcript",
   "metadata": {},
   "outputs": [],
   "source": [
    "# S 10:\n",
    "\n",
    "# Way 1:\n",
    "# Nested Loops\n",
    "# Least Pythonic\n",
    "\n",
    "\n"
   ]
  },
  {
   "cell_type": "code",
   "execution_count": 54,
   "id": "smaller-deficit",
   "metadata": {},
   "outputs": [
    {
     "data": {
      "text/plain": [
       "False"
      ]
     },
     "execution_count": 54,
     "metadata": {},
     "output_type": "execute_result"
    }
   ],
   "source": [
    "a_list = [2, 7, 3, 4]\n",
    "is_it_sorted_descending(a_list)"
   ]
  },
  {
   "cell_type": "code",
   "execution_count": 55,
   "id": "narrative-garden",
   "metadata": {},
   "outputs": [
    {
     "data": {
      "text/plain": [
       "False"
      ]
     },
     "execution_count": 55,
     "metadata": {},
     "output_type": "execute_result"
    }
   ],
   "source": [
    "a_list = [2, 3, 4, 7]\n",
    "is_it_sorted_descending(a_list)"
   ]
  },
  {
   "cell_type": "code",
   "execution_count": 56,
   "id": "liberal-handbook",
   "metadata": {},
   "outputs": [
    {
     "data": {
      "text/plain": [
       "True"
      ]
     },
     "execution_count": 56,
     "metadata": {},
     "output_type": "execute_result"
    }
   ],
   "source": [
    "a_list = [7, 4, 3, 2]\n",
    "is_it_sorted_descending(a_list)"
   ]
  },
  {
   "cell_type": "code",
   "execution_count": 57,
   "id": "mediterranean-province",
   "metadata": {},
   "outputs": [
    {
     "data": {
      "text/plain": [
       "True"
      ]
     },
     "execution_count": 57,
     "metadata": {},
     "output_type": "execute_result"
    }
   ],
   "source": [
    "a_list = [7, 7, 4, 3, 2, 1, 1]\n",
    "is_it_sorted_descending(a_list)"
   ]
  },
  {
   "cell_type": "code",
   "execution_count": 58,
   "id": "primary-nylon",
   "metadata": {},
   "outputs": [
    {
     "data": {
      "text/plain": [
       "False"
      ]
     },
     "execution_count": 58,
     "metadata": {},
     "output_type": "execute_result"
    }
   ],
   "source": [
    "a_list = ['a', 'd', 'b', 'c']\n",
    "is_it_sorted_descending(a_list)"
   ]
  },
  {
   "cell_type": "code",
   "execution_count": 59,
   "id": "listed-method",
   "metadata": {},
   "outputs": [
    {
     "data": {
      "text/plain": [
       "False"
      ]
     },
     "execution_count": 59,
     "metadata": {},
     "output_type": "execute_result"
    }
   ],
   "source": [
    "a_list = ['a', 'b', 'c', 'd']\n",
    "is_it_sorted_descending(a_list)"
   ]
  },
  {
   "cell_type": "code",
   "execution_count": 60,
   "id": "labeled-practice",
   "metadata": {},
   "outputs": [
    {
     "data": {
      "text/plain": [
       "True"
      ]
     },
     "execution_count": 60,
     "metadata": {},
     "output_type": "execute_result"
    }
   ],
   "source": [
    "a_list = ['d', 'c', 'b', 'a']\n",
    "is_it_sorted_descending(a_list)"
   ]
  },
  {
   "cell_type": "code",
   "execution_count": 64,
   "id": "dependent-courtesy",
   "metadata": {},
   "outputs": [],
   "source": [
    "# S 10:\n",
    "\n",
    "# Way 2:\n",
    "# Check for Pair differences\n",
    "# More Pythonic\n",
    "\n",
    "\n"
   ]
  },
  {
   "cell_type": "code",
   "execution_count": 66,
   "id": "suspected-ocean",
   "metadata": {},
   "outputs": [
    {
     "data": {
      "text/plain": [
       "False"
      ]
     },
     "execution_count": 66,
     "metadata": {},
     "output_type": "execute_result"
    }
   ],
   "source": [
    "a_list = [2, 7, 3, 4]\n",
    "is_it_sorted_descending_2(a_list)"
   ]
  },
  {
   "cell_type": "code",
   "execution_count": 67,
   "id": "urban-perspective",
   "metadata": {},
   "outputs": [
    {
     "data": {
      "text/plain": [
       "True"
      ]
     },
     "execution_count": 67,
     "metadata": {},
     "output_type": "execute_result"
    }
   ],
   "source": [
    "a_list = [7, 4, 3, 2]\n",
    "is_it_sorted_descending_2(a_list)"
   ]
  },
  {
   "cell_type": "code",
   "execution_count": 68,
   "id": "palestinian-design",
   "metadata": {},
   "outputs": [],
   "source": [
    "# S 10:\n",
    "\n",
    "# Way 3:\n",
    "# Check with sorted list\n",
    "# Pythonic\n",
    "\n",
    "\n"
   ]
  },
  {
   "cell_type": "code",
   "execution_count": 70,
   "id": "historical-recipient",
   "metadata": {},
   "outputs": [
    {
     "data": {
      "text/plain": [
       "False"
      ]
     },
     "execution_count": 70,
     "metadata": {},
     "output_type": "execute_result"
    }
   ],
   "source": [
    "a_list = [2, 7, 3, 4]\n",
    "is_it_sorted_descending_3(a_list)"
   ]
  },
  {
   "cell_type": "code",
   "execution_count": 71,
   "id": "infrared-remove",
   "metadata": {},
   "outputs": [
    {
     "data": {
      "text/plain": [
       "True"
      ]
     },
     "execution_count": 71,
     "metadata": {},
     "output_type": "execute_result"
    }
   ],
   "source": [
    "a_list = [7, 4, 3, 2]\n",
    "is_it_sorted_descending_3(a_list)"
   ]
  },
  {
   "cell_type": "code",
   "execution_count": 72,
   "id": "renewable-bristol",
   "metadata": {},
   "outputs": [],
   "source": [
    "# S 10:\n",
    "\n",
    "# Way 4:\n",
    "# one line control\n",
    "# Pythonic & Functional\n",
    "\n",
    "\n"
   ]
  },
  {
   "cell_type": "code",
   "execution_count": 77,
   "id": "suburban-sugar",
   "metadata": {},
   "outputs": [
    {
     "data": {
      "text/plain": [
       "False"
      ]
     },
     "execution_count": 77,
     "metadata": {},
     "output_type": "execute_result"
    }
   ],
   "source": [
    "a_list = [2, 7, 3, 4]\n",
    "is_it_sorted_descending_4(a_list)"
   ]
  },
  {
   "cell_type": "code",
   "execution_count": 76,
   "id": "binary-stockholm",
   "metadata": {},
   "outputs": [
    {
     "data": {
      "text/plain": [
       "True"
      ]
     },
     "execution_count": 76,
     "metadata": {},
     "output_type": "execute_result"
    }
   ],
   "source": [
    "a_list = [7, 4, 3, 2]\n",
    "is_it_sorted_descending_4(a_list)"
   ]
  },
  {
   "cell_type": "code",
   "execution_count": null,
   "id": "textile-minimum",
   "metadata": {},
   "outputs": [],
   "source": []
  }
 ],
 "metadata": {
  "kernelspec": {
   "display_name": "Python 3",
   "language": "python",
   "name": "python3"
  },
  "language_info": {
   "codemirror_mode": {
    "name": "ipython",
    "version": 3
   },
   "file_extension": ".py",
   "mimetype": "text/x-python",
   "name": "python",
   "nbconvert_exporter": "python",
   "pygments_lexer": "ipython3",
   "version": "3.8.8"
  }
 },
 "nbformat": 4,
 "nbformat_minor": 5
}
