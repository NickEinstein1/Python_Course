{
 "cells": [
  {
   "cell_type": "markdown",
   "id": "latter-posting",
   "metadata": {},
   "source": [
    "# List"
   ]
  },
  {
   "cell_type": "markdown",
   "id": "federal-prison",
   "metadata": {},
   "source": [
    "## List is a Squence"
   ]
  },
  {
   "cell_type": "markdown",
   "id": "cellular-ownership",
   "metadata": {},
   "source": [
    "Previously, we learned that Strings are Sequences.\n",
    "\n",
    "Lists are also Sequence Types."
   ]
  },
  {
   "cell_type": "markdown",
   "id": "addressed-bernard",
   "metadata": {},
   "source": [
    "For Sequences, you can access elements via `index`."
   ]
  },
  {
   "cell_type": "markdown",
   "id": "scientific-force",
   "metadata": {},
   "source": [
    "List are definded: `[]`"
   ]
  },
  {
   "cell_type": "code",
   "execution_count": 1,
   "id": "prime-parent",
   "metadata": {},
   "outputs": [
    {
     "data": {
      "text/plain": [
       "[10, 20, 30, 40]"
      ]
     },
     "execution_count": 1,
     "metadata": {},
     "output_type": "execute_result"
    }
   ],
   "source": [
    "my_list = [10, 20, 30, 40]\n",
    "my_list"
   ]
  },
  {
   "cell_type": "code",
   "execution_count": 2,
   "id": "thousand-africa",
   "metadata": {},
   "outputs": [
    {
     "name": "stdout",
     "output_type": "stream",
     "text": [
      "['a', 'b', 'c', 'd', 'e']\n"
     ]
    }
   ],
   "source": [
    "letters = ['a', 'b', 'c', 'd', 'e']\n",
    "print(letters)"
   ]
  },
  {
   "cell_type": "code",
   "execution_count": 3,
   "id": "progressive-wireless",
   "metadata": {},
   "outputs": [
    {
     "data": {
      "text/plain": [
       "list"
      ]
     },
     "execution_count": 3,
     "metadata": {},
     "output_type": "execute_result"
    }
   ],
   "source": [
    "type(letters)"
   ]
  },
  {
   "cell_type": "code",
   "execution_count": 5,
   "id": "conservative-livestock",
   "metadata": {},
   "outputs": [
    {
     "data": {
      "text/plain": [
       "[2, 'A', 'B', True, 'mail']"
      ]
     },
     "execution_count": 5,
     "metadata": {},
     "output_type": "execute_result"
    }
   ],
   "source": [
    "mixed_list = [2, 'A', 'B', True, 'mail']\n",
    "mixed_list"
   ]
  },
  {
   "cell_type": "code",
   "execution_count": 7,
   "id": "hindu-islam",
   "metadata": {},
   "outputs": [
    {
     "data": {
      "text/plain": [
       "['city', 'name', 4, True, [1, 2, 3], 'A', ['a', 'b']]"
      ]
     },
     "execution_count": 7,
     "metadata": {},
     "output_type": "execute_result"
    }
   ],
   "source": [
    "nested_list = ['city', 'name', 4, True, [1, 2, 3], 'A', ['a', 'b']]\n",
    "nested_list"
   ]
  },
  {
   "cell_type": "code",
   "execution_count": 8,
   "id": "verbal-cemetery",
   "metadata": {},
   "outputs": [
    {
     "data": {
      "text/plain": [
       "'city'"
      ]
     },
     "execution_count": 8,
     "metadata": {},
     "output_type": "execute_result"
    }
   ],
   "source": [
    "nested_list[0]"
   ]
  },
  {
   "cell_type": "code",
   "execution_count": 9,
   "id": "healthy-greece",
   "metadata": {},
   "outputs": [
    {
     "data": {
      "text/plain": [
       "True"
      ]
     },
     "execution_count": 9,
     "metadata": {},
     "output_type": "execute_result"
    }
   ],
   "source": [
    "nested_list[3]"
   ]
  },
  {
   "cell_type": "code",
   "execution_count": 10,
   "id": "alpine-afternoon",
   "metadata": {},
   "outputs": [
    {
     "data": {
      "text/plain": [
       "[1, 2, 3]"
      ]
     },
     "execution_count": 10,
     "metadata": {},
     "output_type": "execute_result"
    }
   ],
   "source": [
    "nested_list[4]"
   ]
  },
  {
   "cell_type": "code",
   "execution_count": 11,
   "id": "armed-restoration",
   "metadata": {},
   "outputs": [
    {
     "data": {
      "text/plain": [
       "['a', 'b']"
      ]
     },
     "execution_count": 11,
     "metadata": {},
     "output_type": "execute_result"
    }
   ],
   "source": [
    "nested_list[6]"
   ]
  },
  {
   "cell_type": "code",
   "execution_count": 13,
   "id": "ordered-dispute",
   "metadata": {},
   "outputs": [
    {
     "data": {
      "text/plain": [
       "3"
      ]
     },
     "execution_count": 13,
     "metadata": {},
     "output_type": "execute_result"
    }
   ],
   "source": [
    "# acces into nested lists\n",
    "# double indexing\n",
    "\n",
    "nested_list[4][2]"
   ]
  },
  {
   "cell_type": "code",
   "execution_count": 14,
   "id": "compatible-afghanistan",
   "metadata": {},
   "outputs": [
    {
     "data": {
      "text/plain": [
       "['a', 'b']"
      ]
     },
     "execution_count": 14,
     "metadata": {},
     "output_type": "execute_result"
    }
   ],
   "source": [
    "nested_list[6]"
   ]
  },
  {
   "cell_type": "code",
   "execution_count": 15,
   "id": "attempted-winter",
   "metadata": {},
   "outputs": [
    {
     "data": {
      "text/plain": [
       "'a'"
      ]
     },
     "execution_count": 15,
     "metadata": {},
     "output_type": "execute_result"
    }
   ],
   "source": [
    "nested_list[6][0]"
   ]
  },
  {
   "cell_type": "code",
   "execution_count": 16,
   "id": "tested-stake",
   "metadata": {},
   "outputs": [
    {
     "data": {
      "text/plain": [
       "[]"
      ]
     },
     "execution_count": 16,
     "metadata": {},
     "output_type": "execute_result"
    }
   ],
   "source": [
    "# Empty lists\n",
    "\n",
    "empty = []\n",
    "empty"
   ]
  },
  {
   "cell_type": "code",
   "execution_count": 17,
   "id": "neutral-luxembourg",
   "metadata": {},
   "outputs": [
    {
     "data": {
      "text/plain": [
       "list"
      ]
     },
     "execution_count": 17,
     "metadata": {},
     "output_type": "execute_result"
    }
   ],
   "source": [
    "type(empty)"
   ]
  },
  {
   "cell_type": "markdown",
   "id": "headed-tulsa",
   "metadata": {},
   "source": [
    "## Lists are Mutable"
   ]
  },
  {
   "cell_type": "markdown",
   "id": "impressed-rover",
   "metadata": {},
   "source": [
    "Strings are Immutable.\n",
    "\n",
    "Lists are Mutable."
   ]
  },
  {
   "cell_type": "code",
   "execution_count": 18,
   "id": "mobile-terrain",
   "metadata": {},
   "outputs": [
    {
     "data": {
      "text/plain": [
       "['audi', 'Ford', 'Mazda']"
      ]
     },
     "execution_count": 18,
     "metadata": {},
     "output_type": "execute_result"
    }
   ],
   "source": [
    "cars = ['audi', 'Ford', 'Mazda']\n",
    "cars"
   ]
  },
  {
   "cell_type": "code",
   "execution_count": 19,
   "id": "civic-authority",
   "metadata": {},
   "outputs": [
    {
     "data": {
      "text/plain": [
       "['Audi', 'Ford', 'Mazda']"
      ]
     },
     "execution_count": 19,
     "metadata": {},
     "output_type": "execute_result"
    }
   ],
   "source": [
    "# mutate the list\n",
    "\n",
    "cars[0] = 'Audi'\n",
    "cars"
   ]
  },
  {
   "cell_type": "code",
   "execution_count": 20,
   "id": "atomic-algeria",
   "metadata": {},
   "outputs": [
    {
     "data": {
      "text/plain": [
       "[1, 2, 3, 4, 5]"
      ]
     },
     "execution_count": 20,
     "metadata": {},
     "output_type": "execute_result"
    }
   ],
   "source": [
    "nums = [1, 2, 3, 4, 5]\n",
    "nums"
   ]
  },
  {
   "cell_type": "code",
   "execution_count": 21,
   "id": "noticed-venezuela",
   "metadata": {},
   "outputs": [
    {
     "data": {
      "text/plain": [
       "5"
      ]
     },
     "execution_count": 21,
     "metadata": {},
     "output_type": "execute_result"
    }
   ],
   "source": [
    "nums[4]"
   ]
  },
  {
   "cell_type": "code",
   "execution_count": 22,
   "id": "traditional-warehouse",
   "metadata": {},
   "outputs": [
    {
     "data": {
      "text/plain": [
       "[1, 2, 3, 4, '55555']"
      ]
     },
     "execution_count": 22,
     "metadata": {},
     "output_type": "execute_result"
    }
   ],
   "source": [
    "nums[4] = '55555'\n",
    "nums"
   ]
  },
  {
   "cell_type": "code",
   "execution_count": 23,
   "id": "norman-mechanism",
   "metadata": {},
   "outputs": [
    {
     "ename": "IndexError",
     "evalue": "list index out of range",
     "output_type": "error",
     "traceback": [
      "\u001b[1;31m---------------------------------------------------------------------------\u001b[0m",
      "\u001b[1;31mIndexError\u001b[0m                                Traceback (most recent call last)",
      "\u001b[1;32m<ipython-input-23-2d1985700e00>\u001b[0m in \u001b[0;36m<module>\u001b[1;34m\u001b[0m\n\u001b[0;32m      1\u001b[0m \u001b[1;31m# Access an index which does not exist\u001b[0m\u001b[1;33m\u001b[0m\u001b[1;33m\u001b[0m\u001b[1;33m\u001b[0m\u001b[0m\n\u001b[0;32m      2\u001b[0m \u001b[1;33m\u001b[0m\u001b[0m\n\u001b[1;32m----> 3\u001b[1;33m \u001b[0mnums\u001b[0m\u001b[1;33m[\u001b[0m\u001b[1;36m6\u001b[0m\u001b[1;33m]\u001b[0m\u001b[1;33m\u001b[0m\u001b[1;33m\u001b[0m\u001b[0m\n\u001b[0m",
      "\u001b[1;31mIndexError\u001b[0m: list index out of range"
     ]
    }
   ],
   "source": [
    "# Access an index which does not exist\n",
    "# IndexError: list index out of range\n",
    "\n",
    "nums[6]"
   ]
  },
  {
   "cell_type": "code",
   "execution_count": 24,
   "id": "regular-blackberry",
   "metadata": {},
   "outputs": [
    {
     "data": {
      "text/plain": [
       "['Audi', 'Ford', 'Mazda']"
      ]
     },
     "execution_count": 24,
     "metadata": {},
     "output_type": "execute_result"
    }
   ],
   "source": [
    "cars"
   ]
  },
  {
   "cell_type": "raw",
   "id": "junior-kansas",
   "metadata": {},
   "source": [
    "negative index :  comes from Right to Left\n",
    "starts from -1\n",
    "\n",
    "index\n",
    "------------>\n",
    "   0        1        2\n",
    "['Audi', 'Ford', 'Mazda']\n",
    "\n",
    "\n",
    "negative index\n",
    "<------------\n",
    "   -3      -2      -1\n",
    "['Audi', 'Ford', 'Mazda']\n"
   ]
  },
  {
   "cell_type": "code",
   "execution_count": 26,
   "id": "spatial-peoples",
   "metadata": {},
   "outputs": [
    {
     "data": {
      "text/plain": [
       "'Mazda'"
      ]
     },
     "execution_count": 26,
     "metadata": {},
     "output_type": "execute_result"
    }
   ],
   "source": [
    "cars[-1]"
   ]
  },
  {
   "cell_type": "code",
   "execution_count": 27,
   "id": "atomic-facing",
   "metadata": {},
   "outputs": [
    {
     "data": {
      "text/plain": [
       "'Ford'"
      ]
     },
     "execution_count": 27,
     "metadata": {},
     "output_type": "execute_result"
    }
   ],
   "source": [
    "cars[-2]"
   ]
  },
  {
   "cell_type": "raw",
   "id": "otherwise-perspective",
   "metadata": {},
   "source": [
    "\n",
    "['Audi', 'Ford', 'Mazda']  |  ['Audi', 'Ford', 'Mazda'] \n",
    "  -3       -2       -1            0      1        2"
   ]
  },
  {
   "cell_type": "code",
   "execution_count": 28,
   "id": "unnecessary-locking",
   "metadata": {},
   "outputs": [
    {
     "data": {
      "text/plain": [
       "'Audi'"
      ]
     },
     "execution_count": 28,
     "metadata": {},
     "output_type": "execute_result"
    }
   ],
   "source": [
    "cars[-3]"
   ]
  },
  {
   "cell_type": "markdown",
   "id": "respected-reaction",
   "metadata": {},
   "source": [
    "## Loop Over a List"
   ]
  },
  {
   "cell_type": "code",
   "execution_count": 31,
   "id": "deluxe-planning",
   "metadata": {},
   "outputs": [
    {
     "data": {
      "text/plain": [
       "['Audi', 'Ford', 'Mazda']"
      ]
     },
     "execution_count": 31,
     "metadata": {},
     "output_type": "execute_result"
    }
   ],
   "source": [
    "cars = ['Audi', 'Ford', 'Mazda']\n",
    "cars"
   ]
  },
  {
   "cell_type": "code",
   "execution_count": 32,
   "id": "outdoor-affairs",
   "metadata": {},
   "outputs": [
    {
     "name": "stdout",
     "output_type": "stream",
     "text": [
      "Audi\n",
      "Ford\n",
      "Mazda\n"
     ]
    }
   ],
   "source": [
    "# loop over cars list\n",
    "\n",
    "for car in cars:\n",
    "    print(car)\n",
    "    "
   ]
  },
  {
   "cell_type": "code",
   "execution_count": 33,
   "id": "hazardous-glossary",
   "metadata": {},
   "outputs": [
    {
     "name": "stdout",
     "output_type": "stream",
     "text": [
      "0 - Audi\n",
      "1 - Ford\n",
      "2 - Mazda\n"
     ]
    }
   ],
   "source": [
    "# we need the index -> enumerate()\n",
    "\n",
    "for index, car in enumerate(cars):\n",
    "    print(\"{0} - {1}\".format(index, car))\n"
   ]
  },
  {
   "cell_type": "markdown",
   "id": "sunrise-serbia",
   "metadata": {},
   "source": [
    "We want to change the elemants during the loop."
   ]
  },
  {
   "cell_type": "code",
   "execution_count": 34,
   "id": "prime-french",
   "metadata": {},
   "outputs": [
    {
     "data": {
      "text/plain": [
       "[1, 2, 3, 4, 5]"
      ]
     },
     "execution_count": 34,
     "metadata": {},
     "output_type": "execute_result"
    }
   ],
   "source": [
    "nums = [1, 2, 3, 4, 5]\n",
    "nums"
   ]
  },
  {
   "cell_type": "code",
   "execution_count": 36,
   "id": "above-effort",
   "metadata": {},
   "outputs": [
    {
     "name": "stdout",
     "output_type": "stream",
     "text": [
      "10\n",
      "20\n",
      "30\n",
      "40\n",
      "50\n"
     ]
    }
   ],
   "source": [
    "# loop over the list -> multiply elements by 10\n",
    "\n",
    "for num in nums:\n",
    "    num *= 10\n",
    "    print(num)\n",
    "    "
   ]
  },
  {
   "cell_type": "code",
   "execution_count": 37,
   "id": "moderate-guess",
   "metadata": {},
   "outputs": [
    {
     "data": {
      "text/plain": [
       "[1, 2, 3, 4, 5]"
      ]
     },
     "execution_count": 37,
     "metadata": {},
     "output_type": "execute_result"
    }
   ],
   "source": [
    "nums"
   ]
  },
  {
   "cell_type": "code",
   "execution_count": 38,
   "id": "fewer-cameroon",
   "metadata": {},
   "outputs": [],
   "source": [
    "# we want to change the original list in loop\n",
    "# we need index to update the element -> list\n",
    "\n",
    "for index, num in enumerate(nums):\n",
    "    \n",
    "    # calculate the new num\n",
    "    new_num = num * 10\n",
    "    \n",
    "    # update the list via index\n",
    "    nums[index] = new_num\n"
   ]
  },
  {
   "cell_type": "code",
   "execution_count": 39,
   "id": "preceding-tablet",
   "metadata": {},
   "outputs": [
    {
     "data": {
      "text/plain": [
       "[10, 20, 30, 40, 50]"
      ]
     },
     "execution_count": 39,
     "metadata": {},
     "output_type": "execute_result"
    }
   ],
   "source": [
    "nums"
   ]
  },
  {
   "cell_type": "code",
   "execution_count": 40,
   "id": "intermediate-capitol",
   "metadata": {},
   "outputs": [],
   "source": [
    "# cars list\n",
    "# we will update each car as ' Car' -> Audi Car, Ford Car, Mazda Car\n",
    "\n",
    "for index, car in enumerate(cars):\n",
    "    \n",
    "    cars[index] = car + ' Car'\n"
   ]
  },
  {
   "cell_type": "code",
   "execution_count": 41,
   "id": "informal-belgium",
   "metadata": {},
   "outputs": [
    {
     "data": {
      "text/plain": [
       "['Audi Car', 'Ford Car', 'Mazda Car']"
      ]
     },
     "execution_count": 41,
     "metadata": {},
     "output_type": "execute_result"
    }
   ],
   "source": [
    "cars"
   ]
  },
  {
   "cell_type": "markdown",
   "id": "broadband-watts",
   "metadata": {},
   "source": [
    "## List Operations"
   ]
  },
  {
   "cell_type": "markdown",
   "id": "powered-moment",
   "metadata": {},
   "source": [
    "In Lists +, * (addition and multiplication) operations are allowed.\n",
    "\n",
    "But with its own logic."
   ]
  },
  {
   "cell_type": "markdown",
   "id": "published-region",
   "metadata": {},
   "source": [
    "**`+` Operator**\n",
    "\n",
    "It concatenates lists."
   ]
  },
  {
   "cell_type": "code",
   "execution_count": 42,
   "id": "civilian-investing",
   "metadata": {},
   "outputs": [
    {
     "data": {
      "text/plain": [
       "[10, 20, 30, 4, 8, 12]"
      ]
     },
     "execution_count": 42,
     "metadata": {},
     "output_type": "execute_result"
    }
   ],
   "source": [
    "a = [10, 20, 30]\n",
    "\n",
    "b = [4, 8, 12]\n",
    "\n",
    "c = a + b\n",
    "c"
   ]
  },
  {
   "cell_type": "code",
   "execution_count": 43,
   "id": "maritime-wednesday",
   "metadata": {},
   "outputs": [
    {
     "data": {
      "text/plain": [
       "[10, 20, 30, 4, 8, 12, 'A', 'B', 'C']"
      ]
     },
     "execution_count": 43,
     "metadata": {},
     "output_type": "execute_result"
    }
   ],
   "source": [
    "\n",
    "a = [10, 20, 30]\n",
    "\n",
    "b = [4, 8, 12]\n",
    "\n",
    "c = ['A', 'B', 'C']\n",
    "\n",
    "d = a + b + c\n",
    "d"
   ]
  },
  {
   "cell_type": "code",
   "execution_count": 44,
   "id": "painted-bridal",
   "metadata": {},
   "outputs": [
    {
     "data": {
      "text/plain": [
       "['Monday', 'Tuesday', 'Wednesday', 'Thusday', 'Friday', 'Saturday', 'Sunday']"
      ]
     },
     "execution_count": 44,
     "metadata": {},
     "output_type": "execute_result"
    }
   ],
   "source": [
    "weekdays = ['Monday', 'Tuesday', 'Wednesday', 'Thusday', 'Friday']\n",
    "weekend = ['Saturday', 'Sunday']\n",
    "\n",
    "week = weekdays + weekend\n",
    "\n",
    "week"
   ]
  },
  {
   "cell_type": "markdown",
   "id": "aggressive-rendering",
   "metadata": {},
   "source": [
    "**`*` Operator**\n",
    "\n",
    "It duplicates the list in the number of multiply."
   ]
  },
  {
   "cell_type": "code",
   "execution_count": 45,
   "id": "ahead-concrete",
   "metadata": {},
   "outputs": [
    {
     "data": {
      "text/plain": [
       "'CarCarCar'"
      ]
     },
     "execution_count": 45,
     "metadata": {},
     "output_type": "execute_result"
    }
   ],
   "source": [
    "car = 'Car'\n",
    "\n",
    "3 * car"
   ]
  },
  {
   "cell_type": "code",
   "execution_count": 46,
   "id": "experienced-appliance",
   "metadata": {},
   "outputs": [
    {
     "data": {
      "text/plain": [
       "['Audi', 'Ford', 'BMW', 'Audi', 'Ford', 'BMW', 'Audi', 'Ford', 'BMW']"
      ]
     },
     "execution_count": 46,
     "metadata": {},
     "output_type": "execute_result"
    }
   ],
   "source": [
    "cars = ['Audi', 'Ford', 'BMW']\n",
    "\n",
    "3 * cars"
   ]
  },
  {
   "cell_type": "code",
   "execution_count": 48,
   "id": "former-feedback",
   "metadata": {},
   "outputs": [
    {
     "data": {
      "text/plain": [
       "[5, 5, 5, 5]"
      ]
     },
     "execution_count": 48,
     "metadata": {},
     "output_type": "execute_result"
    }
   ],
   "source": [
    "[5] * 4"
   ]
  },
  {
   "cell_type": "code",
   "execution_count": 50,
   "id": "afraid-stupid",
   "metadata": {},
   "outputs": [
    {
     "data": {
      "text/plain": [
       "[11, 22, 11, 22, 11, 22]"
      ]
     },
     "execution_count": 50,
     "metadata": {},
     "output_type": "execute_result"
    }
   ],
   "source": [
    "[11, 22] * 3"
   ]
  },
  {
   "cell_type": "code",
   "execution_count": 51,
   "id": "latest-welsh",
   "metadata": {},
   "outputs": [
    {
     "data": {
      "text/plain": [
       "['Monday', 'Tuesday', 'Wednesday', 'Thusday', 'Friday', 'Saturday', 'Sunday']"
      ]
     },
     "execution_count": 51,
     "metadata": {},
     "output_type": "execute_result"
    }
   ],
   "source": [
    "week"
   ]
  },
  {
   "cell_type": "code",
   "execution_count": 52,
   "id": "guilty-water",
   "metadata": {},
   "outputs": [
    {
     "data": {
      "text/plain": [
       "['Monday',\n",
       " 'Tuesday',\n",
       " 'Wednesday',\n",
       " 'Thusday',\n",
       " 'Friday',\n",
       " 'Saturday',\n",
       " 'Sunday',\n",
       " 'Monday',\n",
       " 'Tuesday',\n",
       " 'Wednesday',\n",
       " 'Thusday',\n",
       " 'Friday',\n",
       " 'Saturday',\n",
       " 'Sunday',\n",
       " 'Monday',\n",
       " 'Tuesday',\n",
       " 'Wednesday',\n",
       " 'Thusday',\n",
       " 'Friday',\n",
       " 'Saturday',\n",
       " 'Sunday',\n",
       " 'Monday',\n",
       " 'Tuesday',\n",
       " 'Wednesday',\n",
       " 'Thusday',\n",
       " 'Friday',\n",
       " 'Saturday',\n",
       " 'Sunday']"
      ]
     },
     "execution_count": 52,
     "metadata": {},
     "output_type": "execute_result"
    }
   ],
   "source": [
    "4 * week"
   ]
  },
  {
   "cell_type": "markdown",
   "id": "senior-mexican",
   "metadata": {},
   "source": [
    "## List Slicing"
   ]
  },
  {
   "cell_type": "code",
   "execution_count": 55,
   "id": "immediate-mortality",
   "metadata": {},
   "outputs": [
    {
     "data": {
      "text/plain": [
       "['a', 'b', 'c', 'd', 'e', 'f']"
      ]
     },
     "execution_count": 55,
     "metadata": {},
     "output_type": "execute_result"
    }
   ],
   "source": [
    "\n",
    "my_list = ['a', 'b', 'c', 'd', 'e', 'f']\n",
    "my_list\n"
   ]
  },
  {
   "cell_type": "code",
   "execution_count": 56,
   "id": "bulgarian-cardiff",
   "metadata": {},
   "outputs": [
    {
     "data": {
      "text/plain": [
       "['b', 'c', 'd']"
      ]
     },
     "execution_count": 56,
     "metadata": {},
     "output_type": "execute_result"
    }
   ],
   "source": [
    "# we want elements from index 1 to 4 (exc)\n",
    "\n",
    "my_list[1:4]"
   ]
  },
  {
   "cell_type": "code",
   "execution_count": 57,
   "id": "anonymous-custody",
   "metadata": {},
   "outputs": [
    {
     "data": {
      "text/plain": [
       "['a', 'b', 'c', 'd']"
      ]
     },
     "execution_count": 57,
     "metadata": {},
     "output_type": "execute_result"
    }
   ],
   "source": [
    "# we want firt 4 elements\n",
    "# 0, 1, 2, 3\n",
    "\n",
    "my_list[0:4]"
   ]
  },
  {
   "cell_type": "code",
   "execution_count": 58,
   "id": "united-klein",
   "metadata": {},
   "outputs": [
    {
     "data": {
      "text/plain": [
       "['a', 'b', 'c', 'd']"
      ]
     },
     "execution_count": 58,
     "metadata": {},
     "output_type": "execute_result"
    }
   ],
   "source": [
    "# ommit 0 for start\n",
    "\n",
    "my_list[:4]"
   ]
  },
  {
   "cell_type": "code",
   "execution_count": 59,
   "id": "eleven-positive",
   "metadata": {},
   "outputs": [
    {
     "data": {
      "text/plain": [
       "['a', 'b', 'c', 'd', 'e', 'f']"
      ]
     },
     "execution_count": 59,
     "metadata": {},
     "output_type": "execute_result"
    }
   ],
   "source": [
    "# get all elements of list\n",
    "\n",
    "my_list[::]"
   ]
  },
  {
   "cell_type": "code",
   "execution_count": 60,
   "id": "final-washington",
   "metadata": {},
   "outputs": [
    {
     "data": {
      "text/plain": [
       "['a', 'b', 'c', 'd', 'e', 'f']"
      ]
     },
     "execution_count": 60,
     "metadata": {},
     "output_type": "execute_result"
    }
   ],
   "source": [
    "my_list_copy = my_list[::]\n",
    "my_list_copy"
   ]
  },
  {
   "cell_type": "code",
   "execution_count": 61,
   "id": "cubic-fifteen",
   "metadata": {},
   "outputs": [
    {
     "data": {
      "text/plain": [
       "['a', 'c', 'e']"
      ]
     },
     "execution_count": 61,
     "metadata": {},
     "output_type": "execute_result"
    }
   ],
   "source": [
    "# get the elements with even index\n",
    "# 0, 2, 4, ...\n",
    "\n",
    "my_list[::2]"
   ]
  },
  {
   "cell_type": "code",
   "execution_count": 62,
   "id": "fresh-madness",
   "metadata": {},
   "outputs": [
    {
     "data": {
      "text/plain": [
       "['b', 'd', 'f']"
      ]
     },
     "execution_count": 62,
     "metadata": {},
     "output_type": "execute_result"
    }
   ],
   "source": [
    "# get the elements with odd index\n",
    "# 1, 3, 5 ...\n",
    "\n",
    "my_list[1::2]"
   ]
  },
  {
   "cell_type": "code",
   "execution_count": 63,
   "id": "pharmaceutical-character",
   "metadata": {},
   "outputs": [
    {
     "data": {
      "text/plain": [
       "['f', 'e', 'd', 'c', 'b', 'a']"
      ]
     },
     "execution_count": 63,
     "metadata": {},
     "output_type": "execute_result"
    }
   ],
   "source": [
    "# copy the reverse of the list\n",
    "\n",
    "my_list_copy_reverse = my_list[::-1]\n",
    "my_list_copy_reverse"
   ]
  },
  {
   "cell_type": "markdown",
   "id": "southwest-novel",
   "metadata": {},
   "source": [
    "## List Copying and Ids"
   ]
  },
  {
   "cell_type": "markdown",
   "id": "immune-antenna",
   "metadata": {},
   "source": [
    "Copying -> Create a NEW List"
   ]
  },
  {
   "cell_type": "code",
   "execution_count": 64,
   "id": "buried-titanium",
   "metadata": {},
   "outputs": [
    {
     "data": {
      "text/plain": [
       "['a', 'b', 'c', 'd', 'e', 'f']"
      ]
     },
     "execution_count": 64,
     "metadata": {},
     "output_type": "execute_result"
    }
   ],
   "source": [
    "my_list = ['a', 'b', 'c', 'd', 'e', 'f']\n",
    "my_list"
   ]
  },
  {
   "cell_type": "code",
   "execution_count": 65,
   "id": "large-start",
   "metadata": {},
   "outputs": [
    {
     "data": {
      "text/plain": [
       "['a', 'b', 'c', 'd', 'e', 'f']"
      ]
     },
     "execution_count": 65,
     "metadata": {},
     "output_type": "execute_result"
    }
   ],
   "source": [
    "my_list_copy = my_list[:]\n",
    "my_list_copy"
   ]
  },
  {
   "cell_type": "code",
   "execution_count": 67,
   "id": "tender-chase",
   "metadata": {},
   "outputs": [],
   "source": [
    "# mutate the new list -> if it affects the original list\n",
    "\n",
    "my_list_copy[0] = 'A'\n",
    "my_list_copy[1] = 'B'"
   ]
  },
  {
   "cell_type": "code",
   "execution_count": 68,
   "id": "clear-resolution",
   "metadata": {},
   "outputs": [
    {
     "name": "stdout",
     "output_type": "stream",
     "text": [
      "My List: ['a', 'b', 'c', 'd', 'e', 'f']\n",
      "My List Copy ['A', 'B', 'c', 'd', 'e', 'f']\n"
     ]
    }
   ],
   "source": [
    "\n",
    "print('My List:', my_list)\n",
    "print('My List Copy', my_list_copy)\n"
   ]
  },
  {
   "cell_type": "code",
   "execution_count": 69,
   "id": "secondary-haiti",
   "metadata": {},
   "outputs": [
    {
     "data": {
      "text/plain": [
       "['a', 'b', 'c', 'd', 'e', 'f']"
      ]
     },
     "execution_count": 69,
     "metadata": {},
     "output_type": "execute_result"
    }
   ],
   "source": [
    "my_list_copy_2 = my_list[:]\n",
    "my_list_copy_2"
   ]
  },
  {
   "cell_type": "code",
   "execution_count": 70,
   "id": "normal-operations",
   "metadata": {},
   "outputs": [
    {
     "name": "stdout",
     "output_type": "stream",
     "text": [
      "My List: ['a', 'b', 'c', 'd', 'e', 'f']\n",
      "My List Copy ['A', 'B', 'c', 'd', 'e', 'f']\n",
      "My List Copy 2 ['a', 'b', 'c', 'd', 'e', 'f']\n"
     ]
    }
   ],
   "source": [
    "print('My List:', my_list)\n",
    "print('My List Copy', my_list_copy)\n",
    "print('My List Copy 2', my_list_copy_2)"
   ]
  },
  {
   "cell_type": "code",
   "execution_count": 71,
   "id": "alpine-roller",
   "metadata": {},
   "outputs": [],
   "source": [
    "# mutate copy 2\n",
    "\n",
    "my_list_copy_2[0] = 'AA'\n",
    "my_list_copy_2[1] = 'BB'"
   ]
  },
  {
   "cell_type": "code",
   "execution_count": 72,
   "id": "charged-haiti",
   "metadata": {},
   "outputs": [
    {
     "name": "stdout",
     "output_type": "stream",
     "text": [
      "My List: ['a', 'b', 'c', 'd', 'e', 'f']\n",
      "My List Copy ['A', 'B', 'c', 'd', 'e', 'f']\n",
      "My List Copy 2 ['AA', 'BB', 'c', 'd', 'e', 'f']\n"
     ]
    }
   ],
   "source": [
    "print('My List:', my_list)\n",
    "print('My List Copy', my_list_copy)\n",
    "print('My List Copy 2', my_list_copy_2)"
   ]
  },
  {
   "cell_type": "markdown",
   "id": "broadband-observer",
   "metadata": {},
   "source": [
    "**`id` method**"
   ]
  },
  {
   "cell_type": "code",
   "execution_count": 73,
   "id": "sudden-breath",
   "metadata": {},
   "outputs": [
    {
     "data": {
      "text/plain": [
       "2825679809920"
      ]
     },
     "execution_count": 73,
     "metadata": {},
     "output_type": "execute_result"
    }
   ],
   "source": [
    "id(my_list)"
   ]
  },
  {
   "cell_type": "code",
   "execution_count": 74,
   "id": "swiss-albania",
   "metadata": {},
   "outputs": [
    {
     "data": {
      "text/plain": [
       "2825680606592"
      ]
     },
     "execution_count": 74,
     "metadata": {},
     "output_type": "execute_result"
    }
   ],
   "source": [
    "id(my_list_copy)"
   ]
  },
  {
   "cell_type": "code",
   "execution_count": 75,
   "id": "centered-rachel",
   "metadata": {},
   "outputs": [
    {
     "data": {
      "text/plain": [
       "2825679476160"
      ]
     },
     "execution_count": 75,
     "metadata": {},
     "output_type": "execute_result"
    }
   ],
   "source": [
    "id(my_list_copy_2)"
   ]
  },
  {
   "cell_type": "code",
   "execution_count": 76,
   "id": "needed-scratch",
   "metadata": {},
   "outputs": [
    {
     "data": {
      "text/plain": [
       "False"
      ]
     },
     "execution_count": 76,
     "metadata": {},
     "output_type": "execute_result"
    }
   ],
   "source": [
    "id(my_list) == id(my_list_copy)"
   ]
  },
  {
   "cell_type": "markdown",
   "id": "exciting-cartoon",
   "metadata": {},
   "source": [
    "## List Methods"
   ]
  },
  {
   "cell_type": "markdown",
   "id": "legal-runner",
   "metadata": {},
   "source": [
    "Built-in List Methods:\n",
    "\n",
    "* append() : adds an element at the end of the list\n",
    "* insert() : adds an element at specified index\n",
    "* extend() : concats list to another\n",
    "* sort()   : sorts the list (in-place)\n",
    "* sorted() : sorts the list and returns a new list (doesn't mutate the original)"
   ]
  },
  {
   "cell_type": "code",
   "execution_count": 77,
   "id": "ultimate-estonia",
   "metadata": {},
   "outputs": [
    {
     "data": {
      "text/plain": [
       "['a', 'b', 'c', 'd', 'e']"
      ]
     },
     "execution_count": 77,
     "metadata": {},
     "output_type": "execute_result"
    }
   ],
   "source": [
    "letters = ['a', 'b', 'c', 'd', 'e']\n",
    "letters"
   ]
  },
  {
   "cell_type": "markdown",
   "id": "south-policy",
   "metadata": {},
   "source": [
    "**append()**"
   ]
  },
  {
   "cell_type": "code",
   "execution_count": 78,
   "id": "honest-fellow",
   "metadata": {},
   "outputs": [
    {
     "data": {
      "text/plain": [
       "['a', 'b', 'c', 'd', 'e', 'f']"
      ]
     },
     "execution_count": 78,
     "metadata": {},
     "output_type": "execute_result"
    }
   ],
   "source": [
    "letters.append('f')\n",
    "letters"
   ]
  },
  {
   "cell_type": "code",
   "execution_count": 79,
   "id": "simplified-broadway",
   "metadata": {},
   "outputs": [
    {
     "data": {
      "text/plain": [
       "['a', 'b', 'c', 'd', 'e', 'f', 'a', 'x', 't']"
      ]
     },
     "execution_count": 79,
     "metadata": {},
     "output_type": "execute_result"
    }
   ],
   "source": [
    "# one at a time\n",
    "\n",
    "letters.append('a')\n",
    "letters.append('x')\n",
    "letters.append('t')\n",
    "\n",
    "letters"
   ]
  },
  {
   "cell_type": "markdown",
   "id": "diverse-valuation",
   "metadata": {},
   "source": [
    "**insert():**"
   ]
  },
  {
   "cell_type": "code",
   "execution_count": 80,
   "id": "instructional-reverse",
   "metadata": {},
   "outputs": [
    {
     "data": {
      "text/plain": [
       "['a', 'e', 'i', 'o', 'u']"
      ]
     },
     "execution_count": 80,
     "metadata": {},
     "output_type": "execute_result"
    }
   ],
   "source": [
    "vowels = ['a', 'e', 'i', 'o', 'u']\n",
    "vowels"
   ]
  },
  {
   "cell_type": "code",
   "execution_count": 82,
   "id": "documentary-austria",
   "metadata": {},
   "outputs": [
    {
     "data": {
      "text/plain": [
       "['a', 'e', 'E', 'i', 'o', 'u']"
      ]
     },
     "execution_count": 82,
     "metadata": {},
     "output_type": "execute_result"
    }
   ],
   "source": [
    "# insert 'E' after 'e'\n",
    "\n",
    "vowels.insert(2, 'E')\n",
    "vowels"
   ]
  },
  {
   "cell_type": "markdown",
   "id": "palestinian-replication",
   "metadata": {},
   "source": [
    "**extend():**"
   ]
  },
  {
   "cell_type": "code",
   "execution_count": 84,
   "id": "circular-toilet",
   "metadata": {},
   "outputs": [],
   "source": [
    "letters = ['a', 'b', 'c', 'd', 'e']\n",
    "\n",
    "t = [1, 2, 3, 4, 5, 6, 7, 8, 9]"
   ]
  },
  {
   "cell_type": "code",
   "execution_count": 85,
   "id": "partial-blowing",
   "metadata": {},
   "outputs": [],
   "source": [
    "letters.extend(t)"
   ]
  },
  {
   "cell_type": "code",
   "execution_count": 86,
   "id": "statutory-quality",
   "metadata": {},
   "outputs": [
    {
     "data": {
      "text/plain": [
       "['a', 'b', 'c', 'd', 'e', 1, 2, 3, 4, 5, 6, 7, 8, 9]"
      ]
     },
     "execution_count": 86,
     "metadata": {},
     "output_type": "execute_result"
    }
   ],
   "source": [
    "letters"
   ]
  },
  {
   "cell_type": "markdown",
   "id": "loving-radical",
   "metadata": {},
   "source": [
    "**sort():**"
   ]
  },
  {
   "cell_type": "code",
   "execution_count": 87,
   "id": "closed-tribe",
   "metadata": {},
   "outputs": [
    {
     "data": {
      "text/plain": [
       "[1, 2, 3, 4, 5, 6, 7, 8, 9]"
      ]
     },
     "execution_count": 87,
     "metadata": {},
     "output_type": "execute_result"
    }
   ],
   "source": [
    "# sorts the list in-place\n",
    "\n",
    "t.sort()\n",
    "t"
   ]
  },
  {
   "cell_type": "code",
   "execution_count": 88,
   "id": "frozen-darwin",
   "metadata": {},
   "outputs": [],
   "source": [
    "t = [4, 2, 3, 1, 5, 6, 9, 8, 7]\n",
    "t.sort()"
   ]
  },
  {
   "cell_type": "code",
   "execution_count": 89,
   "id": "vital-frank",
   "metadata": {},
   "outputs": [
    {
     "data": {
      "text/plain": [
       "[1, 2, 3, 4, 5, 6, 7, 8, 9]"
      ]
     },
     "execution_count": 89,
     "metadata": {},
     "output_type": "execute_result"
    }
   ],
   "source": [
    "t"
   ]
  },
  {
   "cell_type": "code",
   "execution_count": 90,
   "id": "mysterious-lender",
   "metadata": {},
   "outputs": [
    {
     "data": {
      "text/plain": [
       "['c', 'b', 'a', 'd']"
      ]
     },
     "execution_count": 90,
     "metadata": {},
     "output_type": "execute_result"
    }
   ],
   "source": [
    "a = ['c', 'b', 'a', 'd']\n",
    "a"
   ]
  },
  {
   "cell_type": "code",
   "execution_count": 91,
   "id": "rational-hanging",
   "metadata": {},
   "outputs": [
    {
     "data": {
      "text/plain": [
       "['a', 'b', 'c', 'd']"
      ]
     },
     "execution_count": 91,
     "metadata": {},
     "output_type": "execute_result"
    }
   ],
   "source": [
    "a.sort()\n",
    "a"
   ]
  },
  {
   "cell_type": "markdown",
   "id": "featured-movement",
   "metadata": {},
   "source": [
    "**reverse:**\n",
    "\n",
    "* `reverse=False` -> sorts ascending (default)\n",
    "* `reverse=True` -> sorts descending"
   ]
  },
  {
   "cell_type": "code",
   "execution_count": 92,
   "id": "least-winner",
   "metadata": {},
   "outputs": [
    {
     "data": {
      "text/plain": [
       "['c', 'b', 'a', 'd']"
      ]
     },
     "execution_count": 92,
     "metadata": {},
     "output_type": "execute_result"
    }
   ],
   "source": [
    "# reverse parameter\n",
    "\n",
    "a = ['c', 'b', 'a', 'd']\n",
    "a"
   ]
  },
  {
   "cell_type": "code",
   "execution_count": 93,
   "id": "empty-treasurer",
   "metadata": {},
   "outputs": [
    {
     "data": {
      "text/plain": [
       "['a', 'b', 'c', 'd']"
      ]
     },
     "execution_count": 93,
     "metadata": {},
     "output_type": "execute_result"
    }
   ],
   "source": [
    "# a.sort()\n",
    "a.sort(reverse=False)\n",
    "a"
   ]
  },
  {
   "cell_type": "code",
   "execution_count": 94,
   "id": "adaptive-constitutional",
   "metadata": {},
   "outputs": [
    {
     "data": {
      "text/plain": [
       "['d', 'c', 'b', 'a']"
      ]
     },
     "execution_count": 94,
     "metadata": {},
     "output_type": "execute_result"
    }
   ],
   "source": [
    "a.sort(reverse=True)\n",
    "a"
   ]
  },
  {
   "cell_type": "markdown",
   "id": "qualified-fortune",
   "metadata": {},
   "source": [
    "**sorted():**"
   ]
  },
  {
   "cell_type": "code",
   "execution_count": 97,
   "id": "assured-paste",
   "metadata": {},
   "outputs": [
    {
     "data": {
      "text/plain": [
       "['c', 'b', 'a', 'd']"
      ]
     },
     "execution_count": 97,
     "metadata": {},
     "output_type": "execute_result"
    }
   ],
   "source": [
    "a = ['c', 'b', 'a', 'd']\n",
    "a"
   ]
  },
  {
   "cell_type": "code",
   "execution_count": 99,
   "id": "secret-investing",
   "metadata": {},
   "outputs": [
    {
     "data": {
      "text/plain": [
       "['a', 'b', 'c', 'd']"
      ]
     },
     "execution_count": 99,
     "metadata": {},
     "output_type": "execute_result"
    }
   ],
   "source": [
    "# sorted(<list>)\n",
    "\n",
    "b = sorted(a)\n",
    "b"
   ]
  },
  {
   "cell_type": "code",
   "execution_count": 101,
   "id": "colored-solid",
   "metadata": {},
   "outputs": [
    {
     "data": {
      "text/plain": [
       "['c', 'b', 'a', 'd']"
      ]
     },
     "execution_count": 101,
     "metadata": {},
     "output_type": "execute_result"
    }
   ],
   "source": [
    "# a is unchanged\n",
    "\n",
    "a"
   ]
  },
  {
   "cell_type": "code",
   "execution_count": 102,
   "id": "downtown-target",
   "metadata": {},
   "outputs": [
    {
     "data": {
      "text/plain": [
       "['a', 'b', 'c', 'd']"
      ]
     },
     "execution_count": 102,
     "metadata": {},
     "output_type": "execute_result"
    }
   ],
   "source": [
    "b"
   ]
  },
  {
   "cell_type": "code",
   "execution_count": 103,
   "id": "static-flashing",
   "metadata": {},
   "outputs": [],
   "source": [
    "# sort in reverse order\n",
    "\n",
    "d = sorted(a, reverse=True)"
   ]
  },
  {
   "cell_type": "code",
   "execution_count": 104,
   "id": "important-discipline",
   "metadata": {},
   "outputs": [
    {
     "data": {
      "text/plain": [
       "['d', 'c', 'b', 'a']"
      ]
     },
     "execution_count": 104,
     "metadata": {},
     "output_type": "execute_result"
    }
   ],
   "source": [
    "d"
   ]
  },
  {
   "cell_type": "markdown",
   "id": "august-style",
   "metadata": {},
   "source": [
    "## Deleting Elements from a List"
   ]
  },
  {
   "cell_type": "markdown",
   "id": "executive-qatar",
   "metadata": {},
   "source": [
    "We have various ways to delete elements from a list:"
   ]
  },
  {
   "cell_type": "markdown",
   "id": "independent-desire",
   "metadata": {},
   "source": [
    "* 1 - If we know the index to delete -> **pop(index)**\n",
    "\n",
    "**pop(index)** removes the element from the list and returns that element."
   ]
  },
  {
   "cell_type": "code",
   "execution_count": 105,
   "id": "joint-error",
   "metadata": {},
   "outputs": [
    {
     "data": {
      "text/plain": [
       "['x', 'y', 'z', 't']"
      ]
     },
     "execution_count": 105,
     "metadata": {},
     "output_type": "execute_result"
    }
   ],
   "source": [
    "a_list = ['x', 'y', 'z', 't']\n",
    "a_list"
   ]
  },
  {
   "cell_type": "code",
   "execution_count": 106,
   "id": "adult-forum",
   "metadata": {},
   "outputs": [],
   "source": [
    "# delete element -> index 2\n",
    "\n",
    "deleted_element = a_list.pop(2)"
   ]
  },
  {
   "cell_type": "code",
   "execution_count": 107,
   "id": "norman-transformation",
   "metadata": {},
   "outputs": [
    {
     "data": {
      "text/plain": [
       "'z'"
      ]
     },
     "execution_count": 107,
     "metadata": {},
     "output_type": "execute_result"
    }
   ],
   "source": [
    "deleted_element"
   ]
  },
  {
   "cell_type": "code",
   "execution_count": 108,
   "id": "imposed-basketball",
   "metadata": {},
   "outputs": [
    {
     "data": {
      "text/plain": [
       "['x', 'y', 't']"
      ]
     },
     "execution_count": 108,
     "metadata": {},
     "output_type": "execute_result"
    }
   ],
   "source": [
    "a_list"
   ]
  },
  {
   "cell_type": "markdown",
   "id": "expired-internship",
   "metadata": {},
   "source": [
    "**pop()**: With no index -> pop() deletes the last element."
   ]
  },
  {
   "cell_type": "code",
   "execution_count": 109,
   "id": "desperate-check",
   "metadata": {},
   "outputs": [],
   "source": [
    "del_el = a_list.pop()"
   ]
  },
  {
   "cell_type": "code",
   "execution_count": 110,
   "id": "rolled-celebration",
   "metadata": {},
   "outputs": [
    {
     "data": {
      "text/plain": [
       "'t'"
      ]
     },
     "execution_count": 110,
     "metadata": {},
     "output_type": "execute_result"
    }
   ],
   "source": [
    "del_el"
   ]
  },
  {
   "cell_type": "code",
   "execution_count": 111,
   "id": "nearby-bradford",
   "metadata": {},
   "outputs": [
    {
     "data": {
      "text/plain": [
       "['x', 'y']"
      ]
     },
     "execution_count": 111,
     "metadata": {},
     "output_type": "execute_result"
    }
   ],
   "source": [
    "a_list"
   ]
  },
  {
   "cell_type": "markdown",
   "id": "north-above",
   "metadata": {},
   "source": [
    "* 2 - We do not need the deleted element-> **del**\n",
    "\n",
    "**del** removes the element from the list and returns None."
   ]
  },
  {
   "cell_type": "code",
   "execution_count": 112,
   "id": "copyrighted-minimum",
   "metadata": {},
   "outputs": [
    {
     "data": {
      "text/plain": [
       "['k', 'l', 'm', 'n', 'o']"
      ]
     },
     "execution_count": 112,
     "metadata": {},
     "output_type": "execute_result"
    }
   ],
   "source": [
    "my_list = ['k', 'l', 'm', 'n', 'o']\n",
    "my_list"
   ]
  },
  {
   "cell_type": "code",
   "execution_count": 113,
   "id": "satisfied-probability",
   "metadata": {},
   "outputs": [
    {
     "data": {
      "text/plain": [
       "'n'"
      ]
     },
     "execution_count": 113,
     "metadata": {},
     "output_type": "execute_result"
    }
   ],
   "source": [
    "my_list[3]"
   ]
  },
  {
   "cell_type": "code",
   "execution_count": 114,
   "id": "appointed-skiing",
   "metadata": {},
   "outputs": [],
   "source": [
    "# delete element at index 3\n",
    "\n",
    "del my_list[3]"
   ]
  },
  {
   "cell_type": "code",
   "execution_count": 115,
   "id": "scientific-contamination",
   "metadata": {},
   "outputs": [
    {
     "data": {
      "text/plain": [
       "['k', 'l', 'm', 'o']"
      ]
     },
     "execution_count": 115,
     "metadata": {},
     "output_type": "execute_result"
    }
   ],
   "source": [
    "my_list"
   ]
  },
  {
   "cell_type": "code",
   "execution_count": 117,
   "id": "prospective-donna",
   "metadata": {},
   "outputs": [
    {
     "data": {
      "text/plain": [
       "['k', 'l', 'm', 'n', 'o', 'p', 'r']"
      ]
     },
     "execution_count": 117,
     "metadata": {},
     "output_type": "execute_result"
    }
   ],
   "source": [
    "# delete a slice\n",
    "\n",
    "my_list = ['k', 'l', 'm', 'n', 'o', 'p', 'r']\n",
    "my_list"
   ]
  },
  {
   "cell_type": "code",
   "execution_count": 118,
   "id": "meaning-wheat",
   "metadata": {},
   "outputs": [],
   "source": [
    "# delete indices from 1-5\n",
    "\n",
    "del my_list[1:5]"
   ]
  },
  {
   "cell_type": "code",
   "execution_count": 119,
   "id": "nearby-austria",
   "metadata": {},
   "outputs": [
    {
     "data": {
      "text/plain": [
       "['k', 'p', 'r']"
      ]
     },
     "execution_count": 119,
     "metadata": {},
     "output_type": "execute_result"
    }
   ],
   "source": [
    "my_list"
   ]
  },
  {
   "cell_type": "markdown",
   "id": "approximate-evans",
   "metadata": {},
   "source": [
    "* 3 - We know the element itself to delete -> **remove(element)**\n",
    "\n",
    "**remove(element)** removes the element from the list."
   ]
  },
  {
   "cell_type": "code",
   "execution_count": 120,
   "id": "convertible-mount",
   "metadata": {},
   "outputs": [
    {
     "data": {
      "text/plain": [
       "['k', 'l', 'm', 'n', 'o', 'p', 'r']"
      ]
     },
     "execution_count": 120,
     "metadata": {},
     "output_type": "execute_result"
    }
   ],
   "source": [
    "my_list = ['k', 'l', 'm', 'n', 'o', 'p', 'r']\n",
    "my_list"
   ]
  },
  {
   "cell_type": "code",
   "execution_count": 121,
   "id": "infinite-endorsement",
   "metadata": {},
   "outputs": [],
   "source": [
    "my_list.remove('m')"
   ]
  },
  {
   "cell_type": "code",
   "execution_count": 122,
   "id": "tired-blond",
   "metadata": {},
   "outputs": [
    {
     "data": {
      "text/plain": [
       "['k', 'l', 'n', 'o', 'p', 'r']"
      ]
     },
     "execution_count": 122,
     "metadata": {},
     "output_type": "execute_result"
    }
   ],
   "source": [
    "my_list"
   ]
  },
  {
   "cell_type": "code",
   "execution_count": 123,
   "id": "brief-acceptance",
   "metadata": {},
   "outputs": [],
   "source": [
    "my_list.remove('o')\n",
    "my_list.remove('r')"
   ]
  },
  {
   "cell_type": "code",
   "execution_count": 124,
   "id": "strange-right",
   "metadata": {},
   "outputs": [
    {
     "data": {
      "text/plain": [
       "['k', 'l', 'n', 'p']"
      ]
     },
     "execution_count": 124,
     "metadata": {},
     "output_type": "execute_result"
    }
   ],
   "source": [
    "my_list"
   ]
  },
  {
   "cell_type": "code",
   "execution_count": 125,
   "id": "burning-source",
   "metadata": {},
   "outputs": [
    {
     "ename": "ValueError",
     "evalue": "list.remove(x): x not in list",
     "output_type": "error",
     "traceback": [
      "\u001b[1;31m---------------------------------------------------------------------------\u001b[0m",
      "\u001b[1;31mValueError\u001b[0m                                Traceback (most recent call last)",
      "\u001b[1;32m<ipython-input-125-8ee2bb5f169e>\u001b[0m in \u001b[0;36m<module>\u001b[1;34m\u001b[0m\n\u001b[1;32m----> 1\u001b[1;33m \u001b[0mmy_list\u001b[0m\u001b[1;33m.\u001b[0m\u001b[0mremove\u001b[0m\u001b[1;33m(\u001b[0m\u001b[1;34m'x'\u001b[0m\u001b[1;33m)\u001b[0m\u001b[1;33m\u001b[0m\u001b[1;33m\u001b[0m\u001b[0m\n\u001b[0m",
      "\u001b[1;31mValueError\u001b[0m: list.remove(x): x not in list"
     ]
    }
   ],
   "source": [
    "my_list.remove('x')"
   ]
  },
  {
   "cell_type": "code",
   "execution_count": 126,
   "id": "acting-traffic",
   "metadata": {},
   "outputs": [
    {
     "ename": "ValueError",
     "evalue": "list.remove(x): x not in list",
     "output_type": "error",
     "traceback": [
      "\u001b[1;31m---------------------------------------------------------------------------\u001b[0m",
      "\u001b[1;31mValueError\u001b[0m                                Traceback (most recent call last)",
      "\u001b[1;32m<ipython-input-126-68e8495b4fcc>\u001b[0m in \u001b[0;36m<module>\u001b[1;34m\u001b[0m\n\u001b[1;32m----> 1\u001b[1;33m \u001b[0mmy_list\u001b[0m\u001b[1;33m.\u001b[0m\u001b[0mremove\u001b[0m\u001b[1;33m(\u001b[0m\u001b[1;34m'a'\u001b[0m\u001b[1;33m)\u001b[0m\u001b[1;33m\u001b[0m\u001b[1;33m\u001b[0m\u001b[0m\n\u001b[0m",
      "\u001b[1;31mValueError\u001b[0m: list.remove(x): x not in list"
     ]
    }
   ],
   "source": [
    "my_list.remove('a')"
   ]
  },
  {
   "cell_type": "markdown",
   "id": "endless-agenda",
   "metadata": {},
   "source": [
    "## List & String"
   ]
  },
  {
   "cell_type": "markdown",
   "id": "sharing-touch",
   "metadata": {},
   "source": [
    "String is a sequence of characters.\n",
    "\n",
    "List is a sequence of values."
   ]
  },
  {
   "cell_type": "markdown",
   "id": "rapid-photograph",
   "metadata": {},
   "source": [
    "To convert a String into a List -> `list()`"
   ]
  },
  {
   "cell_type": "code",
   "execution_count": 2,
   "id": "corrected-adventure",
   "metadata": {},
   "outputs": [
    {
     "data": {
      "text/plain": [
       "'Monday'"
      ]
     },
     "execution_count": 2,
     "metadata": {},
     "output_type": "execute_result"
    }
   ],
   "source": [
    "day = 'Monday'\n",
    "day"
   ]
  },
  {
   "cell_type": "code",
   "execution_count": 3,
   "id": "outer-aruba",
   "metadata": {},
   "outputs": [
    {
     "data": {
      "text/plain": [
       "str"
      ]
     },
     "execution_count": 3,
     "metadata": {},
     "output_type": "execute_result"
    }
   ],
   "source": [
    "type(day)"
   ]
  },
  {
   "cell_type": "code",
   "execution_count": 4,
   "id": "educated-keyboard",
   "metadata": {},
   "outputs": [
    {
     "data": {
      "text/plain": [
       "['M', 'o', 'n', 'd', 'a', 'y']"
      ]
     },
     "execution_count": 4,
     "metadata": {},
     "output_type": "execute_result"
    }
   ],
   "source": [
    "day_letters = list(day)\n",
    "day_letters"
   ]
  },
  {
   "cell_type": "code",
   "execution_count": 5,
   "id": "considered-essence",
   "metadata": {},
   "outputs": [
    {
     "data": {
      "text/plain": [
       "list"
      ]
     },
     "execution_count": 5,
     "metadata": {},
     "output_type": "execute_result"
    }
   ],
   "source": [
    "type(day_letters)"
   ]
  },
  {
   "cell_type": "code",
   "execution_count": 131,
   "id": "distinct-shoot",
   "metadata": {},
   "outputs": [],
   "source": [
    "# define a variable with python name\n",
    "\n",
    "# list = [1, 2, 3]"
   ]
  },
  {
   "cell_type": "code",
   "execution_count": 132,
   "id": "retired-hypothesis",
   "metadata": {},
   "outputs": [
    {
     "data": {
      "text/plain": [
       "[1, 2, 3]"
      ]
     },
     "execution_count": 132,
     "metadata": {},
     "output_type": "execute_result"
    }
   ],
   "source": [
    "list"
   ]
  },
  {
   "cell_type": "code",
   "execution_count": 135,
   "id": "coordinate-snapshot",
   "metadata": {},
   "outputs": [
    {
     "ename": "TypeError",
     "evalue": "'list' object is not callable",
     "output_type": "error",
     "traceback": [
      "\u001b[1;31m---------------------------------------------------------------------------\u001b[0m",
      "\u001b[1;31mTypeError\u001b[0m                                 Traceback (most recent call last)",
      "\u001b[1;32m<ipython-input-135-5ada83bf475f>\u001b[0m in \u001b[0;36m<module>\u001b[1;34m\u001b[0m\n\u001b[0;32m      3\u001b[0m \u001b[1;31m# to fix it -> restart the kernel\u001b[0m\u001b[1;33m\u001b[0m\u001b[1;33m\u001b[0m\u001b[1;33m\u001b[0m\u001b[0m\n\u001b[0;32m      4\u001b[0m \u001b[1;33m\u001b[0m\u001b[0m\n\u001b[1;32m----> 5\u001b[1;33m \u001b[0mday_letters\u001b[0m \u001b[1;33m=\u001b[0m \u001b[0mlist\u001b[0m\u001b[1;33m(\u001b[0m\u001b[0mday\u001b[0m\u001b[1;33m)\u001b[0m\u001b[1;33m\u001b[0m\u001b[1;33m\u001b[0m\u001b[0m\n\u001b[0m",
      "\u001b[1;31mTypeError\u001b[0m: 'list' object is not callable"
     ]
    }
   ],
   "source": [
    "# call list constructor -> error\n",
    "# we have override the constructor\n",
    "# to fix it -> restart the kernel\n",
    "\n",
    "day_letters = list(day)"
   ]
  },
  {
   "cell_type": "code",
   "execution_count": 6,
   "id": "relevant-refund",
   "metadata": {},
   "outputs": [
    {
     "data": {
      "text/plain": [
       "'today is another day'"
      ]
     },
     "execution_count": 6,
     "metadata": {},
     "output_type": "execute_result"
    }
   ],
   "source": [
    "text = 'today is another day'\n",
    "text"
   ]
  },
  {
   "cell_type": "markdown",
   "id": "cleared-dress",
   "metadata": {},
   "source": [
    "**split():**"
   ]
  },
  {
   "cell_type": "code",
   "execution_count": 7,
   "id": "positive-advocacy",
   "metadata": {},
   "outputs": [],
   "source": [
    "# get the words -> split()\n",
    "\n",
    "words = text.split()"
   ]
  },
  {
   "cell_type": "code",
   "execution_count": 8,
   "id": "light-document",
   "metadata": {},
   "outputs": [
    {
     "data": {
      "text/plain": [
       "['today', 'is', 'another', 'day']"
      ]
     },
     "execution_count": 8,
     "metadata": {},
     "output_type": "execute_result"
    }
   ],
   "source": [
    "words"
   ]
  },
  {
   "cell_type": "code",
   "execution_count": 9,
   "id": "amateur-publication",
   "metadata": {},
   "outputs": [
    {
     "data": {
      "text/plain": [
       "list"
      ]
     },
     "execution_count": 9,
     "metadata": {},
     "output_type": "execute_result"
    }
   ],
   "source": [
    "type(words)"
   ]
  },
  {
   "cell_type": "code",
   "execution_count": 11,
   "id": "communist-constitutional",
   "metadata": {},
   "outputs": [
    {
     "data": {
      "text/plain": [
       "'spam-spam-ham-spam-ham'"
      ]
     },
     "execution_count": 11,
     "metadata": {},
     "output_type": "execute_result"
    }
   ],
   "source": [
    "# split from another char -> -\n",
    "\n",
    "mailbox = 'spam-spam-ham-spam-ham'\n",
    "mailbox"
   ]
  },
  {
   "cell_type": "code",
   "execution_count": 12,
   "id": "thick-segment",
   "metadata": {},
   "outputs": [
    {
     "data": {
      "text/plain": [
       "['spam', 'spam', 'ham', 'spam', 'ham']"
      ]
     },
     "execution_count": 12,
     "metadata": {},
     "output_type": "execute_result"
    }
   ],
   "source": [
    "mails = mailbox.split('-')\n",
    "mails"
   ]
  },
  {
   "cell_type": "markdown",
   "id": "covered-walker",
   "metadata": {},
   "source": [
    "**join():**\n",
    "\n",
    "Opposite of split."
   ]
  },
  {
   "cell_type": "code",
   "execution_count": 13,
   "id": "hourly-internship",
   "metadata": {},
   "outputs": [
    {
     "data": {
      "text/plain": [
       "['monday', 'is', 'the', 'first', 'day']"
      ]
     },
     "execution_count": 13,
     "metadata": {},
     "output_type": "execute_result"
    }
   ],
   "source": [
    "words = ['monday', 'is', 'the', 'first', 'day']\n",
    "words"
   ]
  },
  {
   "cell_type": "code",
   "execution_count": 15,
   "id": "proud-advantage",
   "metadata": {},
   "outputs": [
    {
     "data": {
      "text/plain": [
       "'monday-is-the-first-day'"
      ]
     },
     "execution_count": 15,
     "metadata": {},
     "output_type": "execute_result"
    }
   ],
   "source": [
    "# join() is a string method\n",
    "\n",
    "sentence = '-'.join(words)\n",
    "sentence"
   ]
  },
  {
   "cell_type": "code",
   "execution_count": 16,
   "id": "junior-communist",
   "metadata": {},
   "outputs": [
    {
     "data": {
      "text/plain": [
       "'monday is the first day'"
      ]
     },
     "execution_count": 16,
     "metadata": {},
     "output_type": "execute_result"
    }
   ],
   "source": [
    "sentence = ' '.join(words)\n",
    "sentence"
   ]
  },
  {
   "cell_type": "markdown",
   "id": "chinese-furniture",
   "metadata": {},
   "source": [
    "`join() is opposite of split()`"
   ]
  },
  {
   "cell_type": "markdown",
   "id": "looking-plane",
   "metadata": {},
   "source": [
    "## Creating a List with Range Function"
   ]
  },
  {
   "cell_type": "code",
   "execution_count": 17,
   "id": "applicable-problem",
   "metadata": {},
   "outputs": [
    {
     "data": {
      "text/plain": [
       "range(1, 10, 2)"
      ]
     },
     "execution_count": 17,
     "metadata": {},
     "output_type": "execute_result"
    }
   ],
   "source": [
    "range(1, 10, 2)"
   ]
  },
  {
   "cell_type": "code",
   "execution_count": 18,
   "id": "naval-gates",
   "metadata": {},
   "outputs": [
    {
     "name": "stdout",
     "output_type": "stream",
     "text": [
      "1\n",
      "3\n",
      "5\n",
      "7\n",
      "9\n"
     ]
    }
   ],
   "source": [
    "for i in range(1, 10, 2):\n",
    "    print(i)"
   ]
  },
  {
   "cell_type": "code",
   "execution_count": 19,
   "id": "pediatric-anthony",
   "metadata": {},
   "outputs": [],
   "source": [
    "# we need numbers from 2 up to 30 and the step size 3\n",
    "\n",
    "# my_list = [2, 5, 8, 11, ... , 30]"
   ]
  },
  {
   "cell_type": "code",
   "execution_count": 26,
   "id": "dress-general",
   "metadata": {},
   "outputs": [],
   "source": [
    "\n",
    "my_range = range(2, 33, 3)\n"
   ]
  },
  {
   "cell_type": "code",
   "execution_count": 27,
   "id": "prescription-ending",
   "metadata": {},
   "outputs": [
    {
     "data": {
      "text/plain": [
       "[2, 5, 8, 11, 14, 17, 20, 23, 26, 29, 32]"
      ]
     },
     "execution_count": 27,
     "metadata": {},
     "output_type": "execute_result"
    }
   ],
   "source": [
    "range_list = list(my_range)\n",
    "\n",
    "range_list"
   ]
  },
  {
   "cell_type": "code",
   "execution_count": 28,
   "id": "fatty-villa",
   "metadata": {},
   "outputs": [],
   "source": [
    "# start from 2 up to  100, step size 4\n",
    "\n",
    "range_two = range(2, 100, 4)"
   ]
  },
  {
   "cell_type": "code",
   "execution_count": 29,
   "id": "certified-bench",
   "metadata": {},
   "outputs": [
    {
     "data": {
      "text/plain": [
       "[2,\n",
       " 6,\n",
       " 10,\n",
       " 14,\n",
       " 18,\n",
       " 22,\n",
       " 26,\n",
       " 30,\n",
       " 34,\n",
       " 38,\n",
       " 42,\n",
       " 46,\n",
       " 50,\n",
       " 54,\n",
       " 58,\n",
       " 62,\n",
       " 66,\n",
       " 70,\n",
       " 74,\n",
       " 78,\n",
       " 82,\n",
       " 86,\n",
       " 90,\n",
       " 94,\n",
       " 98]"
      ]
     },
     "execution_count": 29,
     "metadata": {},
     "output_type": "execute_result"
    }
   ],
   "source": [
    "list(range_two)"
   ]
  },
  {
   "cell_type": "code",
   "execution_count": 30,
   "id": "expensive-formation",
   "metadata": {},
   "outputs": [
    {
     "data": {
      "text/plain": [
       "[2,\n",
       " 6,\n",
       " 10,\n",
       " 14,\n",
       " 18,\n",
       " 22,\n",
       " 26,\n",
       " 30,\n",
       " 34,\n",
       " 38,\n",
       " 42,\n",
       " 46,\n",
       " 50,\n",
       " 54,\n",
       " 58,\n",
       " 62,\n",
       " 66,\n",
       " 70,\n",
       " 74,\n",
       " 78,\n",
       " 82,\n",
       " 86,\n",
       " 90,\n",
       " 94,\n",
       " 98]"
      ]
     },
     "execution_count": 30,
     "metadata": {},
     "output_type": "execute_result"
    }
   ],
   "source": [
    "list(range(2, 100, 4))"
   ]
  },
  {
   "cell_type": "markdown",
   "id": "transsexual-ability",
   "metadata": {},
   "source": [
    "## Objects and Values"
   ]
  },
  {
   "cell_type": "code",
   "execution_count": 31,
   "id": "statewide-western",
   "metadata": {},
   "outputs": [],
   "source": [
    "# Strings\n",
    "\n",
    "a = 'apple'\n",
    "\n",
    "b = 'apple'"
   ]
  },
  {
   "cell_type": "code",
   "execution_count": 32,
   "id": "unusual-joint",
   "metadata": {},
   "outputs": [
    {
     "data": {
      "text/plain": [
       "1754405759984"
      ]
     },
     "execution_count": 32,
     "metadata": {},
     "output_type": "execute_result"
    }
   ],
   "source": [
    "id(a)"
   ]
  },
  {
   "cell_type": "code",
   "execution_count": 33,
   "id": "concerned-withdrawal",
   "metadata": {},
   "outputs": [
    {
     "data": {
      "text/plain": [
       "1754405759984"
      ]
     },
     "execution_count": 33,
     "metadata": {},
     "output_type": "execute_result"
    }
   ],
   "source": [
    "id(b)"
   ]
  },
  {
   "cell_type": "code",
   "execution_count": 35,
   "id": "structural-entertainment",
   "metadata": {},
   "outputs": [
    {
     "data": {
      "text/plain": [
       "True"
      ]
     },
     "execution_count": 35,
     "metadata": {},
     "output_type": "execute_result"
    }
   ],
   "source": [
    "# equaity check\n",
    "\n",
    "a == b"
   ]
  },
  {
   "cell_type": "code",
   "execution_count": 37,
   "id": "continental-precipitation",
   "metadata": {},
   "outputs": [
    {
     "data": {
      "text/plain": [
       "True"
      ]
     },
     "execution_count": 37,
     "metadata": {},
     "output_type": "execute_result"
    }
   ],
   "source": [
    "# identity check\n",
    "\n",
    "id(a) == id(b)"
   ]
  },
  {
   "cell_type": "markdown",
   "id": "muslim-costume",
   "metadata": {},
   "source": [
    "In Python these two varibles:\n",
    "\n",
    "a and b\n",
    "* have the same values\n",
    "* they are **Immutable** (str)\n",
    "\n",
    "Since their values are the same, and they are Immutable,\n",
    "\n",
    "Pyhton did not created two seprate varibles, instead it assign both to the same address.\n",
    "\n",
    "To save memory."
   ]
  },
  {
   "cell_type": "code",
   "execution_count": 38,
   "id": "south-recommendation",
   "metadata": {},
   "outputs": [
    {
     "data": {
      "text/plain": [
       "'orange'"
      ]
     },
     "execution_count": 38,
     "metadata": {},
     "output_type": "execute_result"
    }
   ],
   "source": [
    "b = 'orange'\n",
    "b"
   ]
  },
  {
   "cell_type": "code",
   "execution_count": 39,
   "id": "absent-wednesday",
   "metadata": {},
   "outputs": [
    {
     "data": {
      "text/plain": [
       "1754405759984"
      ]
     },
     "execution_count": 39,
     "metadata": {},
     "output_type": "execute_result"
    }
   ],
   "source": [
    "id(a)"
   ]
  },
  {
   "cell_type": "code",
   "execution_count": 40,
   "id": "southern-elements",
   "metadata": {},
   "outputs": [
    {
     "data": {
      "text/plain": [
       "1754405735344"
      ]
     },
     "execution_count": 40,
     "metadata": {},
     "output_type": "execute_result"
    }
   ],
   "source": [
    "id(b)"
   ]
  },
  {
   "cell_type": "markdown",
   "id": "metallic-baker",
   "metadata": {},
   "source": [
    "From now on, a and b are NOT the same variable.\n",
    "\n",
    "Since we changed the value of b, Python has created a new address (id) for b."
   ]
  },
  {
   "cell_type": "code",
   "execution_count": 41,
   "id": "upset-bridges",
   "metadata": {},
   "outputs": [
    {
     "data": {
      "text/plain": [
       "False"
      ]
     },
     "execution_count": 41,
     "metadata": {},
     "output_type": "execute_result"
    }
   ],
   "source": [
    "a == b"
   ]
  },
  {
   "cell_type": "code",
   "execution_count": 42,
   "id": "danish-amino",
   "metadata": {},
   "outputs": [
    {
     "data": {
      "text/plain": [
       "False"
      ]
     },
     "execution_count": 42,
     "metadata": {},
     "output_type": "execute_result"
    }
   ],
   "source": [
    "id(a) == id(b)"
   ]
  },
  {
   "cell_type": "code",
   "execution_count": 43,
   "id": "modified-jewel",
   "metadata": {},
   "outputs": [],
   "source": [
    "# Lists\n",
    "\n",
    "x = [1, 2, 3]\n",
    "\n",
    "y = [1, 2, 3]"
   ]
  },
  {
   "cell_type": "code",
   "execution_count": 44,
   "id": "excess-theta",
   "metadata": {},
   "outputs": [
    {
     "name": "stdout",
     "output_type": "stream",
     "text": [
      "[1, 2, 3]\n",
      "[1, 2, 3]\n"
     ]
    }
   ],
   "source": [
    "print(x)\n",
    "print(y)"
   ]
  },
  {
   "cell_type": "code",
   "execution_count": 45,
   "id": "eight-humanitarian",
   "metadata": {},
   "outputs": [
    {
     "data": {
      "text/plain": [
       "True"
      ]
     },
     "execution_count": 45,
     "metadata": {},
     "output_type": "execute_result"
    }
   ],
   "source": [
    "# == -> checks for values\n",
    "\n",
    "x == y"
   ]
  },
  {
   "cell_type": "code",
   "execution_count": 46,
   "id": "moderate-stockholm",
   "metadata": {},
   "outputs": [
    {
     "data": {
      "text/plain": [
       "1754405664192"
      ]
     },
     "execution_count": 46,
     "metadata": {},
     "output_type": "execute_result"
    }
   ],
   "source": [
    "id(x)"
   ]
  },
  {
   "cell_type": "code",
   "execution_count": 47,
   "id": "distinguished-congo",
   "metadata": {},
   "outputs": [
    {
     "data": {
      "text/plain": [
       "1754405708096"
      ]
     },
     "execution_count": 47,
     "metadata": {},
     "output_type": "execute_result"
    }
   ],
   "source": [
    "id(y)"
   ]
  },
  {
   "cell_type": "code",
   "execution_count": 48,
   "id": "fundamental-runner",
   "metadata": {},
   "outputs": [
    {
     "data": {
      "text/plain": [
       "True"
      ]
     },
     "execution_count": 48,
     "metadata": {},
     "output_type": "execute_result"
    }
   ],
   "source": [
    "x == y"
   ]
  },
  {
   "cell_type": "code",
   "execution_count": 50,
   "id": "thirty-richards",
   "metadata": {},
   "outputs": [
    {
     "data": {
      "text/plain": [
       "False"
      ]
     },
     "execution_count": 50,
     "metadata": {},
     "output_type": "execute_result"
    }
   ],
   "source": [
    "# id(x) == id(y) -> object equality (not value)\n",
    "\n",
    "id(x) == id(y)"
   ]
  },
  {
   "cell_type": "markdown",
   "id": "regulated-screening",
   "metadata": {},
   "source": [
    "\n",
    "**x == y** check -> equality\n",
    "\n",
    "    * it checks values of two variables \n",
    "\n",
    "\n",
    "**id(x) == id(y)** check -> identical\n",
    "\n",
    "    * it checks two objects (address - id)"
   ]
  },
  {
   "cell_type": "markdown",
   "id": "durable-clause",
   "metadata": {},
   "source": [
    "## is Statement"
   ]
  },
  {
   "cell_type": "markdown",
   "id": "afraid-manner",
   "metadata": {},
   "source": [
    "<pre>\n",
    "x == y           -> Value Comparison (Equality)\n",
    "\n",
    "id(x) == id(y)   -> Object Comparison (Identical)\n",
    "</pre>"
   ]
  },
  {
   "cell_type": "code",
   "execution_count": 52,
   "id": "binary-checkout",
   "metadata": {},
   "outputs": [],
   "source": [
    "a = [1, 2, 3, 4, 5]\n",
    "\n",
    "b = [1, 2, 3, 4, 5]"
   ]
  },
  {
   "cell_type": "code",
   "execution_count": 53,
   "id": "derived-migration",
   "metadata": {},
   "outputs": [
    {
     "data": {
      "text/plain": [
       "True"
      ]
     },
     "execution_count": 53,
     "metadata": {},
     "output_type": "execute_result"
    }
   ],
   "source": [
    "# values of a and b\n",
    "\n",
    "a == b"
   ]
  },
  {
   "cell_type": "code",
   "execution_count": 54,
   "id": "christian-facing",
   "metadata": {},
   "outputs": [
    {
     "data": {
      "text/plain": [
       "False"
      ]
     },
     "execution_count": 54,
     "metadata": {},
     "output_type": "execute_result"
    }
   ],
   "source": [
    "id(a) == id(b)"
   ]
  },
  {
   "cell_type": "code",
   "execution_count": 56,
   "id": "political-pontiac",
   "metadata": {},
   "outputs": [
    {
     "data": {
      "text/plain": [
       "False"
      ]
     },
     "execution_count": 56,
     "metadata": {},
     "output_type": "execute_result"
    }
   ],
   "source": [
    "# is\n",
    "\n",
    "# identical\n",
    "a is b"
   ]
  },
  {
   "cell_type": "code",
   "execution_count": 57,
   "id": "rolled-failing",
   "metadata": {},
   "outputs": [
    {
     "data": {
      "text/plain": [
       "True"
      ]
     },
     "execution_count": 57,
     "metadata": {},
     "output_type": "execute_result"
    }
   ],
   "source": [
    "s1 = 'computer'\n",
    "s2 = 'computer'\n",
    "\n",
    "s1 == s2"
   ]
  },
  {
   "cell_type": "code",
   "execution_count": 59,
   "id": "falling-castle",
   "metadata": {},
   "outputs": [
    {
     "data": {
      "text/plain": [
       "True"
      ]
     },
     "execution_count": 59,
     "metadata": {},
     "output_type": "execute_result"
    }
   ],
   "source": [
    "s1 is s2"
   ]
  },
  {
   "cell_type": "code",
   "execution_count": 60,
   "id": "present-remark",
   "metadata": {},
   "outputs": [],
   "source": [
    "s2 = 'computer2'"
   ]
  },
  {
   "cell_type": "code",
   "execution_count": 61,
   "id": "emotional-nickel",
   "metadata": {},
   "outputs": [
    {
     "data": {
      "text/plain": [
       "False"
      ]
     },
     "execution_count": 61,
     "metadata": {},
     "output_type": "execute_result"
    }
   ],
   "source": [
    "s1 is s2"
   ]
  },
  {
   "cell_type": "code",
   "execution_count": 62,
   "id": "beautiful-nicaragua",
   "metadata": {},
   "outputs": [],
   "source": [
    "a = 2\n",
    "\n",
    "b = 2"
   ]
  },
  {
   "cell_type": "code",
   "execution_count": 64,
   "id": "consecutive-lincoln",
   "metadata": {},
   "outputs": [
    {
     "data": {
      "text/plain": [
       "True"
      ]
     },
     "execution_count": 64,
     "metadata": {},
     "output_type": "execute_result"
    }
   ],
   "source": [
    "# int is Immutable\n",
    "\n",
    "a is b"
   ]
  },
  {
   "cell_type": "code",
   "execution_count": 65,
   "id": "empirical-morgan",
   "metadata": {},
   "outputs": [],
   "source": [
    "b = 3"
   ]
  },
  {
   "cell_type": "code",
   "execution_count": 66,
   "id": "recorded-exchange",
   "metadata": {},
   "outputs": [
    {
     "data": {
      "text/plain": [
       "False"
      ]
     },
     "execution_count": 66,
     "metadata": {},
     "output_type": "execute_result"
    }
   ],
   "source": [
    "a is b"
   ]
  },
  {
   "cell_type": "markdown",
   "id": "fresh-prior",
   "metadata": {},
   "source": [
    "## Aliasing"
   ]
  },
  {
   "cell_type": "markdown",
   "id": "contained-brake",
   "metadata": {},
   "source": [
    "Aliasing means different names referring the same object.\n",
    "\n",
    "x  ----------------> Object A\n",
    "\n",
    "y  ----------------> Object A\n",
    "\n",
    "Since x and y refers to the same object (A) they are aliases."
   ]
  },
  {
   "cell_type": "markdown",
   "id": "improving-liberty",
   "metadata": {},
   "source": [
    "**In Python Types are:**\n",
    "\n",
    "* Primitive Types: int, float, string, bool\n",
    "\n",
    "* Non-Primitive Types: list, dict, tuple, ..."
   ]
  },
  {
   "cell_type": "markdown",
   "id": "unnecessary-skirt",
   "metadata": {},
   "source": [
    "**Primitive Types:**"
   ]
  },
  {
   "cell_type": "code",
   "execution_count": 68,
   "id": "together-prayer",
   "metadata": {},
   "outputs": [],
   "source": [
    "x = 24\n",
    "\n",
    "y = x"
   ]
  },
  {
   "cell_type": "code",
   "execution_count": 69,
   "id": "decimal-interest",
   "metadata": {},
   "outputs": [
    {
     "data": {
      "text/plain": [
       "True"
      ]
     },
     "execution_count": 69,
     "metadata": {},
     "output_type": "execute_result"
    }
   ],
   "source": [
    "x == y"
   ]
  },
  {
   "cell_type": "code",
   "execution_count": 70,
   "id": "spanish-entrance",
   "metadata": {},
   "outputs": [
    {
     "data": {
      "text/plain": [
       "True"
      ]
     },
     "execution_count": 70,
     "metadata": {},
     "output_type": "execute_result"
    }
   ],
   "source": [
    "x is y"
   ]
  },
  {
   "cell_type": "code",
   "execution_count": 71,
   "id": "upper-arkansas",
   "metadata": {},
   "outputs": [],
   "source": [
    "# reassign y\n",
    "\n",
    "y = 40"
   ]
  },
  {
   "cell_type": "code",
   "execution_count": 72,
   "id": "consistent-opera",
   "metadata": {},
   "outputs": [
    {
     "data": {
      "text/plain": [
       "24"
      ]
     },
     "execution_count": 72,
     "metadata": {},
     "output_type": "execute_result"
    }
   ],
   "source": [
    "x"
   ]
  },
  {
   "cell_type": "code",
   "execution_count": 73,
   "id": "copyrighted-hollow",
   "metadata": {},
   "outputs": [
    {
     "data": {
      "text/plain": [
       "False"
      ]
     },
     "execution_count": 73,
     "metadata": {},
     "output_type": "execute_result"
    }
   ],
   "source": [
    "x == y"
   ]
  },
  {
   "cell_type": "code",
   "execution_count": 74,
   "id": "broad-secretariat",
   "metadata": {},
   "outputs": [
    {
     "data": {
      "text/plain": [
       "False"
      ]
     },
     "execution_count": 74,
     "metadata": {},
     "output_type": "execute_result"
    }
   ],
   "source": [
    "x is y"
   ]
  },
  {
   "cell_type": "markdown",
   "id": "presidential-serum",
   "metadata": {},
   "source": [
    "**Non-Primitive Types:**"
   ]
  },
  {
   "cell_type": "code",
   "execution_count": 75,
   "id": "assured-oliver",
   "metadata": {},
   "outputs": [],
   "source": [
    "a = [1, 2, 3, 4, 5, 6]\n",
    "\n",
    "b = a"
   ]
  },
  {
   "cell_type": "code",
   "execution_count": 77,
   "id": "filled-benjamin",
   "metadata": {},
   "outputs": [
    {
     "data": {
      "text/plain": [
       "True"
      ]
     },
     "execution_count": 77,
     "metadata": {},
     "output_type": "execute_result"
    }
   ],
   "source": [
    "# equality check\n",
    "\n",
    "a == b"
   ]
  },
  {
   "cell_type": "code",
   "execution_count": 78,
   "id": "invisible-logan",
   "metadata": {},
   "outputs": [
    {
     "data": {
      "text/plain": [
       "True"
      ]
     },
     "execution_count": 78,
     "metadata": {},
     "output_type": "execute_result"
    }
   ],
   "source": [
    "# identical check\n",
    "\n",
    "a is b"
   ]
  },
  {
   "cell_type": "code",
   "execution_count": 79,
   "id": "british-department",
   "metadata": {},
   "outputs": [
    {
     "name": "stdout",
     "output_type": "stream",
     "text": [
      "a: [1, 2, 3, 4, 5, 6]\n",
      "b: [1, 2, 3, 4, 5, 6]\n"
     ]
    }
   ],
   "source": [
    "print('a:', a)\n",
    "print('b:', b)"
   ]
  },
  {
   "cell_type": "markdown",
   "id": "israeli-graphics",
   "metadata": {},
   "source": [
    "Non-Primitive Type -> Reassignment"
   ]
  },
  {
   "cell_type": "code",
   "execution_count": 81,
   "id": "analyzed-salvation",
   "metadata": {},
   "outputs": [],
   "source": [
    "b = [10, 20, 30, 40, 50, 60]"
   ]
  },
  {
   "cell_type": "code",
   "execution_count": 82,
   "id": "brave-activity",
   "metadata": {},
   "outputs": [
    {
     "name": "stdout",
     "output_type": "stream",
     "text": [
      "a: [1, 2, 3, 4, 5, 6]\n",
      "b: [10, 20, 30, 40, 50, 60]\n"
     ]
    }
   ],
   "source": [
    "print('a:', a)\n",
    "print('b:', b)"
   ]
  },
  {
   "cell_type": "markdown",
   "id": "center-healthcare",
   "metadata": {},
   "source": [
    "What if we **mutate** b?"
   ]
  },
  {
   "cell_type": "code",
   "execution_count": 83,
   "id": "under-acting",
   "metadata": {},
   "outputs": [],
   "source": [
    "a = [1, 2, 3, 4, 5, 6]\n",
    "\n",
    "b = a"
   ]
  },
  {
   "cell_type": "code",
   "execution_count": 84,
   "id": "breathing-reply",
   "metadata": {},
   "outputs": [
    {
     "data": {
      "text/plain": [
       "True"
      ]
     },
     "execution_count": 84,
     "metadata": {},
     "output_type": "execute_result"
    }
   ],
   "source": [
    "a == b"
   ]
  },
  {
   "cell_type": "code",
   "execution_count": 85,
   "id": "arranged-direction",
   "metadata": {},
   "outputs": [
    {
     "data": {
      "text/plain": [
       "True"
      ]
     },
     "execution_count": 85,
     "metadata": {},
     "output_type": "execute_result"
    }
   ],
   "source": [
    "a is b"
   ]
  },
  {
   "cell_type": "code",
   "execution_count": 86,
   "id": "written-queue",
   "metadata": {},
   "outputs": [
    {
     "data": {
      "text/plain": [
       "[1, 2, 3, 4, 5, 6]"
      ]
     },
     "execution_count": 86,
     "metadata": {},
     "output_type": "execute_result"
    }
   ],
   "source": [
    "b"
   ]
  },
  {
   "cell_type": "code",
   "execution_count": 87,
   "id": "communist-command",
   "metadata": {},
   "outputs": [],
   "source": [
    "# mutate b\n",
    "\n",
    "b[0] = 'A'\n",
    "b[1] = 'B'"
   ]
  },
  {
   "cell_type": "code",
   "execution_count": 88,
   "id": "textile-authorization",
   "metadata": {},
   "outputs": [
    {
     "data": {
      "text/plain": [
       "['A', 'B', 3, 4, 5, 6]"
      ]
     },
     "execution_count": 88,
     "metadata": {},
     "output_type": "execute_result"
    }
   ],
   "source": [
    "b"
   ]
  },
  {
   "cell_type": "code",
   "execution_count": 89,
   "id": "trying-cycle",
   "metadata": {},
   "outputs": [
    {
     "data": {
      "text/plain": [
       "['A', 'B', 3, 4, 5, 6]"
      ]
     },
     "execution_count": 89,
     "metadata": {},
     "output_type": "execute_result"
    }
   ],
   "source": [
    "# a has been mutated\n",
    "\n",
    "a"
   ]
  },
  {
   "cell_type": "code",
   "execution_count": 90,
   "id": "everyday-portland",
   "metadata": {},
   "outputs": [
    {
     "name": "stdout",
     "output_type": "stream",
     "text": [
      "a: ['A', 'B', 3, 4, 5, 6]\n",
      "b: ['A', 'B', 3, 4, 5, 6]\n"
     ]
    }
   ],
   "source": [
    "print('a:', a)\n",
    "print('b:', b)"
   ]
  },
  {
   "cell_type": "code",
   "execution_count": 91,
   "id": "honey-coordinate",
   "metadata": {},
   "outputs": [
    {
     "data": {
      "text/plain": [
       "True"
      ]
     },
     "execution_count": 91,
     "metadata": {},
     "output_type": "execute_result"
    }
   ],
   "source": [
    "a == b"
   ]
  },
  {
   "cell_type": "code",
   "execution_count": 92,
   "id": "biblical-explosion",
   "metadata": {},
   "outputs": [
    {
     "data": {
      "text/plain": [
       "True"
      ]
     },
     "execution_count": 92,
     "metadata": {},
     "output_type": "execute_result"
    }
   ],
   "source": [
    "a is b"
   ]
  },
  {
   "cell_type": "markdown",
   "id": "wound-artwork",
   "metadata": {},
   "source": [
    "For **Mutabale** types **mutation** does not break aliasing.\n",
    "\n",
    "a and b are still the same  object, because we mutated b."
   ]
  },
  {
   "cell_type": "markdown",
   "id": "focused-butler",
   "metadata": {},
   "source": [
    "## List as Function Argument"
   ]
  },
  {
   "cell_type": "markdown",
   "id": "promotional-jerusalem",
   "metadata": {},
   "source": [
    "### Mutate the List inside the function"
   ]
  },
  {
   "cell_type": "code",
   "execution_count": 93,
   "id": "recreational-scale",
   "metadata": {},
   "outputs": [
    {
     "name": "stdout",
     "output_type": "stream",
     "text": [
      "before passing to function: ['a', 'b', 'c']\n",
      "before passing to function: ['a', 'A', 'b', 'B', 'c', 'C']\n"
     ]
    }
   ],
   "source": [
    "# Example\n",
    "\n",
    "letters = ['a', 'b', 'c']\n",
    "\n",
    "print(\"before passing to function:\", letters)\n",
    "\n",
    "\n",
    "def add_upper_cases(list_of_letters):\n",
    "    # mutation\n",
    "    list_of_letters.insert(1, 'A')\n",
    "    list_of_letters.insert(3, 'B')\n",
    "    list_of_letters.insert(5, 'C')\n",
    "    \n",
    "\n",
    "# call the function with the list\n",
    "add_upper_cases(letters)\n",
    "\n",
    "\n",
    "print(\"before passing to function:\", letters)"
   ]
  },
  {
   "cell_type": "code",
   "execution_count": 94,
   "id": "every-iraqi",
   "metadata": {},
   "outputs": [
    {
     "data": {
      "text/plain": [
       "['a', 'A', 'b', 'B', 'c', 'C']"
      ]
     },
     "execution_count": 94,
     "metadata": {},
     "output_type": "execute_result"
    }
   ],
   "source": [
    "letters"
   ]
  },
  {
   "cell_type": "markdown",
   "id": "powerful-blond",
   "metadata": {},
   "source": [
    "When you pass a Non-Primitive Type (List) as a function parameter:\n",
    "\n",
    "* the pass by reference (they pass as the same objcet)\n",
    "* if you mutate the parameter inside the function -> original list will be mutated"
   ]
  },
  {
   "cell_type": "markdown",
   "id": "quarterly-simpson",
   "metadata": {},
   "source": [
    "### Reassing the List inside the function"
   ]
  },
  {
   "cell_type": "code",
   "execution_count": 95,
   "id": "capable-interim",
   "metadata": {},
   "outputs": [
    {
     "name": "stdout",
     "output_type": "stream",
     "text": [
      "before passing to function: ['a', 'b', 'c']\n",
      "before passing to function: ['a', 'b', 'c']\n"
     ]
    }
   ],
   "source": [
    "# Example\n",
    "\n",
    "letters = ['a', 'b', 'c']\n",
    "\n",
    "print(\"before passing to function:\", letters)\n",
    "\n",
    "\n",
    "def add_upper_cases(list_of_letters):\n",
    "    # reassignment\n",
    "    list_of_letters = ['X', 'Y', 'Z']\n",
    "    \n",
    "\n",
    "# call the function with the list\n",
    "add_upper_cases(letters)\n",
    "\n",
    "\n",
    "print(\"before passing to function:\", letters)"
   ]
  },
  {
   "cell_type": "markdown",
   "id": "departmental-variation",
   "metadata": {},
   "source": [
    "When you pass a Non-Primitive Type (List) as a function parameter:\n",
    "\n",
    "* the pass by reference (they pass as the same objcet)\n",
    "* if you reassign the parameter inside the function -> \n",
    "    * Python will create a new list object inside the function\n",
    "    * original list will not be changed"
   ]
  },
  {
   "cell_type": "markdown",
   "id": "tight-operator",
   "metadata": {},
   "source": [
    "## Matrix Operations"
   ]
  },
  {
   "cell_type": "markdown",
   "id": "therapeutic-voltage",
   "metadata": {},
   "source": [
    "In Python, a list can include other lists (`nested lists`)."
   ]
  },
  {
   "cell_type": "markdown",
   "id": "false-leader",
   "metadata": {},
   "source": [
    "A Matrix in Math is just a nested list in Python."
   ]
  },
  {
   "cell_type": "markdown",
   "id": "completed-ministry",
   "metadata": {},
   "source": [
    "$$ A = \\begin{bmatrix} 1 & 2 & 3 \\\\ 4 & 5 & 6 \\\\ 7 & 8 & 9 \\end{bmatrix} $$\n",
    "                       \n",
    "$$ B = \\begin{bmatrix} 10 & 20 & 30 \\\\ \n",
    "                       40 & 50 & 60 \\\\\n",
    "                       70 & 80 & 90 \\end{bmatrix} $$"
   ]
  },
  {
   "cell_type": "code",
   "execution_count": 96,
   "id": "north-extraction",
   "metadata": {},
   "outputs": [],
   "source": [
    "A = [[1, 2, 3],\n",
    "     [4, 5, 6],\n",
    "     [7, 8, 9]]"
   ]
  },
  {
   "cell_type": "code",
   "execution_count": 97,
   "id": "experimental-campbell",
   "metadata": {},
   "outputs": [
    {
     "data": {
      "text/plain": [
       "[[1, 2, 3], [4, 5, 6], [7, 8, 9]]"
      ]
     },
     "execution_count": 97,
     "metadata": {},
     "output_type": "execute_result"
    }
   ],
   "source": [
    "A"
   ]
  },
  {
   "cell_type": "code",
   "execution_count": 98,
   "id": "meaningful-parker",
   "metadata": {},
   "outputs": [],
   "source": [
    "B = [[10, 20, 30],\n",
    "     [40, 50, 60],\n",
    "     [70, 80, 90]]"
   ]
  },
  {
   "cell_type": "code",
   "execution_count": 99,
   "id": "certified-amber",
   "metadata": {},
   "outputs": [
    {
     "data": {
      "text/plain": [
       "[[10, 20, 30], [40, 50, 60], [70, 80, 90]]"
      ]
     },
     "execution_count": 99,
     "metadata": {},
     "output_type": "execute_result"
    }
   ],
   "source": [
    "B"
   ]
  },
  {
   "cell_type": "code",
   "execution_count": 100,
   "id": "practical-rhythm",
   "metadata": {},
   "outputs": [
    {
     "data": {
      "text/plain": [
       "[1, 2, 3]"
      ]
     },
     "execution_count": 100,
     "metadata": {},
     "output_type": "execute_result"
    }
   ],
   "source": [
    "A[0]"
   ]
  },
  {
   "cell_type": "code",
   "execution_count": 101,
   "id": "confident-trinidad",
   "metadata": {},
   "outputs": [
    {
     "data": {
      "text/plain": [
       "[4, 5, 6]"
      ]
     },
     "execution_count": 101,
     "metadata": {},
     "output_type": "execute_result"
    }
   ],
   "source": [
    "A[1]"
   ]
  },
  {
   "cell_type": "code",
   "execution_count": 102,
   "id": "stylish-sarah",
   "metadata": {},
   "outputs": [
    {
     "data": {
      "text/plain": [
       "[10, 20, 30]"
      ]
     },
     "execution_count": 102,
     "metadata": {},
     "output_type": "execute_result"
    }
   ],
   "source": [
    "B[0]"
   ]
  },
  {
   "cell_type": "markdown",
   "id": "related-peter",
   "metadata": {},
   "source": [
    "**Matrix Addition:**\n",
    "\n",
    "C = A + B"
   ]
  },
  {
   "cell_type": "code",
   "execution_count": 103,
   "id": "latest-cedar",
   "metadata": {},
   "outputs": [],
   "source": [
    "C = A + B"
   ]
  },
  {
   "cell_type": "code",
   "execution_count": 104,
   "id": "basic-organization",
   "metadata": {},
   "outputs": [
    {
     "data": {
      "text/plain": [
       "[[1, 2, 3], [4, 5, 6], [7, 8, 9], [10, 20, 30], [40, 50, 60], [70, 80, 90]]"
      ]
     },
     "execution_count": 104,
     "metadata": {},
     "output_type": "execute_result"
    }
   ],
   "source": [
    "C"
   ]
  },
  {
   "cell_type": "markdown",
   "id": "precise-batman",
   "metadata": {},
   "source": [
    "In Python, list addition is **not element wise** it is just a concationation of lists."
   ]
  },
  {
   "cell_type": "markdown",
   "id": "cardiac-decision",
   "metadata": {},
   "source": [
    "**Element Wise Addition:**\n",
    "\n",
    "* numpy, pandas"
   ]
  },
  {
   "cell_type": "code",
   "execution_count": 110,
   "id": "korean-rotation",
   "metadata": {},
   "outputs": [],
   "source": [
    "# initialize the result matrix as zeros\n",
    "\n",
    "C = [[0, 0, 0],\n",
    "     [0, 0, 0],\n",
    "     [0, 0, 0]]"
   ]
  },
  {
   "cell_type": "code",
   "execution_count": 106,
   "id": "homeless-association",
   "metadata": {},
   "outputs": [
    {
     "data": {
      "text/plain": [
       "3"
      ]
     },
     "execution_count": 106,
     "metadata": {},
     "output_type": "execute_result"
    }
   ],
   "source": [
    "len(A)"
   ]
  },
  {
   "cell_type": "code",
   "execution_count": 107,
   "id": "southeast-daniel",
   "metadata": {},
   "outputs": [
    {
     "data": {
      "text/plain": [
       "3"
      ]
     },
     "execution_count": 107,
     "metadata": {},
     "output_type": "execute_result"
    }
   ],
   "source": [
    "len(B)"
   ]
  },
  {
   "cell_type": "code",
   "execution_count": 111,
   "id": "current-nelson",
   "metadata": {},
   "outputs": [
    {
     "data": {
      "text/plain": [
       "5"
      ]
     },
     "execution_count": 111,
     "metadata": {},
     "output_type": "execute_result"
    }
   ],
   "source": [
    "C[0][1]"
   ]
  },
  {
   "cell_type": "code",
   "execution_count": 112,
   "id": "fatal-fireplace",
   "metadata": {},
   "outputs": [],
   "source": [
    "# loops -> nested loop\n",
    "\n",
    "# iterate over rows of A\n",
    "for i in range(len(A)):\n",
    "    \n",
    "    # iterate over columns of B\n",
    "    for j in range(len(B)):\n",
    "        \n",
    "        C[i][j] = A[i][j] + B[i][j]\n"
   ]
  },
  {
   "cell_type": "code",
   "execution_count": 113,
   "id": "seven-protest",
   "metadata": {},
   "outputs": [
    {
     "data": {
      "text/plain": [
       "[[11, 22, 33], [44, 55, 66], [77, 88, 99]]"
      ]
     },
     "execution_count": 113,
     "metadata": {},
     "output_type": "execute_result"
    }
   ],
   "source": [
    "C"
   ]
  },
  {
   "cell_type": "code",
   "execution_count": null,
   "id": "previous-visibility",
   "metadata": {},
   "outputs": [],
   "source": []
  }
 ],
 "metadata": {
  "kernelspec": {
   "display_name": "Python 3",
   "language": "python",
   "name": "python3"
  },
  "language_info": {
   "codemirror_mode": {
    "name": "ipython",
    "version": 3
   },
   "file_extension": ".py",
   "mimetype": "text/x-python",
   "name": "python",
   "nbconvert_exporter": "python",
   "pygments_lexer": "ipython3",
   "version": "3.8.8"
  }
 },
 "nbformat": 4,
 "nbformat_minor": 5
}
