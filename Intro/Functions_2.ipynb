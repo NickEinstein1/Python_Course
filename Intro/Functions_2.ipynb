{
 "cells": [
  {
   "cell_type": "markdown",
   "id": "bfe51b11-b3d7-4366-a6a3-b10ced61a7e7",
   "metadata": {},
   "source": [
    "# Defining functions"
   ]
  },
  {
   "cell_type": "code",
   "execution_count": 1,
   "id": "db3b3cd9-e59b-4917-891a-8fd44ec40a9b",
   "metadata": {},
   "outputs": [],
   "source": [
    "# Without Parameters\n",
    "\n",
    "def function_name():\n",
    "    # print Line\n",
    "    print (\"My First function\")"
   ]
  },
  {
   "cell_type": "code",
   "execution_count": 2,
   "id": "172ad400-7752-4b4d-b0cd-460c30143525",
   "metadata": {},
   "outputs": [
    {
     "name": "stdout",
     "output_type": "stream",
     "text": [
      "My First function\n"
     ]
    }
   ],
   "source": [
    "# call function\n",
    "\n",
    "function_name()"
   ]
  },
  {
   "cell_type": "markdown",
   "id": "15169c29-4a56-4f89-a171-df371c9c6ed1",
   "metadata": {},
   "source": [
    "**Indent:** Python uses indent for scoping.\n",
    "\n",
    "        * indent: tab\n",
    "        * indent: 4 space"
   ]
  },
  {
   "cell_type": "code",
   "execution_count": 6,
   "id": "9c52d950-54bb-4d93-8f6b-4322dcd78701",
   "metadata": {},
   "outputs": [
    {
     "name": "stdout",
     "output_type": "stream",
     "text": [
      "Name: John Doe\n",
      "Age: 24\n",
      "Language: Python\n"
     ]
    }
   ],
   "source": [
    "# Student Data\n",
    "print(\"Name: John Doe\")\n",
    "print(\"Age: 24\")\n",
    "print(\"Language: Python\")"
   ]
  },
  {
   "cell_type": "code",
   "execution_count": 7,
   "id": "ca725eb4-b675-4a4a-9d0a-8aa6283c22f8",
   "metadata": {},
   "outputs": [
    {
     "name": "stdout",
     "output_type": "stream",
     "text": [
      "Name: John Doe\n",
      "Age: 24\n",
      "Language: Python\n"
     ]
    }
   ],
   "source": [
    "# we need student again\n",
    "print(\"Name: John Doe\")\n",
    "print(\"Age: 24\")\n",
    "print(\"Language: Python\")\n"
   ]
  },
  {
   "cell_type": "code",
   "execution_count": 9,
   "id": "ce268e58-3430-4063-ae5c-d94adcb2cb48",
   "metadata": {},
   "outputs": [],
   "source": [
    "# Define a function for student name\n",
    "\n",
    "def student_name():\n",
    "    print(\"Name: John Doe\")"
   ]
  },
  {
   "cell_type": "code",
   "execution_count": 12,
   "id": "235c2b3a-bfa5-468c-a978-f3010747679d",
   "metadata": {},
   "outputs": [
    {
     "name": "stdout",
     "output_type": "stream",
     "text": [
      "Name: John Doe\n"
     ]
    }
   ],
   "source": [
    "student_name()"
   ]
  },
  {
   "cell_type": "code",
   "execution_count": 10,
   "id": "2f99b91f-51cd-4faa-8373-4fb9b372594c",
   "metadata": {},
   "outputs": [],
   "source": [
    "#define  a function of student age:\n",
    "\n",
    "def student_age():\n",
    "    print(\"Age: 24\")"
   ]
  },
  {
   "cell_type": "code",
   "execution_count": 13,
   "id": "6d56b806-ad61-4ecf-a647-311fe6f47fd5",
   "metadata": {},
   "outputs": [
    {
     "name": "stdout",
     "output_type": "stream",
     "text": [
      "Age: 24\n"
     ]
    }
   ],
   "source": [
    "student_age()\n"
   ]
  },
  {
   "cell_type": "code",
   "execution_count": 22,
   "id": "00c3a5a0-466b-4fa7-bc8a-b51c4ec4c541",
   "metadata": {},
   "outputs": [],
   "source": [
    "#defijne a function for student language\n",
    "\n",
    "def student_language():\n",
    "    print(\"Language:Python\")"
   ]
  },
  {
   "cell_type": "code",
   "execution_count": 24,
   "id": "5da39db6-4b88-47ae-b2c2-6de9ee206186",
   "metadata": {},
   "outputs": [
    {
     "name": "stdout",
     "output_type": "stream",
     "text": [
      "Language:Python\n"
     ]
    }
   ],
   "source": [
    "student_language()"
   ]
  },
  {
   "cell_type": "code",
   "execution_count": 25,
   "id": "4438e381-8f1a-4032-a2b7-939bdfe4b8db",
   "metadata": {},
   "outputs": [
    {
     "name": "stdout",
     "output_type": "stream",
     "text": [
      "Name: John Doe\n",
      "Age: 24\n",
      "Language:Python\n"
     ]
    }
   ],
   "source": [
    "#Print student data again\n",
    "\n",
    "student_name()\n",
    "student_age()\n",
    "student_language()"
   ]
  },
  {
   "cell_type": "code",
   "execution_count": 29,
   "id": "50f00dbd-3694-4814-8489-7bf6481a47bc",
   "metadata": {},
   "outputs": [],
   "source": [
    "# one function to call all 3\n",
    "\n",
    "def student_data():\n",
    "    student_name()\n",
    "    student_age()\n",
    "    student_language()"
   ]
  },
  {
   "cell_type": "markdown",
   "id": "84d0d3ec-3b76-4e4b-aa6e-2de62294e708",
   "metadata": {},
   "source": [
    "# print all\n",
    "\n",
    "print(\"student_data\")"
   ]
  },
  {
   "cell_type": "code",
   "execution_count": 30,
   "id": "f6049053-0771-49c9-9574-ad30d1c5cf62",
   "metadata": {},
   "outputs": [
    {
     "name": "stdout",
     "output_type": "stream",
     "text": [
      "Name: John Doe\n",
      "Age: 24\n",
      "Language:Python\n"
     ]
    }
   ],
   "source": [
    "student_data()"
   ]
  },
  {
   "cell_type": "markdown",
   "id": "94117507-4e1b-4b1e-a018-c7e64112d4ce",
   "metadata": {},
   "source": [
    "We want to print students first name and second name separetly\n",
    "\n",
    "\"Name: Nick\"\n",
    "\n",
    "\"Lastname: Parker\""
   ]
  },
  {
   "cell_type": "code",
   "execution_count": 32,
   "id": "b2420dea-faa2-441f-a7ed-ee9564308748",
   "metadata": {},
   "outputs": [],
   "source": [
    "# Create two separate fucntions\n",
    "\n",
    "def  student_firstname():\n",
    "    print(\"Name: Nick\")\n",
    "\n",
    "\n",
    "def student_lastname():\n",
    "    print(\"Lastname: Parker\")\n",
    "    "
   ]
  },
  {
   "cell_type": "code",
   "execution_count": 36,
   "id": "6d0f8bef-407d-4248-bac7-acd53de13839",
   "metadata": {},
   "outputs": [],
   "source": [
    "def student_name():\n",
    "    student_firstname()\n",
    "    student_lastname()\n",
    "    "
   ]
  },
  {
   "cell_type": "code",
   "execution_count": 37,
   "id": "4ff953df-55e8-403e-b35f-82c95f88fa4e",
   "metadata": {},
   "outputs": [
    {
     "name": "stdout",
     "output_type": "stream",
     "text": [
      "Name: Nick\n",
      "Lastname: Parker\n"
     ]
    }
   ],
   "source": [
    "student_name()"
   ]
  },
  {
   "cell_type": "code",
   "execution_count": 38,
   "id": "f9c433af-801d-4820-865d-794b19cfbaa8",
   "metadata": {},
   "outputs": [
    {
     "name": "stdout",
     "output_type": "stream",
     "text": [
      "Name: Nick\n",
      "Lastname: Parker\n",
      "Age: 24\n",
      "Language:Python\n"
     ]
    }
   ],
   "source": [
    "student_data()"
   ]
  },
  {
   "cell_type": "code",
   "execution_count": null,
   "id": "f989b746-1307-41d0-9b87-9115277e1146",
   "metadata": {},
   "outputs": [],
   "source": [
    "\n"
   ]
  },
  {
   "cell_type": "markdown",
   "id": "43092cdb-151a-4367-8f8f-1f203243a91b",
   "metadata": {},
   "source": [
    "# Parameters (Arguments)"
   ]
  },
  {
   "cell_type": "markdown",
   "id": "c98c082a-6c2f-4a55-8e43-26a8c8665788",
   "metadata": {},
   "source": [
    "**Parameters:** are inputs ypu provide to the fucntion"
   ]
  },
  {
   "cell_type": "code",
   "execution_count": 2,
   "id": "52b1c1ec-f8ef-42a1-8fc0-c4427de82dd7",
   "metadata": {},
   "outputs": [],
   "source": [
    "#define a fucntion which takes a parameter\n",
    "\n",
    "def print_square(number):\n",
    "\n",
    "    # get the square\n",
    "    sqr = number**2\n",
    "\n",
    "    # print sqr\n",
    "    print(sqr)\n",
    "    "
   ]
  },
  {
   "cell_type": "code",
   "execution_count": 3,
   "id": "292139b9-01e9-4315-96c5-fb9207c0b141",
   "metadata": {},
   "outputs": [
    {
     "name": "stdout",
     "output_type": "stream",
     "text": [
      "36\n"
     ]
    }
   ],
   "source": [
    "print_square(6)"
   ]
  },
  {
   "cell_type": "markdown",
   "id": "37532f3f-6cfe-4a6d-b446-84b195491ee6",
   "metadata": {},
   "source": [
    "# Rectangle "
   ]
  },
  {
   "cell_type": "code",
   "execution_count": 4,
   "id": "1df09fde-ebd5-486e-a77a-6605862c5fc0",
   "metadata": {},
   "outputs": [],
   "source": [
    "# Function to print the area of the rectangle\n",
    "\n",
    "def area_of_rectangle(short, long):\n",
    "\n",
    "    # area -> asisgn to a variable\n",
    "\n",
    "    area = short * long\n",
    "\n",
    "    #print the area\n",
    "    print(area)\n",
    "\n"
   ]
  },
  {
   "cell_type": "code",
   "execution_count": 5,
   "id": "86541eea-9b80-4120-ba92-4ace30895e40",
   "metadata": {},
   "outputs": [
    {
     "name": "stdout",
     "output_type": "stream",
     "text": [
      "144\n"
     ]
    }
   ],
   "source": [
    "area_of_rectangle(9, 16)"
   ]
  },
  {
   "cell_type": "code",
   "execution_count": 8,
   "id": "8cbbcb5a-44cd-4ca5-8ec3-35ee6fe53388",
   "metadata": {},
   "outputs": [
    {
     "name": "stdout",
     "output_type": "stream",
     "text": [
      "144\n"
     ]
    }
   ],
   "source": [
    "s = 9\n",
    "u = 16\n",
    "\n",
    "area_of_rectangle(s,u)"
   ]
  },
  {
   "cell_type": "code",
   "execution_count": 18,
   "id": "4e2a6940-2758-4384-9adb-4fe204991c32",
   "metadata": {},
   "outputs": [],
   "source": [
    "#Example\n",
    "\n",
    "#first name\n",
    "def student_firstname(first):\n",
    "    print(\"Name: \" + first)\n",
    "    \n",
    "#Last name\n",
    "def student_lastname(last):\n",
    "    print(\"Lastname: \" + last)\n",
    "    \n",
    "# age\n",
    "def student_age(age):\n",
    "    print(\"Age: \" + str(age))\n",
    "\n",
    "# Language\n",
    "def student_language(lang):\n",
    "    print('Language: ' + lang)\n",
    "\n",
    "def student_data(firstname, lastname, age, language):\n",
    "\n",
    "    student_firstname(firstname)\n",
    "    \n",
    "    student_lastname(lastname)\n",
    "\n",
    "    student_age(age)\n",
    "    \n",
    "    student_language(language)\n",
    "    "
   ]
  },
  {
   "cell_type": "code",
   "execution_count": 19,
   "id": "f01ff61e-4386-46c6-afc7-27478dbc92ea",
   "metadata": {},
   "outputs": [
    {
     "name": "stdout",
     "output_type": "stream",
     "text": [
      "Name: Klark\n",
      "Lastname: Kent\n",
      "Age: 28\n",
      "Language: Python\n"
     ]
    }
   ],
   "source": [
    "first = 'Klark'\n",
    "last ='Kent'\n",
    "age = '28'\n",
    "lang ='Python'\n",
    "\n",
    "student_data(first, last, age, lang)"
   ]
  },
  {
   "cell_type": "markdown",
   "id": "0eb5f89d-07e0-44f2-8df2-73d571dfd750",
   "metadata": {},
   "source": [
    "# Scope\n",
    "\n",
    "**Scope:** is the region where the variables exist\n",
    "\n",
    "It is determined by indentation in python."
   ]
  },
  {
   "cell_type": "code",
   "execution_count": 1,
   "id": "f95e2451-eb3a-48a7-850e-a5fc026843cb",
   "metadata": {},
   "outputs": [],
   "source": [
    "# Function scope\n",
    "\n",
    "def scope_fn():\n",
    "    scope_var = 100\n",
    "    print(scope_var)\n",
    "\n",
    "    s2 = scope_var * 2\n",
    "    print(s2)\n",
    "    "
   ]
  },
  {
   "cell_type": "code",
   "execution_count": 2,
   "id": "7572eba3-7bd0-4749-961b-6d8f1d6594ec",
   "metadata": {},
   "outputs": [
    {
     "name": "stdout",
     "output_type": "stream",
     "text": [
      "100\n"
     ]
    }
   ],
   "source": [
    "# call the function\n",
    "scope_fn()"
   ]
  },
  {
   "cell_type": "code",
   "execution_count": null,
   "id": "fc34abf1-0e0f-4686-961c-e51d44c8cca4",
   "metadata": {},
   "outputs": [],
   "source": [
    "print(scope_var)"
   ]
  },
  {
   "cell_type": "code",
   "execution_count": 3,
   "id": "f38a528f-16fe-4a60-98b2-dee77a31831e",
   "metadata": {},
   "outputs": [],
   "source": [
    "# global scope\n",
    "\n",
    "short = 40\n",
    "long = 60"
   ]
  },
  {
   "cell_type": "code",
   "execution_count": 4,
   "id": "2d83d372-2fd1-4af5-b70e-e8801b824568",
   "metadata": {},
   "outputs": [
    {
     "data": {
      "text/plain": [
       "40"
      ]
     },
     "execution_count": 4,
     "metadata": {},
     "output_type": "execute_result"
    }
   ],
   "source": [
    "short"
   ]
  },
  {
   "cell_type": "code",
   "execution_count": 5,
   "id": "97ffc4cd-befa-48c5-85a9-190ffd5b9b95",
   "metadata": {},
   "outputs": [
    {
     "data": {
      "text/plain": [
       "60"
      ]
     },
     "execution_count": 5,
     "metadata": {},
     "output_type": "execute_result"
    }
   ],
   "source": [
    "long"
   ]
  },
  {
   "cell_type": "code",
   "execution_count": 6,
   "id": "ac5d27b7-f503-40df-af36-33d0d1bcd5c5",
   "metadata": {},
   "outputs": [],
   "source": [
    "# define a fucntion to use global scope variables\n",
    "\n",
    "def perimeter():\n",
    "\n",
    "    area_of_rect = short * long\n",
    "    print(area_of_rect)"
   ]
  },
  {
   "cell_type": "code",
   "execution_count": 8,
   "id": "1fe37222-4b51-47f0-ba62-c413a576c8ef",
   "metadata": {},
   "outputs": [
    {
     "name": "stdout",
     "output_type": "stream",
     "text": [
      "2400\n"
     ]
    }
   ],
   "source": [
    "perimeter()"
   ]
  },
  {
   "cell_type": "code",
   "execution_count": 12,
   "id": "20e4d6a7-d4f2-48f9-857f-c23c2d7b34e8",
   "metadata": {},
   "outputs": [],
   "source": [
    "# Changing of the variables\n",
    "\n",
    "def change_globals():\n",
    "\n",
    "    short = 20\n",
    "    long = 25\n",
    "    \n",
    "    print(short)\n",
    "  \n"
   ]
  },
  {
   "cell_type": "code",
   "execution_count": 13,
   "id": "35e67d50-04d7-4981-b63a-ae21b83aaf25",
   "metadata": {},
   "outputs": [
    {
     "name": "stdout",
     "output_type": "stream",
     "text": [
      "20\n"
     ]
    }
   ],
   "source": [
    "change_globals()"
   ]
  },
  {
   "cell_type": "code",
   "execution_count": 14,
   "id": "55f756f1-b37b-4db7-a832-9da25d1511b4",
   "metadata": {},
   "outputs": [
    {
     "data": {
      "text/plain": [
       "40"
      ]
     },
     "execution_count": 14,
     "metadata": {},
     "output_type": "execute_result"
    }
   ],
   "source": [
    "short"
   ]
  },
  {
   "cell_type": "code",
   "execution_count": 15,
   "id": "70c30305-e0fd-4168-a835-a029732af51a",
   "metadata": {},
   "outputs": [],
   "source": [
    "def change_globals():\n",
    "    global short\n",
    "    short = 20\n",
    "\n",
    "    global long\n",
    "    long = 25\n",
    "    \n",
    "    print(short)\n",
    "    print(long)"
   ]
  },
  {
   "cell_type": "code",
   "execution_count": 17,
   "id": "46d36a17-2632-4da0-9d8e-2605282a988b",
   "metadata": {},
   "outputs": [
    {
     "name": "stdout",
     "output_type": "stream",
     "text": [
      "20\n",
      "25\n"
     ]
    }
   ],
   "source": [
    "change_globals()"
   ]
  },
  {
   "cell_type": "code",
   "execution_count": 18,
   "id": "fe45d153-4378-444b-8ed4-ab1fa529be9e",
   "metadata": {},
   "outputs": [
    {
     "data": {
      "text/plain": [
       "20"
      ]
     },
     "execution_count": 18,
     "metadata": {},
     "output_type": "execute_result"
    }
   ],
   "source": [
    "short"
   ]
  },
  {
   "cell_type": "code",
   "execution_count": 19,
   "id": "459278db-d762-4b87-b67c-abb4e496026b",
   "metadata": {},
   "outputs": [
    {
     "data": {
      "text/plain": [
       "25"
      ]
     },
     "execution_count": 19,
     "metadata": {},
     "output_type": "execute_result"
    }
   ],
   "source": [
    "long"
   ]
  },
  {
   "cell_type": "code",
   "execution_count": 20,
   "id": "693b955e-8ef9-4b7b-ac3b-bb41200ec1fb",
   "metadata": {},
   "outputs": [],
   "source": [
    "def perimeter():\n",
    "\n",
    "    area_of_rect = short * long\n",
    "    print(area_of_rect)"
   ]
  },
  {
   "cell_type": "code",
   "execution_count": 21,
   "id": "a82d399f-88cc-4ce7-9d17-fa25bbaf5e00",
   "metadata": {},
   "outputs": [
    {
     "name": "stdout",
     "output_type": "stream",
     "text": [
      "500\n"
     ]
    }
   ],
   "source": [
    "perimeter()"
   ]
  },
  {
   "cell_type": "markdown",
   "id": "36b2e953-fa16-4396-bdb1-9548af95f226",
   "metadata": {},
   "source": [
    "# Return\n",
    " A function that returns a value -> return\n"
   ]
  },
  {
   "cell_type": "code",
   "execution_count": 24,
   "id": "52365980-09b0-4cf3-9c8a-26f37c797dc2",
   "metadata": {},
   "outputs": [],
   "source": [
    "# define a fn to retun a value\n",
    "\n",
    "def cube(n) :\n",
    "     # calculate the cube\n",
    "    n_cube = n**3\n",
    "\n",
    "    # return this n_cube\n",
    "    return n_cube\n",
    "    "
   ]
  },
  {
   "cell_type": "code",
   "execution_count": 25,
   "id": "d06e80bd-2bf9-462b-bc33-2f43f66b3a03",
   "metadata": {},
   "outputs": [
    {
     "name": "stdout",
     "output_type": "stream",
     "text": [
      "125\n"
     ]
    }
   ],
   "source": [
    "# call the function and get the reurned value\n",
    "\n",
    "num = 5\n",
    "\n",
    "cube_of_num = cube(num)\n",
    "\n",
    "print(cube_of_num)"
   ]
  },
  {
   "cell_type": "code",
   "execution_count": 27,
   "id": "5cc28b24-ab46-4a61-9d67-5294215356a7",
   "metadata": {},
   "outputs": [
    {
     "data": {
      "text/plain": [
       "64"
      ]
     },
     "execution_count": 27,
     "metadata": {},
     "output_type": "execute_result"
    }
   ],
   "source": [
    "n  =4\n",
    "\n",
    "returned_value = cube(n)\n",
    "returned_value\n"
   ]
  },
  {
   "cell_type": "code",
   "execution_count": 28,
   "id": "c60df297-ecae-4025-b36c-4a11270e85a0",
   "metadata": {},
   "outputs": [
    {
     "name": "stdout",
     "output_type": "stream",
     "text": [
      "27\n"
     ]
    }
   ],
   "source": [
    "print(cube(3))"
   ]
  },
  {
   "cell_type": "code",
   "execution_count": 32,
   "id": "d35fa3ff-ccda-4bcc-9ea2-921e9ba6f643",
   "metadata": {},
   "outputs": [],
   "source": [
    "def get_square(num) :\n",
    "    square = num**2\n",
    "    print(square)\n",
    "    return square"
   ]
  },
  {
   "cell_type": "code",
   "execution_count": 36,
   "id": "fb2d3f07-2707-4f1e-897a-a63b53b71716",
   "metadata": {},
   "outputs": [
    {
     "name": "stdout",
     "output_type": "stream",
     "text": [
      "16\n"
     ]
    }
   ],
   "source": [
    "num = 4\n",
    "\n",
    "square_of_num = get_square(num)\n",
    "\n"
   ]
  },
  {
   "cell_type": "code",
   "execution_count": 37,
   "id": "125a36a4-9190-41c5-acf3-f5745836aaa9",
   "metadata": {},
   "outputs": [],
   "source": [
    "def cube(n) :\n",
    "    n_cube = n**3\n",
    "    return n_cube\n",
    "\n",
    "    print(cube(3))"
   ]
  },
  {
   "cell_type": "markdown",
   "id": "197f37ee-0dd5-44e3-8eb6-26291c86c110",
   "metadata": {},
   "source": [
    "# Docustring"
   ]
  },
  {
   "cell_type": "code",
   "execution_count": 38,
   "id": "a8f147b5-9955-4ef3-9fbe-1628859c9536",
   "metadata": {},
   "outputs": [
    {
     "name": "stdout",
     "output_type": "stream",
     "text": [
      "Help on function cube in module __main__:\n",
      "\n",
      "cube(n)\n",
      "\n"
     ]
    }
   ],
   "source": [
    "help(cube)"
   ]
  },
  {
   "cell_type": "code",
   "execution_count": 39,
   "id": "44e7d37b-0900-461c-9ca2-27808e8afe2a",
   "metadata": {},
   "outputs": [
    {
     "data": {
      "text/plain": [
       "\u001b[1;31mSignature:\u001b[0m \u001b[0mcube\u001b[0m\u001b[1;33m(\u001b[0m\u001b[0mn\u001b[0m\u001b[1;33m)\u001b[0m\u001b[1;33m\u001b[0m\u001b[1;33m\u001b[0m\u001b[0m\n",
       "\u001b[1;31mDocstring:\u001b[0m <no docstring>\n",
       "\u001b[1;31mFile:\u001b[0m      c:\\users\\user\\appdata\\local\\temp\\ipykernel_15308\\2351680241.py\n",
       "\u001b[1;31mType:\u001b[0m      function"
      ]
     },
     "metadata": {},
     "output_type": "display_data"
    }
   ],
   "source": [
    "cube?\n"
   ]
  },
  {
   "cell_type": "code",
   "execution_count": 40,
   "id": "d01b34e0-1ddb-4f23-a578-c1e8b0c3a6a5",
   "metadata": {},
   "outputs": [
    {
     "data": {
      "text/plain": [
       "\u001b[1;31mSignature:\u001b[0m \u001b[0mcube\u001b[0m\u001b[1;33m(\u001b[0m\u001b[0mn\u001b[0m\u001b[1;33m)\u001b[0m\u001b[1;33m\u001b[0m\u001b[1;33m\u001b[0m\u001b[0m\n",
       "\u001b[1;31mDocstring:\u001b[0m <no docstring>\n",
       "\u001b[1;31mSource:\u001b[0m   \n",
       "\u001b[1;32mdef\u001b[0m \u001b[0mcube\u001b[0m\u001b[1;33m(\u001b[0m\u001b[0mn\u001b[0m\u001b[1;33m)\u001b[0m \u001b[1;33m:\u001b[0m\u001b[1;33m\n",
       "\u001b[0m    \u001b[0mn_cube\u001b[0m \u001b[1;33m=\u001b[0m \u001b[0mn\u001b[0m\u001b[1;33m**\u001b[0m\u001b[1;36m3\u001b[0m\u001b[1;33m\n",
       "\u001b[0m    \u001b[1;32mreturn\u001b[0m \u001b[0mn_cube\u001b[0m\u001b[1;33m\n",
       "\u001b[0m\u001b[1;33m\n",
       "\u001b[0m    \u001b[0mprint\u001b[0m\u001b[1;33m(\u001b[0m\u001b[0mcube\u001b[0m\u001b[1;33m(\u001b[0m\u001b[1;36m3\u001b[0m\u001b[1;33m)\u001b[0m\u001b[1;33m)\u001b[0m\u001b[1;33m\u001b[0m\u001b[1;33m\u001b[0m\u001b[0m\n",
       "\u001b[1;31mFile:\u001b[0m      c:\\users\\user\\appdata\\local\\temp\\ipykernel_15308\\2351680241.py\n",
       "\u001b[1;31mType:\u001b[0m      function"
      ]
     },
     "metadata": {},
     "output_type": "display_data"
    }
   ],
   "source": [
    "cube??"
   ]
  },
  {
   "cell_type": "code",
   "execution_count": 42,
   "id": "5594c445-3059-45a0-aae6-bc5235bf62c8",
   "metadata": {},
   "outputs": [],
   "source": [
    "def get_power(num, p):\n",
    "        ###calculates the power of number.\n",
    "       ### Paremeters: int num, p\n",
    "       ### Returns: the give power of the number\n",
    "  \n",
    "\n",
    "    # calculate the power\n",
    "    power = math.pow(num, p)\n",
    "\n",
    "    # return the power\n",
    "    return power\n",
    "    \n"
   ]
  },
  {
   "cell_type": "code",
   "execution_count": 43,
   "id": "e090f203-527e-499b-9a94-689711c1d7fb",
   "metadata": {},
   "outputs": [
    {
     "name": "stdout",
     "output_type": "stream",
     "text": [
      "Help on function get_power in module __main__:\n",
      "\n",
      "get_power(num, p)\n",
      "\n"
     ]
    }
   ],
   "source": [
    "help(get_power)"
   ]
  },
  {
   "cell_type": "code",
   "execution_count": null,
   "id": "bb2fd1a6-cc64-4f55-9248-cce8f27a35ff",
   "metadata": {},
   "outputs": [],
   "source": [
    " "
   ]
  }
 ],
 "metadata": {
  "kernelspec": {
   "display_name": "Python 3 (ipykernel)",
   "language": "python",
   "name": "python3"
  },
  "language_info": {
   "codemirror_mode": {
    "name": "ipython",
    "version": 3
   },
   "file_extension": ".py",
   "mimetype": "text/x-python",
   "name": "python",
   "nbconvert_exporter": "python",
   "pygments_lexer": "ipython3",
   "version": "3.13.1"
  }
 },
 "nbformat": 4,
 "nbformat_minor": 5
}
