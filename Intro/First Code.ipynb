{
 "cells": [
  {
   "cell_type": "markdown",
   "id": "bde46d13-179d-4a27-825e-7120e5508e6a",
   "metadata": {},
   "source": [
    "## First Program\n",
    "\n",
    "**Program:** A program is a set of instructions written in different programming languages,to solve specific tasks and solve problems."
   ]
  },
  {
   "cell_type": "code",
   "execution_count": 3,
   "id": "3ccd774c-1385-4afe-a310-43c24d8c5703",
   "metadata": {},
   "outputs": [
    {
     "name": "stdout",
     "output_type": "stream",
     "text": [
      "Hello World\n"
     ]
    }
   ],
   "source": [
    "print (\"Hello World\")"
   ]
  },
  {
   "cell_type": "code",
   "execution_count": 6,
   "id": "fb811958-0d56-4072-9714-1dbc982a969f",
   "metadata": {},
   "outputs": [
    {
     "name": "stdout",
     "output_type": "stream",
     "text": [
      "This is the second line\n"
     ]
    }
   ],
   "source": [
    "print (\"This is the second line\")"
   ]
  },
  {
   "cell_type": "markdown",
   "id": "1628cbc2-b049-412b-a15b-41e6b492b5f8",
   "metadata": {},
   "source": [
    "Python syntax does not have an issue with doublke or single quotes as shown below, nonetheless it is case senstive.\n",
    "As shown below: \n"
   ]
  },
  {
   "cell_type": "code",
   "execution_count": 7,
   "id": "d6897c1f-9e89-44d2-b0bd-1e0d39214ffb",
   "metadata": {},
   "outputs": [
    {
     "name": "stdout",
     "output_type": "stream",
     "text": [
      "Hello World\n"
     ]
    }
   ],
   "source": [
    "print ('Hello World')"
   ]
  },
  {
   "cell_type": "code",
   "execution_count": 8,
   "id": "b7c83579-fbf5-46fe-8038-8cfcba0e0893",
   "metadata": {},
   "outputs": [
    {
     "data": {
      "text/plain": [
       "14"
      ]
     },
     "execution_count": 8,
     "metadata": {},
     "output_type": "execute_result"
    }
   ],
   "source": [
    "10 + 4"
   ]
  },
  {
   "cell_type": "code",
   "execution_count": 9,
   "id": "f35daf13-4c99-4f23-b59b-ccc044b1034d",
   "metadata": {},
   "outputs": [
    {
     "name": "stdout",
     "output_type": "stream",
     "text": [
      "2467\n"
     ]
    }
   ],
   "source": [
    "print (2467)"
   ]
  },
  {
   "cell_type": "markdown",
   "id": "b024bd3b-fb4b-4b08-b1ae-cbcf2bba95b9",
   "metadata": {},
   "source": [
    "## Arithmetic Operations"
   ]
  },
  {
   "cell_type": "markdown",
   "id": "3b9bdc02-19ca-40e0-9f94-4d871b5f2d15",
   "metadata": {},
   "source": [
    "* Addition : +\n",
    "* Subraction: -\n",
    "* Division: /\n",
    "* Mutliplication *\n",
    "* Exponential :  **\n",
    "* Modulus: %\n",
    "* Floor division : //\n",
    " "
   ]
  },
  {
   "cell_type": "code",
   "execution_count": 10,
   "id": "ee2dd92e-62ea-462b-93b0-6af06cc6a215",
   "metadata": {},
   "outputs": [
    {
     "data": {
      "text/plain": [
       "63"
      ]
     },
     "execution_count": 10,
     "metadata": {},
     "output_type": "execute_result"
    }
   ],
   "source": [
    "34 + 29"
   ]
  },
  {
   "cell_type": "code",
   "execution_count": 11,
   "id": "23b2347f-f82a-4fc2-aa3c-554278a61da2",
   "metadata": {},
   "outputs": [
    {
     "data": {
      "text/plain": [
       "18.75"
      ]
     },
     "execution_count": 11,
     "metadata": {},
     "output_type": "execute_result"
    }
   ],
   "source": [
    "75 / 4"
   ]
  },
  {
   "cell_type": "code",
   "execution_count": 12,
   "id": "51cd6aef-03ca-4923-b73c-2888dd9d21e0",
   "metadata": {},
   "outputs": [
    {
     "data": {
      "text/plain": [
       "37"
      ]
     },
     "execution_count": 12,
     "metadata": {},
     "output_type": "execute_result"
    }
   ],
   "source": [
    "60 -23"
   ]
  },
  {
   "cell_type": "code",
   "execution_count": 13,
   "id": "dc08ad5a-7575-43bc-83f6-59fa0fcad1b5",
   "metadata": {},
   "outputs": [
    {
     "data": {
      "text/plain": [
       "1280"
      ]
     },
     "execution_count": 13,
     "metadata": {},
     "output_type": "execute_result"
    }
   ],
   "source": [
    "40 * 32"
   ]
  },
  {
   "cell_type": "code",
   "execution_count": 14,
   "id": "8798b5c1-4818-4959-bcd9-2eb1737271af",
   "metadata": {},
   "outputs": [
    {
     "data": {
      "text/plain": [
       "4100625"
      ]
     },
     "execution_count": 14,
     "metadata": {},
     "output_type": "execute_result"
    }
   ],
   "source": [
    "45 ** 4"
   ]
  },
  {
   "cell_type": "code",
   "execution_count": 16,
   "id": "059e8c8d-2709-470c-a082-d7d48624dbb0",
   "metadata": {},
   "outputs": [
    {
     "data": {
      "text/plain": [
       "2"
      ]
     },
     "execution_count": 16,
     "metadata": {},
     "output_type": "execute_result"
    }
   ],
   "source": [
    "2 % 10"
   ]
  },
  {
   "cell_type": "code",
   "execution_count": 17,
   "id": "5db94801-2a75-4f71-b1e2-ec44eefb0466",
   "metadata": {},
   "outputs": [
    {
     "data": {
      "text/plain": [
       "9"
      ]
     },
     "execution_count": 17,
     "metadata": {},
     "output_type": "execute_result"
    }
   ],
   "source": [
    "56 // 6"
   ]
  },
  {
   "cell_type": "markdown",
   "id": "cc5bfe40-2f38-4ec7-ad73-a0efb388c106",
   "metadata": {},
   "source": [
    "## Values and Types"
   ]
  },
  {
   "cell_type": "markdown",
   "id": "98da48c7-5053-4389-9c01-07ce0adc8c1c",
   "metadata": {},
   "source": [
    "**Values:** Anything in the program which holds data. "
   ]
  },
  {
   "cell_type": "code",
   "execution_count": 19,
   "id": "780b366c-b278-4cec-9e5c-84e245ad5deb",
   "metadata": {},
   "outputs": [
    {
     "data": {
      "text/plain": [
       "'Hello World'"
      ]
     },
     "execution_count": 19,
     "metadata": {},
     "output_type": "execute_result"
    }
   ],
   "source": [
    "\"Hello World\""
   ]
  },
  {
   "cell_type": "code",
   "execution_count": 20,
   "id": "0e27bed2-2c29-49c7-ae18-816bdf69cbab",
   "metadata": {},
   "outputs": [
    {
     "data": {
      "text/plain": [
       "2"
      ]
     },
     "execution_count": 20,
     "metadata": {},
     "output_type": "execute_result"
    }
   ],
   "source": [
    "2"
   ]
  },
  {
   "cell_type": "code",
   "execution_count": 22,
   "id": "50d2d550-9a10-4268-96d3-a1f781b21e6d",
   "metadata": {},
   "outputs": [
    {
     "data": {
      "text/plain": [
       "str"
      ]
     },
     "execution_count": 22,
     "metadata": {},
     "output_type": "execute_result"
    }
   ],
   "source": [
    "type(\"hello World\")"
   ]
  },
  {
   "cell_type": "code",
   "execution_count": 23,
   "id": "fa2c32b6-e25a-4a34-82b5-152c941250de",
   "metadata": {},
   "outputs": [
    {
     "data": {
      "text/plain": [
       "int"
      ]
     },
     "execution_count": 23,
     "metadata": {},
     "output_type": "execute_result"
    }
   ],
   "source": [
    "type(2)"
   ]
  },
  {
   "cell_type": "code",
   "execution_count": 24,
   "id": "c0ea92d7-c1cb-4d87-add8-744454d85ffa",
   "metadata": {},
   "outputs": [
    {
     "data": {
      "text/plain": [
       "float"
      ]
     },
     "execution_count": 24,
     "metadata": {},
     "output_type": "execute_result"
    }
   ],
   "source": [
    "type(5.5)"
   ]
  },
  {
   "cell_type": "code",
   "execution_count": 26,
   "id": "82459e78-324d-4649-ae15-8331a8cf3a5a",
   "metadata": {},
   "outputs": [
    {
     "data": {
      "text/plain": [
       "str"
      ]
     },
     "execution_count": 26,
     "metadata": {},
     "output_type": "execute_result"
    }
   ],
   "source": [
    "type('a')"
   ]
  },
  {
   "cell_type": "markdown",
   "id": "aa53c4c5-42d9-4fd8-bab6-ab3e5846e133",
   "metadata": {},
   "source": [
    "## Quiz"
   ]
  },
  {
   "cell_type": "code",
   "execution_count": 31,
   "id": "4749fac9-6ff8-42f9-80f8-81c181ae5897",
   "metadata": {},
   "outputs": [
    {
     "name": "stdout",
     "output_type": "stream",
     "text": [
      "1476\n"
     ]
    }
   ],
   "source": [
    "seconds = (24 * 60 + 36)\n",
    "print (seconds)"
   ]
  },
  {
   "cell_type": "code",
   "execution_count": 41,
   "id": "d4f9e30a-591a-43ed-a994-148213490245",
   "metadata": {},
   "outputs": [
    {
     "name": "stdout",
     "output_type": "stream",
     "text": [
      "337.5\n"
     ]
    }
   ],
   "source": [
    "Distance =  450\n",
    "Speed = 80\n",
    "minutes = 60 \n",
    "\n",
    "Time = (Distance) / (Speed) * minutes\n",
    "\n",
    "print (Time)"
   ]
  },
  {
   "cell_type": "code",
   "execution_count": 42,
   "id": "997ef082-a557-49dc-9692-d73e38d161ce",
   "metadata": {},
   "outputs": [
    {
     "data": {
      "text/plain": [
       "16384"
      ]
     },
     "execution_count": 42,
     "metadata": {},
     "output_type": "execute_result"
    }
   ],
   "source": [
    "2 ** 14"
   ]
  },
  {
   "cell_type": "code",
   "execution_count": 43,
   "id": "2fada9e7-c076-4ba1-9237-9ec57a73dffd",
   "metadata": {},
   "outputs": [
    {
     "name": "stdout",
     "output_type": "stream",
     "text": [
      "Python I love you :)\n"
     ]
    }
   ],
   "source": [
    "print (\"Python I love you :)\")"
   ]
  },
  {
   "cell_type": "code",
   "execution_count": 44,
   "id": "33c9c06c-c9c5-4a53-b108-0cdc8a0e7263",
   "metadata": {},
   "outputs": [
    {
     "data": {
      "text/plain": [
       "int"
      ]
     },
     "execution_count": 44,
     "metadata": {},
     "output_type": "execute_result"
    }
   ],
   "source": [
    "type(15)"
   ]
  },
  {
   "cell_type": "code",
   "execution_count": 45,
   "id": "2b4d565c-ad19-4954-8433-14a12efa30fa",
   "metadata": {},
   "outputs": [
    {
     "data": {
      "text/plain": [
       "str"
      ]
     },
     "execution_count": 45,
     "metadata": {},
     "output_type": "execute_result"
    }
   ],
   "source": [
    "type(\"Hi Python\")"
   ]
  },
  {
   "cell_type": "code",
   "execution_count": 49,
   "id": "5c40f3c0-a41c-4d4b-85d3-229cd3ed3241",
   "metadata": {},
   "outputs": [
    {
     "name": "stdout",
     "output_type": "stream",
     "text": [
      "9.0\n"
     ]
    }
   ],
   "source": [
    "x = (4**3 + 17) ** 0.5\n",
    "print (x)"
   ]
  },
  {
   "cell_type": "code",
   "execution_count": null,
   "id": "17398673-9c18-4e18-b2bb-592b3eaa396a",
   "metadata": {},
   "outputs": [],
   "source": []
  }
 ],
 "metadata": {
  "kernelspec": {
   "display_name": "Python 3 (ipykernel)",
   "language": "python",
   "name": "python3"
  },
  "language_info": {
   "codemirror_mode": {
    "name": "ipython",
    "version": 3
   },
   "file_extension": ".py",
   "mimetype": "text/x-python",
   "name": "python",
   "nbconvert_exporter": "python",
   "pygments_lexer": "ipython3",
   "version": "3.13.1"
  }
 },
 "nbformat": 4,
 "nbformat_minor": 5
}
