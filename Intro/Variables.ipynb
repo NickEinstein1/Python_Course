{
 "cells": [
  {
   "cell_type": "markdown",
   "id": "d5c4d4c7-43bc-4321-a044-aba9201743ab",
   "metadata": {},
   "source": [
    " ## Variables"
   ]
  },
  {
   "cell_type": "markdown",
   "id": "8685e6f3-65d6-4a76-a312-8f650b132c4f",
   "metadata": {},
   "source": [
    " **Variables:** is a name or symbol used to store data or information in a program. \n",
    "It acts like a container that holds a value, which can be used and manipulated throughout the program."
   ]
  },
  {
   "cell_type": "markdown",
   "id": "23285b11-3b51-47f4-a614-fa2865375385",
   "metadata": {},
   "source": [
    "**=:** - this is expression we use to assign the variables."
   ]
  },
  {
   "cell_type": "code",
   "execution_count": 2,
   "id": "3bdd6020-66c2-470d-bc83-1ffc81e1146c",
   "metadata": {},
   "outputs": [],
   "source": [
    "a = 34"
   ]
  },
  {
   "cell_type": "code",
   "execution_count": 3,
   "id": "3529e07b-a2f1-4f39-828e-953a989a7c27",
   "metadata": {},
   "outputs": [
    {
     "data": {
      "text/plain": [
       "34"
      ]
     },
     "execution_count": 3,
     "metadata": {},
     "output_type": "execute_result"
    }
   ],
   "source": [
    "a"
   ]
  },
  {
   "cell_type": "code",
   "execution_count": 4,
   "id": "3693d30c-17bd-4c87-83f1-61d00f7a6cec",
   "metadata": {},
   "outputs": [],
   "source": [
    "info = \"Python name comes from Monthy Python and Holly Grail\""
   ]
  },
  {
   "cell_type": "code",
   "execution_count": 5,
   "id": "c9f233bc-b22b-4338-82e3-b5dfada457a4",
   "metadata": {},
   "outputs": [
    {
     "data": {
      "text/plain": [
       "'Python name comes from Monthy Python and Holly Grail'"
      ]
     },
     "execution_count": 5,
     "metadata": {},
     "output_type": "execute_result"
    }
   ],
   "source": [
    "info"
   ]
  },
  {
   "cell_type": "code",
   "execution_count": 6,
   "id": "100269b9-8936-4461-ab39-8ff322c3fb52",
   "metadata": {},
   "outputs": [
    {
     "name": "stdout",
     "output_type": "stream",
     "text": [
      "3.1415\n"
     ]
    }
   ],
   "source": [
    "pi = 3.1415\n",
    "print(pi)"
   ]
  },
  {
   "cell_type": "code",
   "execution_count": 7,
   "id": "f23d6bc0-6617-499b-9506-d52cc009d43d",
   "metadata": {},
   "outputs": [],
   "source": [
    "n = 40"
   ]
  },
  {
   "cell_type": "code",
   "execution_count": 8,
   "id": "2b22753c-ffae-4a9f-ae97-6df5c238d392",
   "metadata": {},
   "outputs": [
    {
     "data": {
      "text/plain": [
       "40"
      ]
     },
     "execution_count": 8,
     "metadata": {},
     "output_type": "execute_result"
    }
   ],
   "source": [
    "n"
   ]
  },
  {
   "cell_type": "code",
   "execution_count": 9,
   "id": "a78f0c74-5c50-4609-897f-b80dab71ecf4",
   "metadata": {},
   "outputs": [],
   "source": [
    "b = 30"
   ]
  },
  {
   "cell_type": "code",
   "execution_count": 10,
   "id": "cc1001ff-9774-463d-a4b3-ca426c6ad8fd",
   "metadata": {},
   "outputs": [
    {
     "data": {
      "text/plain": [
       "30"
      ]
     },
     "execution_count": 10,
     "metadata": {},
     "output_type": "execute_result"
    }
   ],
   "source": [
    "b"
   ]
  },
  {
   "cell_type": "markdown",
   "id": "5e021a2d-76fa-4d6e-8391-0366e0187e89",
   "metadata": {},
   "source": [
    " ## Variable Names"
   ]
  },
  {
   "cell_type": "markdown",
   "id": "72220e08-6e2c-45fa-9759-ed6337bd5504",
   "metadata": {},
   "source": [
    "They should not include :\n",
    "\n",
    "* Spaces\n",
    "* Start with a Number\n",
    "* Include Special Characters\n",
    "* Keywords\n",
    "\n"
   ]
  },
  {
   "cell_type": "code",
   "execution_count": 15,
   "id": "8c9da0e6-23d1-4409-a0ac-269a77b2fc7a",
   "metadata": {},
   "outputs": [
    {
     "name": "stdout",
     "output_type": "stream",
     "text": [
      "Hello my dear\n",
      "python\n"
     ]
    }
   ],
   "source": [
    "print(\"Hello my dear\\npython\")"
   ]
  },
  {
   "cell_type": "code",
   "execution_count": 18,
   "id": "da7917a3-9351-4a7c-8b00-1e57a160bf36",
   "metadata": {},
   "outputs": [],
   "source": [
    "import keyword"
   ]
  },
  {
   "cell_type": "code",
   "execution_count": 19,
   "id": "bce1a697-86bb-46ef-be03-093027bdbee4",
   "metadata": {},
   "outputs": [
    {
     "name": "stdout",
     "output_type": "stream",
     "text": [
      "['False', 'None', 'True', 'and', 'as', 'assert', 'async', 'await', 'break', 'class', 'continue', 'def', 'del', 'elif', 'else', 'except', 'finally', 'for', 'from', 'global', 'if', 'import', 'in', 'is', 'lambda', 'nonlocal', 'not', 'or', 'pass', 'raise', 'return', 'try', 'while', 'with', 'yield']\n"
     ]
    }
   ],
   "source": [
    "python_keywords = keyword.kwlist\n",
    "\n",
    "print(python_keywords)\n"
   ]
  },
  {
   "cell_type": "code",
   "execution_count": 24,
   "id": "2d41de22-87fd-456b-a777-18b763f37a5a",
   "metadata": {},
   "outputs": [
    {
     "data": {
      "text/plain": [
       "True"
      ]
     },
     "execution_count": 24,
     "metadata": {},
     "output_type": "execute_result"
    }
   ],
   "source": [
    "keyword.iskeyword('for')"
   ]
  },
  {
   "cell_type": "markdown",
   "id": "14f2a9a5-edf3-482e-b32e-9ef653579941",
   "metadata": {},
   "source": [
    "## QUIZ"
   ]
  },
  {
   "cell_type": "code",
   "execution_count": 29,
   "id": "121954de-af95-4e93-be4e-03719be74e12",
   "metadata": {},
   "outputs": [
    {
     "name": "stdout",
     "output_type": "stream",
     "text": [
      "Hello World!\n"
     ]
    }
   ],
   "source": [
    "print(\"Hello World!\")"
   ]
  },
  {
   "cell_type": "code",
   "execution_count": null,
   "id": "1d7abe1a-eda6-4144-8a26-edf765f3f8f9",
   "metadata": {},
   "outputs": [],
   "source": []
  }
 ],
 "metadata": {
  "kernelspec": {
   "display_name": "Python 3 (ipykernel)",
   "language": "python",
   "name": "python3"
  },
  "language_info": {
   "codemirror_mode": {
    "name": "ipython",
    "version": 3
   },
   "file_extension": ".py",
   "mimetype": "text/x-python",
   "name": "python",
   "nbconvert_exporter": "python",
   "pygments_lexer": "ipython3",
   "version": "3.13.1"
  }
 },
 "nbformat": 4,
 "nbformat_minor": 5
}
